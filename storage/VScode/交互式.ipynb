{
 "cells": [
  {
   "cell_type": "code",
   "execution_count": 1,
   "metadata": {},
   "outputs": [
    {
     "name": "stdout",
     "output_type": "stream",
     "text": [
      "[1]\n",
      "[1, 2]\n",
      "<function foo at 0x000001AC5160A660>\n"
     ]
    }
   ],
   "source": [
    "def foo(a=[]):#如果使用可变对象（例如列表、字典等）作为默认参数，\n",
    "  #这个默认参数在后续的函数调用中会被共享。\n",
    "    return a\n",
    "b = foo()\n",
    "b.append(1)\n",
    "c = foo()\n",
    "print(c)\n",
    "c.append(2)\n",
    "print(c)\n",
    "print(foo)\n"
   ]
  },
  {
   "cell_type": "code",
   "execution_count": 2,
   "metadata": {},
   "outputs": [
    {
     "name": "stdout",
     "output_type": "stream",
     "text": [
      "[1, 2, 3]\n",
      "2\n"
     ]
    }
   ],
   "source": [
    "res = []\n",
    "res.append(1)\n",
    "res.append(2)\n",
    "res.append(3)\n",
    "print(res)\n",
    "print(res[1])"
   ]
  },
  {
   "cell_type": "code",
   "execution_count": 2,
   "metadata": {},
   "outputs": [
    {
     "name": "stdout",
     "output_type": "stream",
     "text": [
      "b2fs\n",
      "dasf\n",
      "2\n"
     ]
    }
   ],
   "source": [
    "def num(*args):\n",
    "    for i in args:\n",
    "        print(i)\n",
    "num('b2fs','dasf',2)\n"
   ]
  },
  {
   "cell_type": "code",
   "execution_count": 3,
   "metadata": {},
   "outputs": [
    {
     "name": "stdout",
     "output_type": "stream",
     "text": [
      "[[0], [9], [8], [',']]\n"
     ]
    }
   ],
   "source": [
    "n = [[0],[9],[8],[\",\"]]\n",
    "print(str(n))"
   ]
  },
  {
   "cell_type": "code",
   "execution_count": 11,
   "metadata": {},
   "outputs": [
    {
     "name": "stdout",
     "output_type": "stream",
     "text": [
      "['1,', ',', '2']\n",
      "[\"['1\", \"'\", \" '\", \"'\", \" '2']\"]\n"
     ]
    }
   ],
   "source": [
    "res = []\n",
    "res.append(str(1)+\",\")\n",
    "res.append(\",\")\n",
    "res.append(str(2))\n",
    "print(str(res))\n",
    "res = str(res)\n",
    "res = res.split(\",\")\n",
    "print(res)\n"
   ]
  },
  {
   "cell_type": "code",
   "execution_count": 1,
   "metadata": {},
   "outputs": [
    {
     "name": "stdout",
     "output_type": "stream",
     "text": [
      "[1, 2, 3, 4, 5]\n"
     ]
    }
   ],
   "source": [
    "l,r = 0,0\n",
    "res = []\n",
    "n = [1,2,3,4,5]\n",
    "while r < len(n):\n",
    "    res.append(n[r])\n",
    "    r += 1\n",
    "print(res)\n"
   ]
  },
  {
   "cell_type": "code",
   "execution_count": 2,
   "metadata": {},
   "outputs": [
    {
     "name": "stdout",
     "output_type": "stream",
     "text": [
      "[[0, 0, 0], [0, 0, 0], [0, 0, 0]]\n"
     ]
    }
   ],
   "source": [
    "memo = [[0 for _ in range(2+1)] for _ in range(2+1)]\n",
    "print(memo)"
   ]
  },
  {
   "cell_type": "code",
   "execution_count": 19,
   "metadata": {},
   "outputs": [
    {
     "name": "stdout",
     "output_type": "stream",
     "text": [
      "13\n",
      "['13']\n"
     ]
    }
   ],
   "source": [
    "res = str()\n",
    "res+=str(1)\n",
    "res+=str(3)\n",
    "print(res)\n",
    "print(res.split(\" \"))"
   ]
  },
  {
   "cell_type": "code",
   "execution_count": 5,
   "metadata": {},
   "outputs": [
    {
     "name": "stdout",
     "output_type": "stream",
     "text": [
      "0\n",
      "None\n",
      "None\n",
      "None\n"
     ]
    }
   ],
   "source": [
    "class Solution(object):\n",
    "    def removeDuplicates(self, nums):\n",
    "        if not nums:\n",
    "            return 0\n",
    "        left = self.removeDuplicates(nums[1:])\n",
    "        print(left)\n",
    "n = Solution()\n",
    "nums = [1,1,2]\n",
    "print(n.removeDuplicates(nums))"
   ]
  },
  {
   "cell_type": "code",
   "execution_count": 3,
   "metadata": {},
   "outputs": [
    {
     "name": "stdout",
     "output_type": "stream",
     "text": [
      "4\n",
      "[1, 2, 3, [4, 5, 6]]\n",
      "[]\n"
     ]
    }
   ],
   "source": [
    "s = [1, 2, 3]\n",
    "t = [4, 5, 6]\n",
    "s.append(t)\n",
    "print(len(s))\n",
    "print(s)\n",
    "print(s[0:0])"
   ]
  },
  {
   "cell_type": "code",
   "execution_count": 4,
   "metadata": {},
   "outputs": [
    {
     "name": "stdout",
     "output_type": "stream",
     "text": [
      "4\n"
     ]
    }
   ],
   "source": [
    "print(len('djfk'))\n"
   ]
  },
  {
   "cell_type": "code",
   "execution_count": 5,
   "metadata": {},
   "outputs": [
    {
     "name": "stdout",
     "output_type": "stream",
     "text": [
      "54321\n"
     ]
    }
   ],
   "source": [
    "ls = [1, 2, 3, 4, 5]\n",
    "ls = ls[::-1]\n",
    "result = ''.join(map(str,ls))\n",
    "print(int(result))"
   ]
  },
  {
   "cell_type": "code",
   "execution_count": 6,
   "metadata": {},
   "outputs": [
    {
     "name": "stdout",
     "output_type": "stream",
     "text": [
      "1\n",
      "1\n"
     ]
    }
   ],
   "source": [
    "a = 1\n",
    "i = a\n",
    "print(i)\n",
    "a = 6\n",
    "print(i)"
   ]
  },
  {
   "cell_type": "code",
   "execution_count": 7,
   "metadata": {},
   "outputs": [
    {
     "name": "stdout",
     "output_type": "stream",
     "text": [
      "\n"
     ]
    }
   ],
   "source": [
    "total = '0'\n",
    "total = total[:-1]\n",
    "print(total)"
   ]
  },
  {
   "cell_type": "code",
   "execution_count": 8,
   "metadata": {},
   "outputs": [
    {
     "name": "stdout",
     "output_type": "stream",
     "text": [
      "delayed\n",
      "delayed\n"
     ]
    },
    {
     "data": {
      "text/plain": [
       "6"
      ]
     },
     "execution_count": 8,
     "metadata": {},
     "output_type": "execute_result"
    }
   ],
   "source": [
    "def delay(arg):\n",
    "    print('delayed')\n",
    "    def g():\n",
    "        return arg\n",
    "    return g\n",
    "#delay(delay)(6)\n",
    "#TypeError: delay.<locals>.g() takes 0 positional arguments but 1 was given\n",
    "delay(delay)()(6)()"
   ]
  },
  {
   "cell_type": "markdown",
   "metadata": {},
   "source": [
    "#注意：g()函数不会自动调用，需要额外()才能调用。\n",
    "\n",
    "2. 调用 delay(delay)\n",
    "行为：\n",
    "将 delay 函数本身作为参数传递给 delay 函数。\n",
    "打印 'delayed'。\n",
    "返回一个函数 g，这个 g 的作用是返回 delay 函数本身。\n",
    "返回值：g，即一个返回 delay 函数的函数。\n",
    "3. 调用 delay(delay)()\n",
    "行为：\n",
    "执行上一步返回的函数 g，即调用 g()。\n",
    "g() 返回 delay 函数本身。\n",
    "返回值：delay 函数。\n",
    "4. 调用 delay(delay)()(6)\n",
    "行为：\n",
    "将 6 作为参数传递给 delay 函数。\n",
    "打印 'delayed'。\n",
    "返回一个新的函数 g，这个 g 的作用是返回 6。\n",
    "返回值：g，即一个返回 6 的函数。\n",
    "5. 调用 delay(delay)()(6)()\n",
    "行为：\n",
    "执行上一步返回的函数 g，即调用 g()。\n",
    "g() 返回 6。\n",
    "返回值：6。\n",
    "总结\n",
    "主要功能：这段代码通过嵌套函数和延迟调用的方式，逐步传递参数并最终返回结果。\n",
    "关键点：\n",
    "delay 是一个高阶函数，它返回一个函数而不是直接返回值。\n",
    "通过多次调用，逐步传递参数并最终返回结果。\n",
    "每次调用 delay 都会打印 'delayed'，表明延迟调用的过程。\n",
    "最终结果：代码最终返回 6，并在过程中打印了两次 'delayed'。"
   ]
  },
  {
   "cell_type": "code",
   "execution_count": 9,
   "metadata": {},
   "outputs": [
    {
     "data": {
      "text/plain": [
       "'8333333333333334'"
      ]
     },
     "execution_count": 9,
     "metadata": {},
     "output_type": "execute_result"
    }
   ],
   "source": [
    "n = 5\n",
    "d = 6\n",
    "num = str((n/d)).replace('0.','')\n",
    "num"
   ]
  },
  {
   "cell_type": "code",
   "execution_count": 10,
   "metadata": {},
   "outputs": [
    {
     "data": {
      "text/plain": [
       "4"
      ]
     },
     "execution_count": 10,
     "metadata": {},
     "output_type": "execute_result"
    }
   ],
   "source": [
    "a = 1\n",
    "def f(g):\n",
    "    a = 2\n",
    "    return lambda y: a * g(y)\n",
    "f(lambda y: a + y)(a)"
   ]
  },
  {
   "cell_type": "markdown",
   "metadata": {},
   "source": [
    "#为什么g(y)是g*y的意思\n",
    "f(lambda y: a + y)和f(g)看出 g = lambda y: a + y 的意思"
   ]
  },
  {
   "cell_type": "code",
   "execution_count": 11,
   "metadata": {},
   "outputs": [
    {
     "name": "stdout",
     "output_type": "stream",
     "text": [
      "<class 'int'>\n",
      "False\n",
      "<class 'int'>\n"
     ]
    }
   ],
   "source": [
    "class Link:\n",
    "    \"\"\"A linked list.\n",
    "\n",
    "    >>> s = Link(1)\n",
    "    >>> s.first\n",
    "    1\n",
    "    >>> s.rest is Link.empty\n",
    "    True\n",
    "    >>> s = Link(2, Link(3, Link(4)))\n",
    "    >>> s.first = 5\n",
    "    >>> s.rest.first = 6\n",
    "    >>> s.rest.rest = Link.empty\n",
    "    >>> s                                    # Displays the contents of repr(s)\n",
    "    Link(5, Link(6))\n",
    "    >>> s.rest = Link(7, Link(Link(8, Link(9))))\n",
    "    >>> s\n",
    "    Link(5, Link(7, Link(Link(8, Link(9)))))\n",
    "    >>> print(s)                             # Prints str(s)\n",
    "    <5 7 <8 9>>\n",
    "    \"\"\"\n",
    "    empty = ()\n",
    "    def __init__(self, first, rest=empty):\n",
    "        assert rest is Link.empty or isinstance(rest, Link)\n",
    "        self.first = first\n",
    "        self.rest = rest\n",
    "\n",
    "    def __repr__(self):\n",
    "        if self.rest is not Link.empty:\n",
    "            rest_repr = ', ' + repr(self.rest)\n",
    "        else:\n",
    "            rest_repr = ''\n",
    "        return 'Link(' + repr(self.first) + rest_repr + ')'\n",
    "\n",
    "    def __str__(self):\n",
    "        string = '<'\n",
    "        while self.rest is not Link.empty:\n",
    "            string += str(self.first) + ' '\n",
    "            self = self.rest\n",
    "        return string + str(self.first) + '>'\n",
    "#Link(1000, 2000) 第二个参数是Link对象或者Link.empty\n",
    "#link = Link(1000, Link()) 参数Link()必须符合Link的定义，即第一个参数不为空\n",
    "#Link()==Link.empty#TypeError: Link.__init__() missing 1 required positional argument: 'first'\n",
    "\n",
    "# s = Link(1)\n",
    "# s.rest = s  \n",
    "# s.rest.first.rest is s\n",
    "\n",
    "a = Link(1, Link(6, Link(8)))\n",
    "print(type(a.first)) #<class 'int'>\n",
    "print(a.first==int) #False\n",
    "print(type(1)) #<class 'int'>\n",
    "\n"
   ]
  },
  {
   "cell_type": "code",
   "execution_count": 12,
   "metadata": {},
   "outputs": [
    {
     "name": "stdout",
     "output_type": "stream",
     "text": [
      "<class 'int'>\n",
      "False\n",
      "<class 'int'>\n"
     ]
    }
   ],
   "source": [
    "class Link:\n",
    "    \"\"\"A linked list.\n",
    "\n",
    "    >>> s = Link(1)\n",
    "    >>> s.first\n",
    "    1\n",
    "    >>> s.rest is Link.empty\n",
    "    True\n",
    "    >>> s = Link(2, Link(3, Link(4)))\n",
    "    >>> s.first = 5\n",
    "    >>> s.rest.first = 6\n",
    "    >>> s.rest.rest = Link.empty\n",
    "    >>> s                                    # Displays the contents of repr(s)\n",
    "    Link(5, Link(6))\n",
    "    >>> s.rest = Link(7, Link(Link(8, Link(9))))\n",
    "    >>> s\n",
    "    Link(5, Link(7, Link(Link(8, Link(9)))))\n",
    "    >>> print(s)                             # Prints str(s)\n",
    "    <5 7 <8 9>>\n",
    "    \"\"\"\n",
    "    empty = ()\n",
    "    def __init__(self, first, rest=empty):\n",
    "        assert rest is Link.empty or isinstance(rest, Link)\n",
    "        self.first = first\n",
    "        self.rest = rest\n",
    "\n",
    "    def __repr__(self):\n",
    "        if self.rest is not Link.empty:\n",
    "            rest_repr = ', ' + repr(self.rest)\n",
    "        else:\n",
    "            rest_repr = ''\n",
    "        return 'Link(' + repr(self.first) + rest_repr + ')'\n",
    "\n",
    "    def __str__(self):\n",
    "        string = '<'\n",
    "        while self.rest is not Link.empty:\n",
    "            string += str(self.first) + ' '\n",
    "            self = self.rest\n",
    "        return string + str(self.first) + '>'\n",
    "#Link(1000, 2000) 第二个参数是Link对象或者Link.empty\n",
    "#link = Link(1000, Link()) 参数Link()必须符合Link的定义，即第一个参数不为空\n",
    "#Link()==Link.empty#TypeError: Link.__init__() missing 1 required positional argument: 'first'\n",
    "\n",
    "# s = Link(1)\n",
    "# s.rest = s  \n",
    "# s.rest.first.rest is s\n",
    "\n",
    "a = Link(1, Link(6, Link(8)))\n",
    "print(type(a.first)) #<class 'int'>\n",
    "print(a.first==int) #False\n",
    "print(type(1)) #<class 'int'>\n",
    "\n"
   ]
  },
  {
   "cell_type": "code",
   "execution_count": 13,
   "metadata": {},
   "outputs": [
    {
     "name": "stdout",
     "output_type": "stream",
     "text": [
      "<class 'int'>\n",
      "False\n",
      "<class 'int'>\n"
     ]
    }
   ],
   "source": [
    "class Link:\n",
    "    \"\"\"A linked list.\n",
    "\n",
    "    >>> s = Link(1)\n",
    "    >>> s.first\n",
    "    1\n",
    "    >>> s.rest is Link.empty\n",
    "    True\n",
    "    >>> s = Link(2, Link(3, Link(4)))\n",
    "    >>> s.first = 5\n",
    "    >>> s.rest.first = 6\n",
    "    >>> s.rest.rest = Link.empty\n",
    "    >>> s                                    # Displays the contents of repr(s)\n",
    "    Link(5, Link(6))\n",
    "    >>> s.rest = Link(7, Link(Link(8, Link(9))))\n",
    "    >>> s\n",
    "    Link(5, Link(7, Link(Link(8, Link(9)))))\n",
    "    >>> print(s)                             # Prints str(s)\n",
    "    <5 7 <8 9>>\n",
    "    \"\"\"\n",
    "    empty = ()\n",
    "    def __init__(self, first, rest=empty):\n",
    "        assert rest is Link.empty or isinstance(rest, Link)\n",
    "        self.first = first\n",
    "        self.rest = rest\n",
    "\n",
    "    def __repr__(self):\n",
    "        if self.rest is not Link.empty:\n",
    "            rest_repr = ', ' + repr(self.rest)\n",
    "        else:\n",
    "            rest_repr = ''\n",
    "        return 'Link(' + repr(self.first) + rest_repr + ')'\n",
    "\n",
    "    def __str__(self):\n",
    "        string = '<'\n",
    "        while self.rest is not Link.empty:\n",
    "            string += str(self.first) + ' '\n",
    "            self = self.rest\n",
    "        return string + str(self.first) + '>'\n",
    "#Link(1000, 2000) 第二个参数是Link对象或者Link.empty\n",
    "#link = Link(1000, Link()) 参数Link()必须符合Link的定义，即第一个参数不为空\n",
    "#Link()==Link.empty#TypeError: Link.__init__() missing 1 required positional argument: 'first'\n",
    "\n",
    "# s = Link(1)\n",
    "# s.rest = s  \n",
    "# s.rest.first.rest is s\n",
    "\n",
    "a = Link(1, Link(6, Link(8)))\n",
    "print(type(a.first)) #<class 'int'>\n",
    "print(a.first==int) #False\n",
    "print(type(1)) #<class 'int'>\n",
    "\n"
   ]
  },
  {
   "cell_type": "code",
   "execution_count": 14,
   "metadata": {},
   "outputs": [
    {
     "name": "stdout",
     "output_type": "stream",
     "text": [
      "<class 'int'>\n",
      "False\n",
      "<class 'int'>\n"
     ]
    }
   ],
   "source": [
    "class Link:\n",
    "    \"\"\"A linked list.\n",
    "\n",
    "    >>> s = Link(1)\n",
    "    >>> s.first\n",
    "    1\n",
    "    >>> s.rest is Link.empty\n",
    "    True\n",
    "    >>> s = Link(2, Link(3, Link(4)))\n",
    "    >>> s.first = 5\n",
    "    >>> s.rest.first = 6\n",
    "    >>> s.rest.rest = Link.empty\n",
    "    >>> s                                    # Displays the contents of repr(s)\n",
    "    Link(5, Link(6))\n",
    "    >>> s.rest = Link(7, Link(Link(8, Link(9))))\n",
    "    >>> s\n",
    "    Link(5, Link(7, Link(Link(8, Link(9)))))\n",
    "    >>> print(s)                             # Prints str(s)\n",
    "    <5 7 <8 9>>\n",
    "    \"\"\"\n",
    "    empty = ()\n",
    "    def __init__(self, first, rest=empty):\n",
    "        assert rest is Link.empty or isinstance(rest, Link)\n",
    "        self.first = first\n",
    "        self.rest = rest\n",
    "\n",
    "    def __repr__(self):\n",
    "        if self.rest is not Link.empty:\n",
    "            rest_repr = ', ' + repr(self.rest)\n",
    "        else:\n",
    "            rest_repr = ''\n",
    "        return 'Link(' + repr(self.first) + rest_repr + ')'\n",
    "\n",
    "    def __str__(self):\n",
    "        string = '<'\n",
    "        while self.rest is not Link.empty:\n",
    "            string += str(self.first) + ' '\n",
    "            self = self.rest\n",
    "        return string + str(self.first) + '>'\n",
    "#Link(1000, 2000) 第二个参数是Link对象或者Link.empty\n",
    "#link = Link(1000, Link()) 参数Link()必须符合Link的定义，即第一个参数不为空\n",
    "#Link()==Link.empty#TypeError: Link.__init__() missing 1 required positional argument: 'first'\n",
    "\n",
    "# s = Link(1)\n",
    "# s.rest = s  \n",
    "# s.rest.first.rest is s\n",
    "\n",
    "a = Link(1, Link(6, Link(8)))\n",
    "print(type(a.first)) #<class 'int'>\n",
    "print(a.first==int) #False\n",
    "print(type(1)) #<class 'int'>\n",
    "\n"
   ]
  },
  {
   "cell_type": "markdown",
   "metadata": {},
   "source": [
    "1.当执行s = Link(1)时，创建了一个Link对象，first属性被设置为1，rest属性被设置为Link.empty（根据__init__方法的默认设置）。\n",
    "2.当执行s.rest = s时，问题开始出现。因为s.rest原本是Link.empty，现在被设置为s（一个Link对象），这在逻辑上可能会导致问题，但本身不会报错。\n",
    "3.当执行s.rest.first.rest = s时，就会报错。因为s.rest现在是s，s.rest.first就是s.first，而s.first是1（一个int对象），int对象没有rest属性，所以 Python 会抛出AttributeError。"
   ]
  },
  {
   "cell_type": "code",
   "execution_count": 15,
   "metadata": {},
   "outputs": [
    {
     "ename": "AttributeError",
     "evalue": "'int' object has no attribute 'rest'",
     "output_type": "error",
     "traceback": [
      "\u001b[1;31m---------------------------------------------------------------------------\u001b[0m",
      "\u001b[1;31mAttributeError\u001b[0m                            Traceback (most recent call last)",
      "Cell \u001b[1;32mIn[15], line 46\u001b[0m\n\u001b[0;32m     44\u001b[0m s \u001b[38;5;241m=\u001b[39m Link(\u001b[38;5;241m1\u001b[39m)\n\u001b[0;32m     45\u001b[0m s\u001b[38;5;241m.\u001b[39mrest \u001b[38;5;241m=\u001b[39m s  \n\u001b[1;32m---> 46\u001b[0m \u001b[43ms\u001b[49m\u001b[38;5;241;43m.\u001b[39;49m\u001b[43mrest\u001b[49m\u001b[38;5;241;43m.\u001b[39;49m\u001b[43mfirst\u001b[49m\u001b[38;5;241;43m.\u001b[39;49m\u001b[43mrest\u001b[49m \u001b[38;5;129;01mis\u001b[39;00m s\n",
      "\u001b[1;31mAttributeError\u001b[0m: 'int' object has no attribute 'rest'"
     ]
    }
   ],
   "source": [
    "class Link:\n",
    "    \"\"\"A linked list.\n",
    "\n",
    "    >>> s = Link(1)\n",
    "    >>> s.first\n",
    "    1\n",
    "    >>> s.rest is Link.empty\n",
    "    True\n",
    "    >>> s = Link(2, Link(3, Link(4)))\n",
    "    >>> s.first = 5\n",
    "    >>> s.rest.first = 6\n",
    "    >>> s.rest.rest = Link.empty\n",
    "    >>> s                                    # Displays the contents of repr(s)\n",
    "    Link(5, Link(6))\n",
    "    >>> s.rest = Link(7, Link(Link(8, Link(9))))\n",
    "    >>> s\n",
    "    Link(5, Link(7, Link(Link(8, Link(9)))))\n",
    "    >>> print(s)                             # Prints str(s)\n",
    "    <5 7 <8 9>>\n",
    "    \"\"\"\n",
    "    empty = ()\n",
    "    def __init__(self, first, rest=empty):\n",
    "        assert rest is Link.empty or isinstance(rest, Link)\n",
    "        self.first = first\n",
    "        self.rest = rest\n",
    "\n",
    "    def __repr__(self):\n",
    "        if self.rest is not Link.empty:\n",
    "            rest_repr = ', ' + repr(self.rest)\n",
    "        else:\n",
    "            rest_repr = ''\n",
    "        return 'Link(' + repr(self.first) + rest_repr + ')'\n",
    "\n",
    "    def __str__(self):\n",
    "        string = '<'\n",
    "        while self.rest is not Link.empty:\n",
    "            string += str(self.first) + ' '\n",
    "            self = self.rest\n",
    "        return string + str(self.first) + '>'\n",
    "#Link(1000, 2000) 第二个参数是Link对象或者Link.empty\n",
    "#link = Link(1000, Link()) 参数Link()必须符合Link的定义，即第一个参数不为空\n",
    "#Link()==Link.empty#TypeError: Link.__init__() missing 1 required positional argument: 'first'\n",
    "\n",
    "s = Link(1)\n",
    "s.rest = s  \n",
    "s.rest.first.rest is s\n"
   ]
  },
  {
   "cell_type": "code",
   "execution_count": null,
   "metadata": {},
   "outputs": [
    {
     "ename": "AttributeError",
     "evalue": "'int' object has no attribute 'rest'",
     "output_type": "error",
     "traceback": [
      "\u001b[1;31m---------------------------------------------------------------------------\u001b[0m\n",
      "\u001b[1;31mAttributeError\u001b[0m                            Traceback (most recent call last)\n",
      "Cell \u001b[1;32mIn[1], line 46\u001b[0m\n",
      "\u001b[0;32m     44\u001b[0m s \u001b[38;5;241m=\u001b[39m Link(\u001b[38;5;241m1\u001b[39m)\n",
      "\u001b[0;32m     45\u001b[0m s\u001b[38;5;241m.\u001b[39mrest \u001b[38;5;241m=\u001b[39m s  \n",
      "\u001b[1;32m---> 46\u001b[0m \u001b[43ms\u001b[49m\u001b[38;5;241;43m.\u001b[39;49m\u001b[43mrest\u001b[49m\u001b[38;5;241;43m.\u001b[39;49m\u001b[43mfirst\u001b[49m\u001b[38;5;241;43m.\u001b[39;49m\u001b[43mrest\u001b[49m \u001b[38;5;129;01mis\u001b[39;00m s\n",
      "\n",
      "\u001b[1;31mAttributeError\u001b[0m: 'int' object has no attribute 'rest'"
     ]
    }
   ],
   "source": [
    "class Link:\n",
    "    \"\"\"A linked list.\n",
    "\n",
    "    >>> s = Link(1)\n",
    "    >>> s.first\n",
    "    1\n",
    "    >>> s.rest is Link.empty\n",
    "    True\n",
    "    >>> s = Link(2, Link(3, Link(4)))\n",
    "    >>> s.first = 5\n",
    "    >>> s.rest.first = 6\n",
    "    >>> s.rest.rest = Link.empty\n",
    "    >>> s                                    # Displays the contents of repr(s)\n",
    "    Link(5, Link(6))\n",
    "    >>> s.rest = Link(7, Link(Link(8, Link(9))))\n",
    "    >>> s\n",
    "    Link(5, Link(7, Link(Link(8, Link(9)))))\n",
    "    >>> print(s)                             # Prints str(s)\n",
    "    <5 7 <8 9>>\n",
    "    \"\"\"\n",
    "    empty = ()\n",
    "    def __init__(self, first, rest=empty):\n",
    "        assert rest is Link.empty or isinstance(rest, Link)\n",
    "        self.first = first\n",
    "        self.rest = rest\n",
    "\n",
    "    def __repr__(self):\n",
    "        if self.rest is not Link.empty:\n",
    "            rest_repr = ', ' + repr(self.rest)\n",
    "        else:\n",
    "            rest_repr = ''\n",
    "        return 'Link(' + repr(self.first) + rest_repr + ')'\n",
    "\n",
    "    def __str__(self):\n",
    "        string = '<'\n",
    "        while self.rest is not Link.empty:\n",
    "            string += str(self.first) + ' '\n",
    "            self = self.rest\n",
    "        return string + str(self.first) + '>'\n",
    "#Link(1000, 2000) 第二个参数是Link对象或者Link.empty\n",
    "#link = Link(1000, Link()) 参数Link()必须符合Link的定义，即第一个参数不为空\n",
    "#Link()==Link.empty#TypeError: Link.__init__() missing 1 required positional argument: 'first'\n",
    "\n",
    "s = Link(1)\n",
    "s.rest = s  \n",
    "s.rest.first.rest is s\n"
   ]
  },
  {
   "cell_type": "code",
   "execution_count": null,
   "metadata": {},
   "outputs": [
    {
     "ename": "AttributeError",
     "evalue": "'int' object has no attribute 'rest'",
     "output_type": "error",
     "traceback": [
      "\u001b[1;31m---------------------------------------------------------------------------\u001b[0m\n",
      "\u001b[1;31mAttributeError\u001b[0m                            Traceback (most recent call last)\n",
      "Cell \u001b[1;32mIn[1], line 46\u001b[0m\n",
      "\u001b[0;32m     44\u001b[0m s \u001b[38;5;241m=\u001b[39m Link(\u001b[38;5;241m1\u001b[39m)\n",
      "\u001b[0;32m     45\u001b[0m s\u001b[38;5;241m.\u001b[39mrest \u001b[38;5;241m=\u001b[39m s  \n",
      "\u001b[1;32m---> 46\u001b[0m \u001b[43ms\u001b[49m\u001b[38;5;241;43m.\u001b[39;49m\u001b[43mrest\u001b[49m\u001b[38;5;241;43m.\u001b[39;49m\u001b[43mfirst\u001b[49m\u001b[38;5;241;43m.\u001b[39;49m\u001b[43mrest\u001b[49m \u001b[38;5;129;01mis\u001b[39;00m s\n",
      "\n",
      "\u001b[1;31mAttributeError\u001b[0m: 'int' object has no attribute 'rest'"
     ]
    }
   ],
   "source": [
    "class Link:\n",
    "    \"\"\"A linked list.\n",
    "\n",
    "    >>> s = Link(1)\n",
    "    >>> s.first\n",
    "    1\n",
    "    >>> s.rest is Link.empty\n",
    "    True\n",
    "    >>> s = Link(2, Link(3, Link(4)))\n",
    "    >>> s.first = 5\n",
    "    >>> s.rest.first = 6\n",
    "    >>> s.rest.rest = Link.empty\n",
    "    >>> s                                    # Displays the contents of repr(s)\n",
    "    Link(5, Link(6))\n",
    "    >>> s.rest = Link(7, Link(Link(8, Link(9))))\n",
    "    >>> s\n",
    "    Link(5, Link(7, Link(Link(8, Link(9)))))\n",
    "    >>> print(s)                             # Prints str(s)\n",
    "    <5 7 <8 9>>\n",
    "    \"\"\"\n",
    "    empty = ()\n",
    "    def __init__(self, first, rest=empty):\n",
    "        assert rest is Link.empty or isinstance(rest, Link)\n",
    "        self.first = first\n",
    "        self.rest = rest\n",
    "\n",
    "    def __repr__(self):\n",
    "        if self.rest is not Link.empty:\n",
    "            rest_repr = ', ' + repr(self.rest)\n",
    "        else:\n",
    "            rest_repr = ''\n",
    "        return 'Link(' + repr(self.first) + rest_repr + ')'\n",
    "\n",
    "    def __str__(self):\n",
    "        string = '<'\n",
    "        while self.rest is not Link.empty:\n",
    "            string += str(self.first) + ' '\n",
    "            self = self.rest\n",
    "        return string + str(self.first) + '>'\n",
    "#Link(1000, 2000) 第二个参数是Link对象或者Link.empty\n",
    "#link = Link(1000, Link()) 参数Link()必须符合Link的定义，即第一个参数不为空\n",
    "#Link()==Link.empty#TypeError: Link.__init__() missing 1 required positional argument: 'first'\n",
    "\n",
    "s = Link(1)\n",
    "s.rest = s  \n",
    "s.rest.first.rest is s\n"
   ]
  },
  {
   "cell_type": "code",
   "execution_count": null,
   "metadata": {},
   "outputs": [
    {
     "ename": "AttributeError",
     "evalue": "'int' object has no attribute 'rest'",
     "output_type": "error",
     "traceback": [
      "\u001b[1;31m---------------------------------------------------------------------------\u001b[0m\n",
      "\u001b[1;31mAttributeError\u001b[0m                            Traceback (most recent call last)\n",
      "Cell \u001b[1;32mIn[1], line 46\u001b[0m\n",
      "\u001b[0;32m     44\u001b[0m s \u001b[38;5;241m=\u001b[39m Link(\u001b[38;5;241m1\u001b[39m)\n",
      "\u001b[0;32m     45\u001b[0m s\u001b[38;5;241m.\u001b[39mrest \u001b[38;5;241m=\u001b[39m s  \n",
      "\u001b[1;32m---> 46\u001b[0m \u001b[43ms\u001b[49m\u001b[38;5;241;43m.\u001b[39;49m\u001b[43mrest\u001b[49m\u001b[38;5;241;43m.\u001b[39;49m\u001b[43mfirst\u001b[49m\u001b[38;5;241;43m.\u001b[39;49m\u001b[43mrest\u001b[49m \u001b[38;5;129;01mis\u001b[39;00m s\n",
      "\n",
      "\u001b[1;31mAttributeError\u001b[0m: 'int' object has no attribute 'rest'"
     ]
    }
   ],
   "source": [
    "class Link:\n",
    "    \"\"\"A linked list.\n",
    "\n",
    "    >>> s = Link(1)\n",
    "    >>> s.first\n",
    "    1\n",
    "    >>> s.rest is Link.empty\n",
    "    True\n",
    "    >>> s = Link(2, Link(3, Link(4)))\n",
    "    >>> s.first = 5\n",
    "    >>> s.rest.first = 6\n",
    "    >>> s.rest.rest = Link.empty\n",
    "    >>> s                                    # Displays the contents of repr(s)\n",
    "    Link(5, Link(6))\n",
    "    >>> s.rest = Link(7, Link(Link(8, Link(9))))\n",
    "    >>> s\n",
    "    Link(5, Link(7, Link(Link(8, Link(9)))))\n",
    "    >>> print(s)                             # Prints str(s)\n",
    "    <5 7 <8 9>>\n",
    "    \"\"\"\n",
    "    empty = ()\n",
    "    def __init__(self, first, rest=empty):\n",
    "        assert rest is Link.empty or isinstance(rest, Link)\n",
    "        self.first = first\n",
    "        self.rest = rest\n",
    "\n",
    "    def __repr__(self):\n",
    "        if self.rest is not Link.empty:\n",
    "            rest_repr = ', ' + repr(self.rest)\n",
    "        else:\n",
    "            rest_repr = ''\n",
    "        return 'Link(' + repr(self.first) + rest_repr + ')'\n",
    "\n",
    "    def __str__(self):\n",
    "        string = '<'\n",
    "        while self.rest is not Link.empty:\n",
    "            string += str(self.first) + ' '\n",
    "            self = self.rest\n",
    "        return string + str(self.first) + '>'\n",
    "#Link(1000, 2000) 第二个参数是Link对象或者Link.empty\n",
    "#link = Link(1000, Link()) 参数Link()必须符合Link的定义，即第一个参数不为空\n",
    "#Link()==Link.empty#TypeError: Link.__init__() missing 1 required positional argument: 'first'\n",
    "\n",
    "s = Link(1)\n",
    "s.rest = s  \n",
    "s.rest.first.rest is s\n"
   ]
  },
  {
   "cell_type": "code",
   "execution_count": null,
   "metadata": {},
   "outputs": [
    {
     "ename": "AttributeError",
     "evalue": "'int' object has no attribute 'rest'",
     "output_type": "error",
     "traceback": [
      "\u001b[1;31m---------------------------------------------------------------------------\u001b[0m\n",
      "\u001b[1;31mAttributeError\u001b[0m                            Traceback (most recent call last)\n",
      "Cell \u001b[1;32mIn[1], line 46\u001b[0m\n",
      "\u001b[0;32m     44\u001b[0m s \u001b[38;5;241m=\u001b[39m Link(\u001b[38;5;241m1\u001b[39m)\n",
      "\u001b[0;32m     45\u001b[0m s\u001b[38;5;241m.\u001b[39mrest \u001b[38;5;241m=\u001b[39m s  \n",
      "\u001b[1;32m---> 46\u001b[0m \u001b[43ms\u001b[49m\u001b[38;5;241;43m.\u001b[39;49m\u001b[43mrest\u001b[49m\u001b[38;5;241;43m.\u001b[39;49m\u001b[43mfirst\u001b[49m\u001b[38;5;241;43m.\u001b[39;49m\u001b[43mrest\u001b[49m \u001b[38;5;129;01mis\u001b[39;00m s\n",
      "\n",
      "\u001b[1;31mAttributeError\u001b[0m: 'int' object has no attribute 'rest'"
     ]
    }
   ],
   "source": [
    "class Link:\n",
    "    \"\"\"A linked list.\n",
    "\n",
    "    >>> s = Link(1)\n",
    "    >>> s.first\n",
    "    1\n",
    "    >>> s.rest is Link.empty\n",
    "    True\n",
    "    >>> s = Link(2, Link(3, Link(4)))\n",
    "    >>> s.first = 5\n",
    "    >>> s.rest.first = 6\n",
    "    >>> s.rest.rest = Link.empty\n",
    "    >>> s                                    # Displays the contents of repr(s)\n",
    "    Link(5, Link(6))\n",
    "    >>> s.rest = Link(7, Link(Link(8, Link(9))))\n",
    "    >>> s\n",
    "    Link(5, Link(7, Link(Link(8, Link(9)))))\n",
    "    >>> print(s)                             # Prints str(s)\n",
    "    <5 7 <8 9>>\n",
    "    \"\"\"\n",
    "    empty = ()\n",
    "    def __init__(self, first, rest=empty):\n",
    "        assert rest is Link.empty or isinstance(rest, Link)\n",
    "        self.first = first\n",
    "        self.rest = rest\n",
    "\n",
    "    def __repr__(self):\n",
    "        if self.rest is not Link.empty:\n",
    "            rest_repr = ', ' + repr(self.rest)\n",
    "        else:\n",
    "            rest_repr = ''\n",
    "        return 'Link(' + repr(self.first) + rest_repr + ')'\n",
    "\n",
    "    def __str__(self):\n",
    "        string = '<'\n",
    "        while self.rest is not Link.empty:\n",
    "            string += str(self.first) + ' '\n",
    "            self = self.rest\n",
    "        return string + str(self.first) + '>'\n",
    "#Link(1000, 2000) 第二个参数是Link对象或者Link.empty\n",
    "#link = Link(1000, Link()) 参数Link()必须符合Link的定义，即第一个参数不为空\n",
    "#Link()==Link.empty#TypeError: Link.__init__() missing 1 required positional argument: 'first'\n",
    "\n",
    "s = Link(1)\n",
    "s.rest = s  \n",
    "s.rest.first.rest is s\n"
   ]
  },
  {
   "cell_type": "code",
   "execution_count": null,
   "metadata": {},
   "outputs": [
    {
     "ename": "AttributeError",
     "evalue": "'int' object has no attribute 'rest'",
     "output_type": "error",
     "traceback": [
      "\u001b[1;31m---------------------------------------------------------------------------\u001b[0m\n",
      "\u001b[1;31mAttributeError\u001b[0m                            Traceback (most recent call last)\n",
      "Cell \u001b[1;32mIn[1], line 46\u001b[0m\n",
      "\u001b[0;32m     44\u001b[0m s \u001b[38;5;241m=\u001b[39m Link(\u001b[38;5;241m1\u001b[39m)\n",
      "\u001b[0;32m     45\u001b[0m s\u001b[38;5;241m.\u001b[39mrest \u001b[38;5;241m=\u001b[39m s  \n",
      "\u001b[1;32m---> 46\u001b[0m \u001b[43ms\u001b[49m\u001b[38;5;241;43m.\u001b[39;49m\u001b[43mrest\u001b[49m\u001b[38;5;241;43m.\u001b[39;49m\u001b[43mfirst\u001b[49m\u001b[38;5;241;43m.\u001b[39;49m\u001b[43mrest\u001b[49m \u001b[38;5;129;01mis\u001b[39;00m s\n",
      "\n",
      "\u001b[1;31mAttributeError\u001b[0m: 'int' object has no attribute 'rest'"
     ]
    }
   ],
   "source": [
    "class Link:\n",
    "    \"\"\"A linked list.\n",
    "\n",
    "    >>> s = Link(1)\n",
    "    >>> s.first\n",
    "    1\n",
    "    >>> s.rest is Link.empty\n",
    "    True\n",
    "    >>> s = Link(2, Link(3, Link(4)))\n",
    "    >>> s.first = 5\n",
    "    >>> s.rest.first = 6\n",
    "    >>> s.rest.rest = Link.empty\n",
    "    >>> s                                    # Displays the contents of repr(s)\n",
    "    Link(5, Link(6))\n",
    "    >>> s.rest = Link(7, Link(Link(8, Link(9))))\n",
    "    >>> s\n",
    "    Link(5, Link(7, Link(Link(8, Link(9)))))\n",
    "    >>> print(s)                             # Prints str(s)\n",
    "    <5 7 <8 9>>\n",
    "    \"\"\"\n",
    "    empty = ()\n",
    "    def __init__(self, first, rest=empty):\n",
    "        assert rest is Link.empty or isinstance(rest, Link)\n",
    "        self.first = first\n",
    "        self.rest = rest\n",
    "\n",
    "    def __repr__(self):\n",
    "        if self.rest is not Link.empty:\n",
    "            rest_repr = ', ' + repr(self.rest)\n",
    "        else:\n",
    "            rest_repr = ''\n",
    "        return 'Link(' + repr(self.first) + rest_repr + ')'\n",
    "\n",
    "    def __str__(self):\n",
    "        string = '<'\n",
    "        while self.rest is not Link.empty:\n",
    "            string += str(self.first) + ' '\n",
    "            self = self.rest\n",
    "        return string + str(self.first) + '>'\n",
    "#Link(1000, 2000) 第二个参数是Link对象或者Link.empty\n",
    "#link = Link(1000, Link()) 参数Link()必须符合Link的定义，即第一个参数不为空\n",
    "#Link()==Link.empty#TypeError: Link.__init__() missing 1 required positional argument: 'first'\n",
    "\n",
    "s = Link(1)\n",
    "s.rest = s  \n",
    "s.rest.first.rest is s\n"
   ]
  },
  {
   "cell_type": "code",
   "execution_count": null,
   "metadata": {},
   "outputs": [
    {
     "ename": "AttributeError",
     "evalue": "'int' object has no attribute 'rest'",
     "output_type": "error",
     "traceback": [
      "\u001b[1;31m---------------------------------------------------------------------------\u001b[0m\n",
      "\u001b[1;31mAttributeError\u001b[0m                            Traceback (most recent call last)\n",
      "Cell \u001b[1;32mIn[1], line 46\u001b[0m\n",
      "\u001b[0;32m     44\u001b[0m s \u001b[38;5;241m=\u001b[39m Link(\u001b[38;5;241m1\u001b[39m)\n",
      "\u001b[0;32m     45\u001b[0m s\u001b[38;5;241m.\u001b[39mrest \u001b[38;5;241m=\u001b[39m s  \n",
      "\u001b[1;32m---> 46\u001b[0m \u001b[43ms\u001b[49m\u001b[38;5;241;43m.\u001b[39;49m\u001b[43mrest\u001b[49m\u001b[38;5;241;43m.\u001b[39;49m\u001b[43mfirst\u001b[49m\u001b[38;5;241;43m.\u001b[39;49m\u001b[43mrest\u001b[49m \u001b[38;5;129;01mis\u001b[39;00m s\n",
      "\n",
      "\u001b[1;31mAttributeError\u001b[0m: 'int' object has no attribute 'rest'"
     ]
    }
   ],
   "source": [
    "class Link:\n",
    "    \"\"\"A linked list.\n",
    "\n",
    "    >>> s = Link(1)\n",
    "    >>> s.first\n",
    "    1\n",
    "    >>> s.rest is Link.empty\n",
    "    True\n",
    "    >>> s = Link(2, Link(3, Link(4)))\n",
    "    >>> s.first = 5\n",
    "    >>> s.rest.first = 6\n",
    "    >>> s.rest.rest = Link.empty\n",
    "    >>> s                                    # Displays the contents of repr(s)\n",
    "    Link(5, Link(6))\n",
    "    >>> s.rest = Link(7, Link(Link(8, Link(9))))\n",
    "    >>> s\n",
    "    Link(5, Link(7, Link(Link(8, Link(9)))))\n",
    "    >>> print(s)                             # Prints str(s)\n",
    "    <5 7 <8 9>>\n",
    "    \"\"\"\n",
    "    empty = ()\n",
    "    def __init__(self, first, rest=empty):\n",
    "        assert rest is Link.empty or isinstance(rest, Link)\n",
    "        self.first = first\n",
    "        self.rest = rest\n",
    "\n",
    "    def __repr__(self):\n",
    "        if self.rest is not Link.empty:\n",
    "            rest_repr = ', ' + repr(self.rest)\n",
    "        else:\n",
    "            rest_repr = ''\n",
    "        return 'Link(' + repr(self.first) + rest_repr + ')'\n",
    "\n",
    "    def __str__(self):\n",
    "        string = '<'\n",
    "        while self.rest is not Link.empty:\n",
    "            string += str(self.first) + ' '\n",
    "            self = self.rest\n",
    "        return string + str(self.first) + '>'\n",
    "#Link(1000, 2000) 第二个参数是Link对象或者Link.empty\n",
    "#link = Link(1000, Link()) 参数Link()必须符合Link的定义，即第一个参数不为空\n",
    "#Link()==Link.empty#TypeError: Link.__init__() missing 1 required positional argument: 'first'\n",
    "\n",
    "s = Link(1)\n",
    "s.rest = s  \n",
    "s.rest.first.rest is s\n"
   ]
  },
  {
   "cell_type": "code",
   "execution_count": null,
   "metadata": {},
   "outputs": [
    {
     "ename": "AttributeError",
     "evalue": "'int' object has no attribute 'rest'",
     "output_type": "error",
     "traceback": [
      "\u001b[1;31m---------------------------------------------------------------------------\u001b[0m\n",
      "\u001b[1;31mAttributeError\u001b[0m                            Traceback (most recent call last)\n",
      "Cell \u001b[1;32mIn[1], line 46\u001b[0m\n",
      "\u001b[0;32m     44\u001b[0m s \u001b[38;5;241m=\u001b[39m Link(\u001b[38;5;241m1\u001b[39m)\n",
      "\u001b[0;32m     45\u001b[0m s\u001b[38;5;241m.\u001b[39mrest \u001b[38;5;241m=\u001b[39m s  \n",
      "\u001b[1;32m---> 46\u001b[0m \u001b[43ms\u001b[49m\u001b[38;5;241;43m.\u001b[39;49m\u001b[43mrest\u001b[49m\u001b[38;5;241;43m.\u001b[39;49m\u001b[43mfirst\u001b[49m\u001b[38;5;241;43m.\u001b[39;49m\u001b[43mrest\u001b[49m \u001b[38;5;129;01mis\u001b[39;00m s\n",
      "\n",
      "\u001b[1;31mAttributeError\u001b[0m: 'int' object has no attribute 'rest'"
     ]
    }
   ],
   "source": [
    "class Link:\n",
    "    \"\"\"A linked list.\n",
    "\n",
    "    >>> s = Link(1)\n",
    "    >>> s.first\n",
    "    1\n",
    "    >>> s.rest is Link.empty\n",
    "    True\n",
    "    >>> s = Link(2, Link(3, Link(4)))\n",
    "    >>> s.first = 5\n",
    "    >>> s.rest.first = 6\n",
    "    >>> s.rest.rest = Link.empty\n",
    "    >>> s                                    # Displays the contents of repr(s)\n",
    "    Link(5, Link(6))\n",
    "    >>> s.rest = Link(7, Link(Link(8, Link(9))))\n",
    "    >>> s\n",
    "    Link(5, Link(7, Link(Link(8, Link(9)))))\n",
    "    >>> print(s)                             # Prints str(s)\n",
    "    <5 7 <8 9>>\n",
    "    \"\"\"\n",
    "    empty = ()\n",
    "    def __init__(self, first, rest=empty):\n",
    "        assert rest is Link.empty or isinstance(rest, Link)\n",
    "        self.first = first\n",
    "        self.rest = rest\n",
    "\n",
    "    def __repr__(self):\n",
    "        if self.rest is not Link.empty:\n",
    "            rest_repr = ', ' + repr(self.rest)\n",
    "        else:\n",
    "            rest_repr = ''\n",
    "        return 'Link(' + repr(self.first) + rest_repr + ')'\n",
    "\n",
    "    def __str__(self):\n",
    "        string = '<'\n",
    "        while self.rest is not Link.empty:\n",
    "            string += str(self.first) + ' '\n",
    "            self = self.rest\n",
    "        return string + str(self.first) + '>'\n",
    "#Link(1000, 2000) 第二个参数是Link对象或者Link.empty\n",
    "#link = Link(1000, Link()) 参数Link()必须符合Link的定义，即第一个参数不为空\n",
    "#Link()==Link.empty#TypeError: Link.__init__() missing 1 required positional argument: 'first'\n",
    "\n",
    "s = Link(1)\n",
    "s.rest = s  \n",
    "s.rest.first.rest is s\n"
   ]
  },
  {
   "cell_type": "code",
   "execution_count": null,
   "metadata": {},
   "outputs": [
    {
     "ename": "AttributeError",
     "evalue": "'int' object has no attribute 'rest'",
     "output_type": "error",
     "traceback": [
      "\u001b[1;31m---------------------------------------------------------------------------\u001b[0m\n",
      "\u001b[1;31mAttributeError\u001b[0m                            Traceback (most recent call last)\n",
      "Cell \u001b[1;32mIn[1], line 46\u001b[0m\n",
      "\u001b[0;32m     44\u001b[0m s \u001b[38;5;241m=\u001b[39m Link(\u001b[38;5;241m1\u001b[39m)\n",
      "\u001b[0;32m     45\u001b[0m s\u001b[38;5;241m.\u001b[39mrest \u001b[38;5;241m=\u001b[39m s  \n",
      "\u001b[1;32m---> 46\u001b[0m \u001b[43ms\u001b[49m\u001b[38;5;241;43m.\u001b[39;49m\u001b[43mrest\u001b[49m\u001b[38;5;241;43m.\u001b[39;49m\u001b[43mfirst\u001b[49m\u001b[38;5;241;43m.\u001b[39;49m\u001b[43mrest\u001b[49m \u001b[38;5;129;01mis\u001b[39;00m s\n",
      "\n",
      "\u001b[1;31mAttributeError\u001b[0m: 'int' object has no attribute 'rest'"
     ]
    }
   ],
   "source": [
    "class Link:\n",
    "    \"\"\"A linked list.\n",
    "\n",
    "    >>> s = Link(1)\n",
    "    >>> s.first\n",
    "    1\n",
    "    >>> s.rest is Link.empty\n",
    "    True\n",
    "    >>> s = Link(2, Link(3, Link(4)))\n",
    "    >>> s.first = 5\n",
    "    >>> s.rest.first = 6\n",
    "    >>> s.rest.rest = Link.empty\n",
    "    >>> s                                    # Displays the contents of repr(s)\n",
    "    Link(5, Link(6))\n",
    "    >>> s.rest = Link(7, Link(Link(8, Link(9))))\n",
    "    >>> s\n",
    "    Link(5, Link(7, Link(Link(8, Link(9)))))\n",
    "    >>> print(s)                             # Prints str(s)\n",
    "    <5 7 <8 9>>\n",
    "    \"\"\"\n",
    "    empty = ()\n",
    "    def __init__(self, first, rest=empty):\n",
    "        assert rest is Link.empty or isinstance(rest, Link)\n",
    "        self.first = first\n",
    "        self.rest = rest\n",
    "\n",
    "    def __repr__(self):\n",
    "        if self.rest is not Link.empty:\n",
    "            rest_repr = ', ' + repr(self.rest)\n",
    "        else:\n",
    "            rest_repr = ''\n",
    "        return 'Link(' + repr(self.first) + rest_repr + ')'\n",
    "\n",
    "    def __str__(self):\n",
    "        string = '<'\n",
    "        while self.rest is not Link.empty:\n",
    "            string += str(self.first) + ' '\n",
    "            self = self.rest\n",
    "        return string + str(self.first) + '>'\n",
    "#Link(1000, 2000) 第二个参数是Link对象或者Link.empty\n",
    "#link = Link(1000, Link()) 参数Link()必须符合Link的定义，即第一个参数不为空\n",
    "#Link()==Link.empty#TypeError: Link.__init__() missing 1 required positional argument: 'first'\n",
    "\n",
    "s = Link(1)\n",
    "s.rest = s  \n",
    "s.rest.first.rest is s\n"
   ]
  },
  {
   "cell_type": "code",
   "execution_count": null,
   "metadata": {},
   "outputs": [
    {
     "ename": "AttributeError",
     "evalue": "'int' object has no attribute 'rest'",
     "output_type": "error",
     "traceback": [
      "\u001b[1;31m---------------------------------------------------------------------------\u001b[0m\n",
      "\u001b[1;31mAttributeError\u001b[0m                            Traceback (most recent call last)\n",
      "Cell \u001b[1;32mIn[1], line 46\u001b[0m\n",
      "\u001b[0;32m     44\u001b[0m s \u001b[38;5;241m=\u001b[39m Link(\u001b[38;5;241m1\u001b[39m)\n",
      "\u001b[0;32m     45\u001b[0m s\u001b[38;5;241m.\u001b[39mrest \u001b[38;5;241m=\u001b[39m s  \n",
      "\u001b[1;32m---> 46\u001b[0m \u001b[43ms\u001b[49m\u001b[38;5;241;43m.\u001b[39;49m\u001b[43mrest\u001b[49m\u001b[38;5;241;43m.\u001b[39;49m\u001b[43mfirst\u001b[49m\u001b[38;5;241;43m.\u001b[39;49m\u001b[43mrest\u001b[49m \u001b[38;5;129;01mis\u001b[39;00m s\n",
      "\n",
      "\u001b[1;31mAttributeError\u001b[0m: 'int' object has no attribute 'rest'"
     ]
    }
   ],
   "source": [
    "class Link:\n",
    "    \"\"\"A linked list.\n",
    "\n",
    "    >>> s = Link(1)\n",
    "    >>> s.first\n",
    "    1\n",
    "    >>> s.rest is Link.empty\n",
    "    True\n",
    "    >>> s = Link(2, Link(3, Link(4)))\n",
    "    >>> s.first = 5\n",
    "    >>> s.rest.first = 6\n",
    "    >>> s.rest.rest = Link.empty\n",
    "    >>> s                                    # Displays the contents of repr(s)\n",
    "    Link(5, Link(6))\n",
    "    >>> s.rest = Link(7, Link(Link(8, Link(9))))\n",
    "    >>> s\n",
    "    Link(5, Link(7, Link(Link(8, Link(9)))))\n",
    "    >>> print(s)                             # Prints str(s)\n",
    "    <5 7 <8 9>>\n",
    "    \"\"\"\n",
    "    empty = ()\n",
    "    def __init__(self, first, rest=empty):\n",
    "        assert rest is Link.empty or isinstance(rest, Link)\n",
    "        self.first = first\n",
    "        self.rest = rest\n",
    "\n",
    "    def __repr__(self):\n",
    "        if self.rest is not Link.empty:\n",
    "            rest_repr = ', ' + repr(self.rest)\n",
    "        else:\n",
    "            rest_repr = ''\n",
    "        return 'Link(' + repr(self.first) + rest_repr + ')'\n",
    "\n",
    "    def __str__(self):\n",
    "        string = '<'\n",
    "        while self.rest is not Link.empty:\n",
    "            string += str(self.first) + ' '\n",
    "            self = self.rest\n",
    "        return string + str(self.first) + '>'\n",
    "#Link(1000, 2000) 第二个参数是Link对象或者Link.empty\n",
    "#link = Link(1000, Link()) 参数Link()必须符合Link的定义，即第一个参数不为空\n",
    "#Link()==Link.empty#TypeError: Link.__init__() missing 1 required positional argument: 'first'\n",
    "\n",
    "s = Link(1)\n",
    "s.rest = s  \n",
    "s.rest.first.rest is s\n"
   ]
  },
  {
   "cell_type": "code",
   "execution_count": null,
   "metadata": {},
   "outputs": [
    {
     "ename": "AttributeError",
     "evalue": "'int' object has no attribute 'rest'",
     "output_type": "error",
     "traceback": [
      "\u001b[1;31m---------------------------------------------------------------------------\u001b[0m\n",
      "\u001b[1;31mAttributeError\u001b[0m                            Traceback (most recent call last)\n",
      "Cell \u001b[1;32mIn[1], line 46\u001b[0m\n",
      "\u001b[0;32m     44\u001b[0m s \u001b[38;5;241m=\u001b[39m Link(\u001b[38;5;241m1\u001b[39m)\n",
      "\u001b[0;32m     45\u001b[0m s\u001b[38;5;241m.\u001b[39mrest \u001b[38;5;241m=\u001b[39m s  \n",
      "\u001b[1;32m---> 46\u001b[0m \u001b[43ms\u001b[49m\u001b[38;5;241;43m.\u001b[39;49m\u001b[43mrest\u001b[49m\u001b[38;5;241;43m.\u001b[39;49m\u001b[43mfirst\u001b[49m\u001b[38;5;241;43m.\u001b[39;49m\u001b[43mrest\u001b[49m \u001b[38;5;129;01mis\u001b[39;00m s\n",
      "\n",
      "\u001b[1;31mAttributeError\u001b[0m: 'int' object has no attribute 'rest'"
     ]
    }
   ],
   "source": [
    "class Link:\n",
    "    \"\"\"A linked list.\n",
    "\n",
    "    >>> s = Link(1)\n",
    "    >>> s.first\n",
    "    1\n",
    "    >>> s.rest is Link.empty\n",
    "    True\n",
    "    >>> s = Link(2, Link(3, Link(4)))\n",
    "    >>> s.first = 5\n",
    "    >>> s.rest.first = 6\n",
    "    >>> s.rest.rest = Link.empty\n",
    "    >>> s                                    # Displays the contents of repr(s)\n",
    "    Link(5, Link(6))\n",
    "    >>> s.rest = Link(7, Link(Link(8, Link(9))))\n",
    "    >>> s\n",
    "    Link(5, Link(7, Link(Link(8, Link(9)))))\n",
    "    >>> print(s)                             # Prints str(s)\n",
    "    <5 7 <8 9>>\n",
    "    \"\"\"\n",
    "    empty = ()\n",
    "    def __init__(self, first, rest=empty):\n",
    "        assert rest is Link.empty or isinstance(rest, Link)\n",
    "        self.first = first\n",
    "        self.rest = rest\n",
    "\n",
    "    def __repr__(self):\n",
    "        if self.rest is not Link.empty:\n",
    "            rest_repr = ', ' + repr(self.rest)\n",
    "        else:\n",
    "            rest_repr = ''\n",
    "        return 'Link(' + repr(self.first) + rest_repr + ')'\n",
    "\n",
    "    def __str__(self):\n",
    "        string = '<'\n",
    "        while self.rest is not Link.empty:\n",
    "            string += str(self.first) + ' '\n",
    "            self = self.rest\n",
    "        return string + str(self.first) + '>'\n",
    "#Link(1000, 2000) 第二个参数是Link对象或者Link.empty\n",
    "#link = Link(1000, Link()) 参数Link()必须符合Link的定义，即第一个参数不为空\n",
    "#Link()==Link.empty#TypeError: Link.__init__() missing 1 required positional argument: 'first'\n",
    "\n",
    "s = Link(1)\n",
    "s.rest = s  \n",
    "s.rest.first.rest is s\n"
   ]
  },
  {
   "cell_type": "code",
   "execution_count": null,
   "metadata": {},
   "outputs": [
    {
     "ename": "AttributeError",
     "evalue": "'int' object has no attribute 'rest'",
     "output_type": "error",
     "traceback": [
      "\u001b[1;31m---------------------------------------------------------------------------\u001b[0m\n",
      "\u001b[1;31mAttributeError\u001b[0m                            Traceback (most recent call last)\n",
      "Cell \u001b[1;32mIn[1], line 46\u001b[0m\n",
      "\u001b[0;32m     44\u001b[0m s \u001b[38;5;241m=\u001b[39m Link(\u001b[38;5;241m1\u001b[39m)\n",
      "\u001b[0;32m     45\u001b[0m s\u001b[38;5;241m.\u001b[39mrest \u001b[38;5;241m=\u001b[39m s  \n",
      "\u001b[1;32m---> 46\u001b[0m \u001b[43ms\u001b[49m\u001b[38;5;241;43m.\u001b[39;49m\u001b[43mrest\u001b[49m\u001b[38;5;241;43m.\u001b[39;49m\u001b[43mfirst\u001b[49m\u001b[38;5;241;43m.\u001b[39;49m\u001b[43mrest\u001b[49m \u001b[38;5;129;01mis\u001b[39;00m s\n",
      "\n",
      "\u001b[1;31mAttributeError\u001b[0m: 'int' object has no attribute 'rest'"
     ]
    }
   ],
   "source": [
    "class Link:\n",
    "    \"\"\"A linked list.\n",
    "\n",
    "    >>> s = Link(1)\n",
    "    >>> s.first\n",
    "    1\n",
    "    >>> s.rest is Link.empty\n",
    "    True\n",
    "    >>> s = Link(2, Link(3, Link(4)))\n",
    "    >>> s.first = 5\n",
    "    >>> s.rest.first = 6\n",
    "    >>> s.rest.rest = Link.empty\n",
    "    >>> s                                    # Displays the contents of repr(s)\n",
    "    Link(5, Link(6))\n",
    "    >>> s.rest = Link(7, Link(Link(8, Link(9))))\n",
    "    >>> s\n",
    "    Link(5, Link(7, Link(Link(8, Link(9)))))\n",
    "    >>> print(s)                             # Prints str(s)\n",
    "    <5 7 <8 9>>\n",
    "    \"\"\"\n",
    "    empty = ()\n",
    "    def __init__(self, first, rest=empty):\n",
    "        assert rest is Link.empty or isinstance(rest, Link)\n",
    "        self.first = first\n",
    "        self.rest = rest\n",
    "\n",
    "    def __repr__(self):\n",
    "        if self.rest is not Link.empty:\n",
    "            rest_repr = ', ' + repr(self.rest)\n",
    "        else:\n",
    "            rest_repr = ''\n",
    "        return 'Link(' + repr(self.first) + rest_repr + ')'\n",
    "\n",
    "    def __str__(self):\n",
    "        string = '<'\n",
    "        while self.rest is not Link.empty:\n",
    "            string += str(self.first) + ' '\n",
    "            self = self.rest\n",
    "        return string + str(self.first) + '>'\n",
    "#Link(1000, 2000) 第二个参数是Link对象或者Link.empty\n",
    "#link = Link(1000, Link()) 参数Link()必须符合Link的定义，即第一个参数不为空\n",
    "#Link()==Link.empty#TypeError: Link.__init__() missing 1 required positional argument: 'first'\n",
    "\n",
    "s = Link(1)\n",
    "s.rest = s  \n",
    "s.rest.first.rest is s\n"
   ]
  },
  {
   "cell_type": "markdown",
   "metadata": {},
   "source": [
    "link = Link(1)\n",
    "link.rest = link\n",
    "link.rest.rest is Link.empty #False\n",
    "link.rest.rest is  Link(1)#alse\n",
    "link.rest.rest\n",
    "1.首先，创建了一个 Link 对象 link，其 first 属性为 1。\n",
    "2.然后，将 link 的 rest 属性指向自身，即形成了一个自指向的循环链表。\n",
    "因此，link.rest 表示的是 link 的下一个节点，而由于 link.rest 指向的是 link 自身，所以 link.rest.rest 就是 link.rest 再次调用 rest，也就是 link 本身的 rest 属性。\n",
    "\n",
    "由于 link.rest 是 link，而 link.rest.rest 则再次返回 link 的 rest 属性，因此这个值仍然是 link 本身。这一段链表实际上形成了一个无限循环。\n",
    "\n",
    "总结来说，link.rest.rest 的值是 link 本身，对应的链表结构不会到达 Link.empty，因为它是一个循环链表。这里的表达式值并不等于 Link.empty，也不是一个新的 Link 对象（即不是 Link(1)）。"
   ]
  },
  {
   "cell_type": "code",
   "execution_count": null,
   "metadata": {},
   "outputs": [
    {
     "ename": "RecursionError",
     "evalue": "maximum recursion depth exceeded",
     "output_type": "error",
     "traceback": [
      "\u001b[1;31m---------------------------------------------------------------------------\u001b[0m\n",
      "\u001b[1;31mRecursionError\u001b[0m                            Traceback (most recent call last)\n",
      "File \u001b[1;32m~\\AppData\\Roaming\\Python\\Python312\\site-packages\\IPython\\core\\formatters.py:711\u001b[0m, in \u001b[0;36mPlainTextFormatter.__call__\u001b[1;34m(self, obj)\u001b[0m\n",
      "\u001b[0;32m    704\u001b[0m stream \u001b[38;5;241m=\u001b[39m StringIO()\n",
      "\u001b[0;32m    705\u001b[0m printer \u001b[38;5;241m=\u001b[39m pretty\u001b[38;5;241m.\u001b[39mRepresentationPrinter(stream, \u001b[38;5;28mself\u001b[39m\u001b[38;5;241m.\u001b[39mverbose,\n",
      "\u001b[0;32m    706\u001b[0m     \u001b[38;5;28mself\u001b[39m\u001b[38;5;241m.\u001b[39mmax_width, \u001b[38;5;28mself\u001b[39m\u001b[38;5;241m.\u001b[39mnewline,\n",
      "\u001b[0;32m    707\u001b[0m     max_seq_length\u001b[38;5;241m=\u001b[39m\u001b[38;5;28mself\u001b[39m\u001b[38;5;241m.\u001b[39mmax_seq_length,\n",
      "\u001b[0;32m    708\u001b[0m     singleton_pprinters\u001b[38;5;241m=\u001b[39m\u001b[38;5;28mself\u001b[39m\u001b[38;5;241m.\u001b[39msingleton_printers,\n",
      "\u001b[0;32m    709\u001b[0m     type_pprinters\u001b[38;5;241m=\u001b[39m\u001b[38;5;28mself\u001b[39m\u001b[38;5;241m.\u001b[39mtype_printers,\n",
      "\u001b[0;32m    710\u001b[0m     deferred_pprinters\u001b[38;5;241m=\u001b[39m\u001b[38;5;28mself\u001b[39m\u001b[38;5;241m.\u001b[39mdeferred_printers)\n",
      "\u001b[1;32m--> 711\u001b[0m \u001b[43mprinter\u001b[49m\u001b[38;5;241;43m.\u001b[39;49m\u001b[43mpretty\u001b[49m\u001b[43m(\u001b[49m\u001b[43mobj\u001b[49m\u001b[43m)\u001b[49m\n",
      "\u001b[0;32m    712\u001b[0m printer\u001b[38;5;241m.\u001b[39mflush()\n",
      "\u001b[0;32m    713\u001b[0m \u001b[38;5;28;01mreturn\u001b[39;00m stream\u001b[38;5;241m.\u001b[39mgetvalue()\n",
      "\n",
      "File \u001b[1;32m~\\AppData\\Roaming\\Python\\Python312\\site-packages\\IPython\\lib\\pretty.py:419\u001b[0m, in \u001b[0;36mRepresentationPrinter.pretty\u001b[1;34m(self, obj)\u001b[0m\n",
      "\u001b[0;32m    408\u001b[0m                         \u001b[38;5;28;01mreturn\u001b[39;00m meth(obj, \u001b[38;5;28mself\u001b[39m, cycle)\n",
      "\u001b[0;32m    409\u001b[0m                 \u001b[38;5;28;01mif\u001b[39;00m (\n",
      "\u001b[0;32m    410\u001b[0m                     \u001b[38;5;28mcls\u001b[39m \u001b[38;5;129;01mis\u001b[39;00m \u001b[38;5;129;01mnot\u001b[39;00m \u001b[38;5;28mobject\u001b[39m\n",
      "\u001b[0;32m    411\u001b[0m                     \u001b[38;5;66;03m# check if cls defines __repr__\u001b[39;00m\n",
      "\u001b[1;32m   (...)\u001b[0m\n",
      "\u001b[0;32m    417\u001b[0m                     \u001b[38;5;129;01mand\u001b[39;00m \u001b[38;5;28mcallable\u001b[39m(_safe_getattr(\u001b[38;5;28mcls\u001b[39m, \u001b[38;5;124m\"\u001b[39m\u001b[38;5;124m__repr__\u001b[39m\u001b[38;5;124m\"\u001b[39m, \u001b[38;5;28;01mNone\u001b[39;00m))\n",
      "\u001b[0;32m    418\u001b[0m                 ):\n",
      "\u001b[1;32m--> 419\u001b[0m                     \u001b[38;5;28;01mreturn\u001b[39;00m \u001b[43m_repr_pprint\u001b[49m\u001b[43m(\u001b[49m\u001b[43mobj\u001b[49m\u001b[43m,\u001b[49m\u001b[43m \u001b[49m\u001b[38;5;28;43mself\u001b[39;49m\u001b[43m,\u001b[49m\u001b[43m \u001b[49m\u001b[43mcycle\u001b[49m\u001b[43m)\u001b[49m\n",
      "\u001b[0;32m    421\u001b[0m     \u001b[38;5;28;01mreturn\u001b[39;00m _default_pprint(obj, \u001b[38;5;28mself\u001b[39m, cycle)\n",
      "\u001b[0;32m    422\u001b[0m \u001b[38;5;28;01mfinally\u001b[39;00m:\n",
      "\n",
      "File \u001b[1;32m~\\AppData\\Roaming\\Python\\Python312\\site-packages\\IPython\\lib\\pretty.py:787\u001b[0m, in \u001b[0;36m_repr_pprint\u001b[1;34m(obj, p, cycle)\u001b[0m\n",
      "\u001b[0;32m    785\u001b[0m \u001b[38;5;250m\u001b[39m\u001b[38;5;124;03m\"\"\"A pprint that just redirects to the normal repr function.\"\"\"\u001b[39;00m\n",
      "\u001b[0;32m    786\u001b[0m \u001b[38;5;66;03m# Find newlines and replace them with p.break_()\u001b[39;00m\n",
      "\u001b[1;32m--> 787\u001b[0m output \u001b[38;5;241m=\u001b[39m \u001b[38;5;28;43mrepr\u001b[39;49m\u001b[43m(\u001b[49m\u001b[43mobj\u001b[49m\u001b[43m)\u001b[49m\n",
      "\u001b[0;32m    788\u001b[0m lines \u001b[38;5;241m=\u001b[39m output\u001b[38;5;241m.\u001b[39msplitlines()\n",
      "\u001b[0;32m    789\u001b[0m \u001b[38;5;28;01mwith\u001b[39;00m p\u001b[38;5;241m.\u001b[39mgroup():\n",
      "\n",
      "Cell \u001b[1;32mIn[16], line 29\u001b[0m, in \u001b[0;36mLink.__repr__\u001b[1;34m(self)\u001b[0m\n",
      "\u001b[0;32m     27\u001b[0m \u001b[38;5;28;01mdef\u001b[39;00m \u001b[38;5;21m__repr__\u001b[39m(\u001b[38;5;28mself\u001b[39m):\n",
      "\u001b[0;32m     28\u001b[0m     \u001b[38;5;28;01mif\u001b[39;00m \u001b[38;5;28mself\u001b[39m\u001b[38;5;241m.\u001b[39mrest \u001b[38;5;129;01mis\u001b[39;00m \u001b[38;5;129;01mnot\u001b[39;00m Link\u001b[38;5;241m.\u001b[39mempty:\n",
      "\u001b[1;32m---> 29\u001b[0m         rest_repr \u001b[38;5;241m=\u001b[39m \u001b[38;5;124m'\u001b[39m\u001b[38;5;124m, \u001b[39m\u001b[38;5;124m'\u001b[39m \u001b[38;5;241m+\u001b[39m \u001b[38;5;28;43mrepr\u001b[39;49m\u001b[43m(\u001b[49m\u001b[38;5;28;43mself\u001b[39;49m\u001b[38;5;241;43m.\u001b[39;49m\u001b[43mrest\u001b[49m\u001b[43m)\u001b[49m\n",
      "\u001b[0;32m     30\u001b[0m     \u001b[38;5;28;01melse\u001b[39;00m:\n",
      "\u001b[0;32m     31\u001b[0m         rest_repr \u001b[38;5;241m=\u001b[39m \u001b[38;5;124m'\u001b[39m\u001b[38;5;124m'\u001b[39m\n",
      "\n",
      "Cell \u001b[1;32mIn[16], line 29\u001b[0m, in \u001b[0;36mLink.__repr__\u001b[1;34m(self)\u001b[0m\n",
      "\u001b[0;32m     27\u001b[0m \u001b[38;5;28;01mdef\u001b[39;00m \u001b[38;5;21m__repr__\u001b[39m(\u001b[38;5;28mself\u001b[39m):\n",
      "\u001b[0;32m     28\u001b[0m     \u001b[38;5;28;01mif\u001b[39;00m \u001b[38;5;28mself\u001b[39m\u001b[38;5;241m.\u001b[39mrest \u001b[38;5;129;01mis\u001b[39;00m \u001b[38;5;129;01mnot\u001b[39;00m Link\u001b[38;5;241m.\u001b[39mempty:\n",
      "\u001b[1;32m---> 29\u001b[0m         rest_repr \u001b[38;5;241m=\u001b[39m \u001b[38;5;124m'\u001b[39m\u001b[38;5;124m, \u001b[39m\u001b[38;5;124m'\u001b[39m \u001b[38;5;241m+\u001b[39m \u001b[38;5;28;43mrepr\u001b[39;49m\u001b[43m(\u001b[49m\u001b[38;5;28;43mself\u001b[39;49m\u001b[38;5;241;43m.\u001b[39;49m\u001b[43mrest\u001b[49m\u001b[43m)\u001b[49m\n",
      "\u001b[0;32m     30\u001b[0m     \u001b[38;5;28;01melse\u001b[39;00m:\n",
      "\u001b[0;32m     31\u001b[0m         rest_repr \u001b[38;5;241m=\u001b[39m \u001b[38;5;124m'\u001b[39m\u001b[38;5;124m'\u001b[39m\n",
      "\n",
      "    \u001b[1;31m[... skipping similar frames: Link.__repr__ at line 29 (741 times)]\u001b[0m\n",
      "\n",
      "Cell \u001b[1;32mIn[16], line 29\u001b[0m, in \u001b[0;36mLink.__repr__\u001b[1;34m(self)\u001b[0m\n",
      "\u001b[0;32m     27\u001b[0m \u001b[38;5;28;01mdef\u001b[39;00m \u001b[38;5;21m__repr__\u001b[39m(\u001b[38;5;28mself\u001b[39m):\n",
      "\u001b[0;32m     28\u001b[0m     \u001b[38;5;28;01mif\u001b[39;00m \u001b[38;5;28mself\u001b[39m\u001b[38;5;241m.\u001b[39mrest \u001b[38;5;129;01mis\u001b[39;00m \u001b[38;5;129;01mnot\u001b[39;00m Link\u001b[38;5;241m.\u001b[39mempty:\n",
      "\u001b[1;32m---> 29\u001b[0m         rest_repr \u001b[38;5;241m=\u001b[39m \u001b[38;5;124m'\u001b[39m\u001b[38;5;124m, \u001b[39m\u001b[38;5;124m'\u001b[39m \u001b[38;5;241m+\u001b[39m \u001b[38;5;28;43mrepr\u001b[39;49m\u001b[43m(\u001b[49m\u001b[38;5;28;43mself\u001b[39;49m\u001b[38;5;241;43m.\u001b[39;49m\u001b[43mrest\u001b[49m\u001b[43m)\u001b[49m\n",
      "\u001b[0;32m     30\u001b[0m     \u001b[38;5;28;01melse\u001b[39;00m:\n",
      "\u001b[0;32m     31\u001b[0m         rest_repr \u001b[38;5;241m=\u001b[39m \u001b[38;5;124m'\u001b[39m\u001b[38;5;124m'\u001b[39m\n",
      "\n",
      "\u001b[1;31mRecursionError\u001b[0m: maximum recursion depth exceeded"
     ]
    }
   ],
   "source": [
    "class Link:\n",
    "    \"\"\"A linked list.\n",
    "\n",
    "    >>> s = Link(1)\n",
    "    >>> s.first\n",
    "    1\n",
    "    >>> s.rest is Link.empty\n",
    "    True\n",
    "    >>> s = Link(2, Link(3, Link(4)))\n",
    "    >>> s.first = 5\n",
    "    >>> s.rest.first = 6\n",
    "    >>> s.rest.rest = Link.empty\n",
    "    >>> s                                    # Displays the contents of repr(s)\n",
    "    Link(5, Link(6))\n",
    "    >>> s.rest = Link(7, Link(Link(8, Link(9))))\n",
    "    >>> s\n",
    "    Link(5, Link(7, Link(Link(8, Link(9)))))\n",
    "    >>> print(s)                             # Prints str(s)\n",
    "    <5 7 <8 9>>\n",
    "    \"\"\"\n",
    "    empty = ()\n",
    "    def __init__(self, first, rest=empty):\n",
    "        assert rest is Link.empty or isinstance(rest, Link)\n",
    "        self.first = first\n",
    "        self.rest = rest\n",
    "\n",
    "    def __repr__(self):\n",
    "        if self.rest is not Link.empty:\n",
    "            rest_repr = ', ' + repr(self.rest)\n",
    "        else:\n",
    "            rest_repr = ''\n",
    "        return 'Link(' + repr(self.first) + rest_repr + ')'\n",
    "\n",
    "    def __str__(self):\n",
    "        string = '<'\n",
    "        while self.rest is not Link.empty:\n",
    "            string += str(self.first) + ' '\n",
    "            self = self.rest\n",
    "        return string + str(self.first) + '>'\n",
    "#Link(1000, 2000) 第二个参数是Link对象或者Link.empty\n",
    "#link = Link(1000, Link()) 参数Link()必须符合Link的定义，即第一个参数不为空\n",
    "#Link()==Link.empty#TypeError: Link.__init__() missing 1 required positional argument: 'first'\n",
    "link = Link(1)\n",
    "link.rest = link\n",
    "link.rest.rest is Link.empty #False\n",
    "link.rest.rest is  Link(1)#alse\n",
    "link.rest.rest\n"
   ]
  },
  {
   "cell_type": "code",
   "execution_count": null,
   "metadata": {},
   "outputs": [
    {
     "ename": "RecursionError",
     "evalue": "maximum recursion depth exceeded",
     "output_type": "error",
     "traceback": [
      "\u001b[1;31m---------------------------------------------------------------------------\u001b[0m\n",
      "\u001b[1;31mRecursionError\u001b[0m                            Traceback (most recent call last)\n",
      "File \u001b[1;32m~\\AppData\\Roaming\\Python\\Python312\\site-packages\\IPython\\core\\formatters.py:711\u001b[0m, in \u001b[0;36mPlainTextFormatter.__call__\u001b[1;34m(self, obj)\u001b[0m\n",
      "\u001b[0;32m    704\u001b[0m stream \u001b[38;5;241m=\u001b[39m StringIO()\n",
      "\u001b[0;32m    705\u001b[0m printer \u001b[38;5;241m=\u001b[39m pretty\u001b[38;5;241m.\u001b[39mRepresentationPrinter(stream, \u001b[38;5;28mself\u001b[39m\u001b[38;5;241m.\u001b[39mverbose,\n",
      "\u001b[0;32m    706\u001b[0m     \u001b[38;5;28mself\u001b[39m\u001b[38;5;241m.\u001b[39mmax_width, \u001b[38;5;28mself\u001b[39m\u001b[38;5;241m.\u001b[39mnewline,\n",
      "\u001b[0;32m    707\u001b[0m     max_seq_length\u001b[38;5;241m=\u001b[39m\u001b[38;5;28mself\u001b[39m\u001b[38;5;241m.\u001b[39mmax_seq_length,\n",
      "\u001b[0;32m    708\u001b[0m     singleton_pprinters\u001b[38;5;241m=\u001b[39m\u001b[38;5;28mself\u001b[39m\u001b[38;5;241m.\u001b[39msingleton_printers,\n",
      "\u001b[0;32m    709\u001b[0m     type_pprinters\u001b[38;5;241m=\u001b[39m\u001b[38;5;28mself\u001b[39m\u001b[38;5;241m.\u001b[39mtype_printers,\n",
      "\u001b[0;32m    710\u001b[0m     deferred_pprinters\u001b[38;5;241m=\u001b[39m\u001b[38;5;28mself\u001b[39m\u001b[38;5;241m.\u001b[39mdeferred_printers)\n",
      "\u001b[1;32m--> 711\u001b[0m \u001b[43mprinter\u001b[49m\u001b[38;5;241;43m.\u001b[39;49m\u001b[43mpretty\u001b[49m\u001b[43m(\u001b[49m\u001b[43mobj\u001b[49m\u001b[43m)\u001b[49m\n",
      "\u001b[0;32m    712\u001b[0m printer\u001b[38;5;241m.\u001b[39mflush()\n",
      "\u001b[0;32m    713\u001b[0m \u001b[38;5;28;01mreturn\u001b[39;00m stream\u001b[38;5;241m.\u001b[39mgetvalue()\n",
      "\n",
      "File \u001b[1;32m~\\AppData\\Roaming\\Python\\Python312\\site-packages\\IPython\\lib\\pretty.py:419\u001b[0m, in \u001b[0;36mRepresentationPrinter.pretty\u001b[1;34m(self, obj)\u001b[0m\n",
      "\u001b[0;32m    408\u001b[0m                         \u001b[38;5;28;01mreturn\u001b[39;00m meth(obj, \u001b[38;5;28mself\u001b[39m, cycle)\n",
      "\u001b[0;32m    409\u001b[0m                 \u001b[38;5;28;01mif\u001b[39;00m (\n",
      "\u001b[0;32m    410\u001b[0m                     \u001b[38;5;28mcls\u001b[39m \u001b[38;5;129;01mis\u001b[39;00m \u001b[38;5;129;01mnot\u001b[39;00m \u001b[38;5;28mobject\u001b[39m\n",
      "\u001b[0;32m    411\u001b[0m                     \u001b[38;5;66;03m# check if cls defines __repr__\u001b[39;00m\n",
      "\u001b[1;32m   (...)\u001b[0m\n",
      "\u001b[0;32m    417\u001b[0m                     \u001b[38;5;129;01mand\u001b[39;00m \u001b[38;5;28mcallable\u001b[39m(_safe_getattr(\u001b[38;5;28mcls\u001b[39m, \u001b[38;5;124m\"\u001b[39m\u001b[38;5;124m__repr__\u001b[39m\u001b[38;5;124m\"\u001b[39m, \u001b[38;5;28;01mNone\u001b[39;00m))\n",
      "\u001b[0;32m    418\u001b[0m                 ):\n",
      "\u001b[1;32m--> 419\u001b[0m                     \u001b[38;5;28;01mreturn\u001b[39;00m \u001b[43m_repr_pprint\u001b[49m\u001b[43m(\u001b[49m\u001b[43mobj\u001b[49m\u001b[43m,\u001b[49m\u001b[43m \u001b[49m\u001b[38;5;28;43mself\u001b[39;49m\u001b[43m,\u001b[49m\u001b[43m \u001b[49m\u001b[43mcycle\u001b[49m\u001b[43m)\u001b[49m\n",
      "\u001b[0;32m    421\u001b[0m     \u001b[38;5;28;01mreturn\u001b[39;00m _default_pprint(obj, \u001b[38;5;28mself\u001b[39m, cycle)\n",
      "\u001b[0;32m    422\u001b[0m \u001b[38;5;28;01mfinally\u001b[39;00m:\n",
      "\n",
      "File \u001b[1;32m~\\AppData\\Roaming\\Python\\Python312\\site-packages\\IPython\\lib\\pretty.py:787\u001b[0m, in \u001b[0;36m_repr_pprint\u001b[1;34m(obj, p, cycle)\u001b[0m\n",
      "\u001b[0;32m    785\u001b[0m \u001b[38;5;250m\u001b[39m\u001b[38;5;124;03m\"\"\"A pprint that just redirects to the normal repr function.\"\"\"\u001b[39;00m\n",
      "\u001b[0;32m    786\u001b[0m \u001b[38;5;66;03m# Find newlines and replace them with p.break_()\u001b[39;00m\n",
      "\u001b[1;32m--> 787\u001b[0m output \u001b[38;5;241m=\u001b[39m \u001b[38;5;28;43mrepr\u001b[39;49m\u001b[43m(\u001b[49m\u001b[43mobj\u001b[49m\u001b[43m)\u001b[49m\n",
      "\u001b[0;32m    788\u001b[0m lines \u001b[38;5;241m=\u001b[39m output\u001b[38;5;241m.\u001b[39msplitlines()\n",
      "\u001b[0;32m    789\u001b[0m \u001b[38;5;28;01mwith\u001b[39;00m p\u001b[38;5;241m.\u001b[39mgroup():\n",
      "\n",
      "Cell \u001b[1;32mIn[16], line 29\u001b[0m, in \u001b[0;36mLink.__repr__\u001b[1;34m(self)\u001b[0m\n",
      "\u001b[0;32m     27\u001b[0m \u001b[38;5;28;01mdef\u001b[39;00m \u001b[38;5;21m__repr__\u001b[39m(\u001b[38;5;28mself\u001b[39m):\n",
      "\u001b[0;32m     28\u001b[0m     \u001b[38;5;28;01mif\u001b[39;00m \u001b[38;5;28mself\u001b[39m\u001b[38;5;241m.\u001b[39mrest \u001b[38;5;129;01mis\u001b[39;00m \u001b[38;5;129;01mnot\u001b[39;00m Link\u001b[38;5;241m.\u001b[39mempty:\n",
      "\u001b[1;32m---> 29\u001b[0m         rest_repr \u001b[38;5;241m=\u001b[39m \u001b[38;5;124m'\u001b[39m\u001b[38;5;124m, \u001b[39m\u001b[38;5;124m'\u001b[39m \u001b[38;5;241m+\u001b[39m \u001b[38;5;28;43mrepr\u001b[39;49m\u001b[43m(\u001b[49m\u001b[38;5;28;43mself\u001b[39;49m\u001b[38;5;241;43m.\u001b[39;49m\u001b[43mrest\u001b[49m\u001b[43m)\u001b[49m\n",
      "\u001b[0;32m     30\u001b[0m     \u001b[38;5;28;01melse\u001b[39;00m:\n",
      "\u001b[0;32m     31\u001b[0m         rest_repr \u001b[38;5;241m=\u001b[39m \u001b[38;5;124m'\u001b[39m\u001b[38;5;124m'\u001b[39m\n",
      "\n",
      "Cell \u001b[1;32mIn[16], line 29\u001b[0m, in \u001b[0;36mLink.__repr__\u001b[1;34m(self)\u001b[0m\n",
      "\u001b[0;32m     27\u001b[0m \u001b[38;5;28;01mdef\u001b[39;00m \u001b[38;5;21m__repr__\u001b[39m(\u001b[38;5;28mself\u001b[39m):\n",
      "\u001b[0;32m     28\u001b[0m     \u001b[38;5;28;01mif\u001b[39;00m \u001b[38;5;28mself\u001b[39m\u001b[38;5;241m.\u001b[39mrest \u001b[38;5;129;01mis\u001b[39;00m \u001b[38;5;129;01mnot\u001b[39;00m Link\u001b[38;5;241m.\u001b[39mempty:\n",
      "\u001b[1;32m---> 29\u001b[0m         rest_repr \u001b[38;5;241m=\u001b[39m \u001b[38;5;124m'\u001b[39m\u001b[38;5;124m, \u001b[39m\u001b[38;5;124m'\u001b[39m \u001b[38;5;241m+\u001b[39m \u001b[38;5;28;43mrepr\u001b[39;49m\u001b[43m(\u001b[49m\u001b[38;5;28;43mself\u001b[39;49m\u001b[38;5;241;43m.\u001b[39;49m\u001b[43mrest\u001b[49m\u001b[43m)\u001b[49m\n",
      "\u001b[0;32m     30\u001b[0m     \u001b[38;5;28;01melse\u001b[39;00m:\n",
      "\u001b[0;32m     31\u001b[0m         rest_repr \u001b[38;5;241m=\u001b[39m \u001b[38;5;124m'\u001b[39m\u001b[38;5;124m'\u001b[39m\n",
      "\n",
      "    \u001b[1;31m[... skipping similar frames: Link.__repr__ at line 29 (741 times)]\u001b[0m\n",
      "\n",
      "Cell \u001b[1;32mIn[16], line 29\u001b[0m, in \u001b[0;36mLink.__repr__\u001b[1;34m(self)\u001b[0m\n",
      "\u001b[0;32m     27\u001b[0m \u001b[38;5;28;01mdef\u001b[39;00m \u001b[38;5;21m__repr__\u001b[39m(\u001b[38;5;28mself\u001b[39m):\n",
      "\u001b[0;32m     28\u001b[0m     \u001b[38;5;28;01mif\u001b[39;00m \u001b[38;5;28mself\u001b[39m\u001b[38;5;241m.\u001b[39mrest \u001b[38;5;129;01mis\u001b[39;00m \u001b[38;5;129;01mnot\u001b[39;00m Link\u001b[38;5;241m.\u001b[39mempty:\n",
      "\u001b[1;32m---> 29\u001b[0m         rest_repr \u001b[38;5;241m=\u001b[39m \u001b[38;5;124m'\u001b[39m\u001b[38;5;124m, \u001b[39m\u001b[38;5;124m'\u001b[39m \u001b[38;5;241m+\u001b[39m \u001b[38;5;28;43mrepr\u001b[39;49m\u001b[43m(\u001b[49m\u001b[38;5;28;43mself\u001b[39;49m\u001b[38;5;241;43m.\u001b[39;49m\u001b[43mrest\u001b[49m\u001b[43m)\u001b[49m\n",
      "\u001b[0;32m     30\u001b[0m     \u001b[38;5;28;01melse\u001b[39;00m:\n",
      "\u001b[0;32m     31\u001b[0m         rest_repr \u001b[38;5;241m=\u001b[39m \u001b[38;5;124m'\u001b[39m\u001b[38;5;124m'\u001b[39m\n",
      "\n",
      "\u001b[1;31mRecursionError\u001b[0m: maximum recursion depth exceeded"
     ]
    }
   ],
   "source": [
    "class Link:\n",
    "    \"\"\"A linked list.\n",
    "\n",
    "    >>> s = Link(1)\n",
    "    >>> s.first\n",
    "    1\n",
    "    >>> s.rest is Link.empty\n",
    "    True\n",
    "    >>> s = Link(2, Link(3, Link(4)))\n",
    "    >>> s.first = 5\n",
    "    >>> s.rest.first = 6\n",
    "    >>> s.rest.rest = Link.empty\n",
    "    >>> s                                    # Displays the contents of repr(s)\n",
    "    Link(5, Link(6))\n",
    "    >>> s.rest = Link(7, Link(Link(8, Link(9))))\n",
    "    >>> s\n",
    "    Link(5, Link(7, Link(Link(8, Link(9)))))\n",
    "    >>> print(s)                             # Prints str(s)\n",
    "    <5 7 <8 9>>\n",
    "    \"\"\"\n",
    "    empty = ()\n",
    "    def __init__(self, first, rest=empty):\n",
    "        assert rest is Link.empty or isinstance(rest, Link)\n",
    "        self.first = first\n",
    "        self.rest = rest\n",
    "\n",
    "    def __repr__(self):\n",
    "        if self.rest is not Link.empty:\n",
    "            rest_repr = ', ' + repr(self.rest)\n",
    "        else:\n",
    "            rest_repr = ''\n",
    "        return 'Link(' + repr(self.first) + rest_repr + ')'\n",
    "\n",
    "    def __str__(self):\n",
    "        string = '<'\n",
    "        while self.rest is not Link.empty:\n",
    "            string += str(self.first) + ' '\n",
    "            self = self.rest\n",
    "        return string + str(self.first) + '>'\n",
    "#Link(1000, 2000) 第二个参数是Link对象或者Link.empty\n",
    "#link = Link(1000, Link()) 参数Link()必须符合Link的定义，即第一个参数不为空\n",
    "#Link()==Link.empty#TypeError: Link.__init__() missing 1 required positional argument: 'first'\n",
    "link = Link(1)\n",
    "link.rest = link\n",
    "link.rest.rest is Link.empty #False\n",
    "link.rest.rest is  Link(1)#alse\n",
    "link.rest.rest\n"
   ]
  },
  {
   "cell_type": "code",
   "execution_count": null,
   "metadata": {},
   "outputs": [
    {
     "ename": "RecursionError",
     "evalue": "maximum recursion depth exceeded",
     "output_type": "error",
     "traceback": [
      "\u001b[1;31m---------------------------------------------------------------------------\u001b[0m\n",
      "\u001b[1;31mRecursionError\u001b[0m                            Traceback (most recent call last)\n",
      "File \u001b[1;32m~\\AppData\\Roaming\\Python\\Python312\\site-packages\\IPython\\core\\formatters.py:711\u001b[0m, in \u001b[0;36mPlainTextFormatter.__call__\u001b[1;34m(self, obj)\u001b[0m\n",
      "\u001b[0;32m    704\u001b[0m stream \u001b[38;5;241m=\u001b[39m StringIO()\n",
      "\u001b[0;32m    705\u001b[0m printer \u001b[38;5;241m=\u001b[39m pretty\u001b[38;5;241m.\u001b[39mRepresentationPrinter(stream, \u001b[38;5;28mself\u001b[39m\u001b[38;5;241m.\u001b[39mverbose,\n",
      "\u001b[0;32m    706\u001b[0m     \u001b[38;5;28mself\u001b[39m\u001b[38;5;241m.\u001b[39mmax_width, \u001b[38;5;28mself\u001b[39m\u001b[38;5;241m.\u001b[39mnewline,\n",
      "\u001b[0;32m    707\u001b[0m     max_seq_length\u001b[38;5;241m=\u001b[39m\u001b[38;5;28mself\u001b[39m\u001b[38;5;241m.\u001b[39mmax_seq_length,\n",
      "\u001b[0;32m    708\u001b[0m     singleton_pprinters\u001b[38;5;241m=\u001b[39m\u001b[38;5;28mself\u001b[39m\u001b[38;5;241m.\u001b[39msingleton_printers,\n",
      "\u001b[0;32m    709\u001b[0m     type_pprinters\u001b[38;5;241m=\u001b[39m\u001b[38;5;28mself\u001b[39m\u001b[38;5;241m.\u001b[39mtype_printers,\n",
      "\u001b[0;32m    710\u001b[0m     deferred_pprinters\u001b[38;5;241m=\u001b[39m\u001b[38;5;28mself\u001b[39m\u001b[38;5;241m.\u001b[39mdeferred_printers)\n",
      "\u001b[1;32m--> 711\u001b[0m \u001b[43mprinter\u001b[49m\u001b[38;5;241;43m.\u001b[39;49m\u001b[43mpretty\u001b[49m\u001b[43m(\u001b[49m\u001b[43mobj\u001b[49m\u001b[43m)\u001b[49m\n",
      "\u001b[0;32m    712\u001b[0m printer\u001b[38;5;241m.\u001b[39mflush()\n",
      "\u001b[0;32m    713\u001b[0m \u001b[38;5;28;01mreturn\u001b[39;00m stream\u001b[38;5;241m.\u001b[39mgetvalue()\n",
      "\n",
      "File \u001b[1;32m~\\AppData\\Roaming\\Python\\Python312\\site-packages\\IPython\\lib\\pretty.py:419\u001b[0m, in \u001b[0;36mRepresentationPrinter.pretty\u001b[1;34m(self, obj)\u001b[0m\n",
      "\u001b[0;32m    408\u001b[0m                         \u001b[38;5;28;01mreturn\u001b[39;00m meth(obj, \u001b[38;5;28mself\u001b[39m, cycle)\n",
      "\u001b[0;32m    409\u001b[0m                 \u001b[38;5;28;01mif\u001b[39;00m (\n",
      "\u001b[0;32m    410\u001b[0m                     \u001b[38;5;28mcls\u001b[39m \u001b[38;5;129;01mis\u001b[39;00m \u001b[38;5;129;01mnot\u001b[39;00m \u001b[38;5;28mobject\u001b[39m\n",
      "\u001b[0;32m    411\u001b[0m                     \u001b[38;5;66;03m# check if cls defines __repr__\u001b[39;00m\n",
      "\u001b[1;32m   (...)\u001b[0m\n",
      "\u001b[0;32m    417\u001b[0m                     \u001b[38;5;129;01mand\u001b[39;00m \u001b[38;5;28mcallable\u001b[39m(_safe_getattr(\u001b[38;5;28mcls\u001b[39m, \u001b[38;5;124m\"\u001b[39m\u001b[38;5;124m__repr__\u001b[39m\u001b[38;5;124m\"\u001b[39m, \u001b[38;5;28;01mNone\u001b[39;00m))\n",
      "\u001b[0;32m    418\u001b[0m                 ):\n",
      "\u001b[1;32m--> 419\u001b[0m                     \u001b[38;5;28;01mreturn\u001b[39;00m \u001b[43m_repr_pprint\u001b[49m\u001b[43m(\u001b[49m\u001b[43mobj\u001b[49m\u001b[43m,\u001b[49m\u001b[43m \u001b[49m\u001b[38;5;28;43mself\u001b[39;49m\u001b[43m,\u001b[49m\u001b[43m \u001b[49m\u001b[43mcycle\u001b[49m\u001b[43m)\u001b[49m\n",
      "\u001b[0;32m    421\u001b[0m     \u001b[38;5;28;01mreturn\u001b[39;00m _default_pprint(obj, \u001b[38;5;28mself\u001b[39m, cycle)\n",
      "\u001b[0;32m    422\u001b[0m \u001b[38;5;28;01mfinally\u001b[39;00m:\n",
      "\n",
      "File \u001b[1;32m~\\AppData\\Roaming\\Python\\Python312\\site-packages\\IPython\\lib\\pretty.py:787\u001b[0m, in \u001b[0;36m_repr_pprint\u001b[1;34m(obj, p, cycle)\u001b[0m\n",
      "\u001b[0;32m    785\u001b[0m \u001b[38;5;250m\u001b[39m\u001b[38;5;124;03m\"\"\"A pprint that just redirects to the normal repr function.\"\"\"\u001b[39;00m\n",
      "\u001b[0;32m    786\u001b[0m \u001b[38;5;66;03m# Find newlines and replace them with p.break_()\u001b[39;00m\n",
      "\u001b[1;32m--> 787\u001b[0m output \u001b[38;5;241m=\u001b[39m \u001b[38;5;28;43mrepr\u001b[39;49m\u001b[43m(\u001b[49m\u001b[43mobj\u001b[49m\u001b[43m)\u001b[49m\n",
      "\u001b[0;32m    788\u001b[0m lines \u001b[38;5;241m=\u001b[39m output\u001b[38;5;241m.\u001b[39msplitlines()\n",
      "\u001b[0;32m    789\u001b[0m \u001b[38;5;28;01mwith\u001b[39;00m p\u001b[38;5;241m.\u001b[39mgroup():\n",
      "\n",
      "Cell \u001b[1;32mIn[16], line 29\u001b[0m, in \u001b[0;36mLink.__repr__\u001b[1;34m(self)\u001b[0m\n",
      "\u001b[0;32m     27\u001b[0m \u001b[38;5;28;01mdef\u001b[39;00m \u001b[38;5;21m__repr__\u001b[39m(\u001b[38;5;28mself\u001b[39m):\n",
      "\u001b[0;32m     28\u001b[0m     \u001b[38;5;28;01mif\u001b[39;00m \u001b[38;5;28mself\u001b[39m\u001b[38;5;241m.\u001b[39mrest \u001b[38;5;129;01mis\u001b[39;00m \u001b[38;5;129;01mnot\u001b[39;00m Link\u001b[38;5;241m.\u001b[39mempty:\n",
      "\u001b[1;32m---> 29\u001b[0m         rest_repr \u001b[38;5;241m=\u001b[39m \u001b[38;5;124m'\u001b[39m\u001b[38;5;124m, \u001b[39m\u001b[38;5;124m'\u001b[39m \u001b[38;5;241m+\u001b[39m \u001b[38;5;28;43mrepr\u001b[39;49m\u001b[43m(\u001b[49m\u001b[38;5;28;43mself\u001b[39;49m\u001b[38;5;241;43m.\u001b[39;49m\u001b[43mrest\u001b[49m\u001b[43m)\u001b[49m\n",
      "\u001b[0;32m     30\u001b[0m     \u001b[38;5;28;01melse\u001b[39;00m:\n",
      "\u001b[0;32m     31\u001b[0m         rest_repr \u001b[38;5;241m=\u001b[39m \u001b[38;5;124m'\u001b[39m\u001b[38;5;124m'\u001b[39m\n",
      "\n",
      "Cell \u001b[1;32mIn[16], line 29\u001b[0m, in \u001b[0;36mLink.__repr__\u001b[1;34m(self)\u001b[0m\n",
      "\u001b[0;32m     27\u001b[0m \u001b[38;5;28;01mdef\u001b[39;00m \u001b[38;5;21m__repr__\u001b[39m(\u001b[38;5;28mself\u001b[39m):\n",
      "\u001b[0;32m     28\u001b[0m     \u001b[38;5;28;01mif\u001b[39;00m \u001b[38;5;28mself\u001b[39m\u001b[38;5;241m.\u001b[39mrest \u001b[38;5;129;01mis\u001b[39;00m \u001b[38;5;129;01mnot\u001b[39;00m Link\u001b[38;5;241m.\u001b[39mempty:\n",
      "\u001b[1;32m---> 29\u001b[0m         rest_repr \u001b[38;5;241m=\u001b[39m \u001b[38;5;124m'\u001b[39m\u001b[38;5;124m, \u001b[39m\u001b[38;5;124m'\u001b[39m \u001b[38;5;241m+\u001b[39m \u001b[38;5;28;43mrepr\u001b[39;49m\u001b[43m(\u001b[49m\u001b[38;5;28;43mself\u001b[39;49m\u001b[38;5;241;43m.\u001b[39;49m\u001b[43mrest\u001b[49m\u001b[43m)\u001b[49m\n",
      "\u001b[0;32m     30\u001b[0m     \u001b[38;5;28;01melse\u001b[39;00m:\n",
      "\u001b[0;32m     31\u001b[0m         rest_repr \u001b[38;5;241m=\u001b[39m \u001b[38;5;124m'\u001b[39m\u001b[38;5;124m'\u001b[39m\n",
      "\n",
      "    \u001b[1;31m[... skipping similar frames: Link.__repr__ at line 29 (741 times)]\u001b[0m\n",
      "\n",
      "Cell \u001b[1;32mIn[16], line 29\u001b[0m, in \u001b[0;36mLink.__repr__\u001b[1;34m(self)\u001b[0m\n",
      "\u001b[0;32m     27\u001b[0m \u001b[38;5;28;01mdef\u001b[39;00m \u001b[38;5;21m__repr__\u001b[39m(\u001b[38;5;28mself\u001b[39m):\n",
      "\u001b[0;32m     28\u001b[0m     \u001b[38;5;28;01mif\u001b[39;00m \u001b[38;5;28mself\u001b[39m\u001b[38;5;241m.\u001b[39mrest \u001b[38;5;129;01mis\u001b[39;00m \u001b[38;5;129;01mnot\u001b[39;00m Link\u001b[38;5;241m.\u001b[39mempty:\n",
      "\u001b[1;32m---> 29\u001b[0m         rest_repr \u001b[38;5;241m=\u001b[39m \u001b[38;5;124m'\u001b[39m\u001b[38;5;124m, \u001b[39m\u001b[38;5;124m'\u001b[39m \u001b[38;5;241m+\u001b[39m \u001b[38;5;28;43mrepr\u001b[39;49m\u001b[43m(\u001b[49m\u001b[38;5;28;43mself\u001b[39;49m\u001b[38;5;241;43m.\u001b[39;49m\u001b[43mrest\u001b[49m\u001b[43m)\u001b[49m\n",
      "\u001b[0;32m     30\u001b[0m     \u001b[38;5;28;01melse\u001b[39;00m:\n",
      "\u001b[0;32m     31\u001b[0m         rest_repr \u001b[38;5;241m=\u001b[39m \u001b[38;5;124m'\u001b[39m\u001b[38;5;124m'\u001b[39m\n",
      "\n",
      "\u001b[1;31mRecursionError\u001b[0m: maximum recursion depth exceeded"
     ]
    }
   ],
   "source": [
    "class Link:\n",
    "    \"\"\"A linked list.\n",
    "\n",
    "    >>> s = Link(1)\n",
    "    >>> s.first\n",
    "    1\n",
    "    >>> s.rest is Link.empty\n",
    "    True\n",
    "    >>> s = Link(2, Link(3, Link(4)))\n",
    "    >>> s.first = 5\n",
    "    >>> s.rest.first = 6\n",
    "    >>> s.rest.rest = Link.empty\n",
    "    >>> s                                    # Displays the contents of repr(s)\n",
    "    Link(5, Link(6))\n",
    "    >>> s.rest = Link(7, Link(Link(8, Link(9))))\n",
    "    >>> s\n",
    "    Link(5, Link(7, Link(Link(8, Link(9)))))\n",
    "    >>> print(s)                             # Prints str(s)\n",
    "    <5 7 <8 9>>\n",
    "    \"\"\"\n",
    "    empty = ()\n",
    "    def __init__(self, first, rest=empty):\n",
    "        assert rest is Link.empty or isinstance(rest, Link)\n",
    "        self.first = first\n",
    "        self.rest = rest\n",
    "\n",
    "    def __repr__(self):\n",
    "        if self.rest is not Link.empty:\n",
    "            rest_repr = ', ' + repr(self.rest)\n",
    "        else:\n",
    "            rest_repr = ''\n",
    "        return 'Link(' + repr(self.first) + rest_repr + ')'\n",
    "\n",
    "    def __str__(self):\n",
    "        string = '<'\n",
    "        while self.rest is not Link.empty:\n",
    "            string += str(self.first) + ' '\n",
    "            self = self.rest\n",
    "        return string + str(self.first) + '>'\n",
    "#Link(1000, 2000) 第二个参数是Link对象或者Link.empty\n",
    "#link = Link(1000, Link()) 参数Link()必须符合Link的定义，即第一个参数不为空\n",
    "#Link()==Link.empty#TypeError: Link.__init__() missing 1 required positional argument: 'first'\n",
    "link = Link(1)\n",
    "link.rest = link\n",
    "link.rest.rest is Link.empty #False\n",
    "link.rest.rest is  Link(1)#alse\n",
    "link.rest.rest\n"
   ]
  },
  {
   "cell_type": "code",
   "execution_count": null,
   "metadata": {},
   "outputs": [
    {
     "ename": "RecursionError",
     "evalue": "maximum recursion depth exceeded",
     "output_type": "error",
     "traceback": [
      "\u001b[1;31m---------------------------------------------------------------------------\u001b[0m\n",
      "\u001b[1;31mRecursionError\u001b[0m                            Traceback (most recent call last)\n",
      "File \u001b[1;32m~\\AppData\\Roaming\\Python\\Python312\\site-packages\\IPython\\core\\formatters.py:711\u001b[0m, in \u001b[0;36mPlainTextFormatter.__call__\u001b[1;34m(self, obj)\u001b[0m\n",
      "\u001b[0;32m    704\u001b[0m stream \u001b[38;5;241m=\u001b[39m StringIO()\n",
      "\u001b[0;32m    705\u001b[0m printer \u001b[38;5;241m=\u001b[39m pretty\u001b[38;5;241m.\u001b[39mRepresentationPrinter(stream, \u001b[38;5;28mself\u001b[39m\u001b[38;5;241m.\u001b[39mverbose,\n",
      "\u001b[0;32m    706\u001b[0m     \u001b[38;5;28mself\u001b[39m\u001b[38;5;241m.\u001b[39mmax_width, \u001b[38;5;28mself\u001b[39m\u001b[38;5;241m.\u001b[39mnewline,\n",
      "\u001b[0;32m    707\u001b[0m     max_seq_length\u001b[38;5;241m=\u001b[39m\u001b[38;5;28mself\u001b[39m\u001b[38;5;241m.\u001b[39mmax_seq_length,\n",
      "\u001b[0;32m    708\u001b[0m     singleton_pprinters\u001b[38;5;241m=\u001b[39m\u001b[38;5;28mself\u001b[39m\u001b[38;5;241m.\u001b[39msingleton_printers,\n",
      "\u001b[0;32m    709\u001b[0m     type_pprinters\u001b[38;5;241m=\u001b[39m\u001b[38;5;28mself\u001b[39m\u001b[38;5;241m.\u001b[39mtype_printers,\n",
      "\u001b[0;32m    710\u001b[0m     deferred_pprinters\u001b[38;5;241m=\u001b[39m\u001b[38;5;28mself\u001b[39m\u001b[38;5;241m.\u001b[39mdeferred_printers)\n",
      "\u001b[1;32m--> 711\u001b[0m \u001b[43mprinter\u001b[49m\u001b[38;5;241;43m.\u001b[39;49m\u001b[43mpretty\u001b[49m\u001b[43m(\u001b[49m\u001b[43mobj\u001b[49m\u001b[43m)\u001b[49m\n",
      "\u001b[0;32m    712\u001b[0m printer\u001b[38;5;241m.\u001b[39mflush()\n",
      "\u001b[0;32m    713\u001b[0m \u001b[38;5;28;01mreturn\u001b[39;00m stream\u001b[38;5;241m.\u001b[39mgetvalue()\n",
      "\n",
      "File \u001b[1;32m~\\AppData\\Roaming\\Python\\Python312\\site-packages\\IPython\\lib\\pretty.py:419\u001b[0m, in \u001b[0;36mRepresentationPrinter.pretty\u001b[1;34m(self, obj)\u001b[0m\n",
      "\u001b[0;32m    408\u001b[0m                         \u001b[38;5;28;01mreturn\u001b[39;00m meth(obj, \u001b[38;5;28mself\u001b[39m, cycle)\n",
      "\u001b[0;32m    409\u001b[0m                 \u001b[38;5;28;01mif\u001b[39;00m (\n",
      "\u001b[0;32m    410\u001b[0m                     \u001b[38;5;28mcls\u001b[39m \u001b[38;5;129;01mis\u001b[39;00m \u001b[38;5;129;01mnot\u001b[39;00m \u001b[38;5;28mobject\u001b[39m\n",
      "\u001b[0;32m    411\u001b[0m                     \u001b[38;5;66;03m# check if cls defines __repr__\u001b[39;00m\n",
      "\u001b[1;32m   (...)\u001b[0m\n",
      "\u001b[0;32m    417\u001b[0m                     \u001b[38;5;129;01mand\u001b[39;00m \u001b[38;5;28mcallable\u001b[39m(_safe_getattr(\u001b[38;5;28mcls\u001b[39m, \u001b[38;5;124m\"\u001b[39m\u001b[38;5;124m__repr__\u001b[39m\u001b[38;5;124m\"\u001b[39m, \u001b[38;5;28;01mNone\u001b[39;00m))\n",
      "\u001b[0;32m    418\u001b[0m                 ):\n",
      "\u001b[1;32m--> 419\u001b[0m                     \u001b[38;5;28;01mreturn\u001b[39;00m \u001b[43m_repr_pprint\u001b[49m\u001b[43m(\u001b[49m\u001b[43mobj\u001b[49m\u001b[43m,\u001b[49m\u001b[43m \u001b[49m\u001b[38;5;28;43mself\u001b[39;49m\u001b[43m,\u001b[49m\u001b[43m \u001b[49m\u001b[43mcycle\u001b[49m\u001b[43m)\u001b[49m\n",
      "\u001b[0;32m    421\u001b[0m     \u001b[38;5;28;01mreturn\u001b[39;00m _default_pprint(obj, \u001b[38;5;28mself\u001b[39m, cycle)\n",
      "\u001b[0;32m    422\u001b[0m \u001b[38;5;28;01mfinally\u001b[39;00m:\n",
      "\n",
      "File \u001b[1;32m~\\AppData\\Roaming\\Python\\Python312\\site-packages\\IPython\\lib\\pretty.py:787\u001b[0m, in \u001b[0;36m_repr_pprint\u001b[1;34m(obj, p, cycle)\u001b[0m\n",
      "\u001b[0;32m    785\u001b[0m \u001b[38;5;250m\u001b[39m\u001b[38;5;124;03m\"\"\"A pprint that just redirects to the normal repr function.\"\"\"\u001b[39;00m\n",
      "\u001b[0;32m    786\u001b[0m \u001b[38;5;66;03m# Find newlines and replace them with p.break_()\u001b[39;00m\n",
      "\u001b[1;32m--> 787\u001b[0m output \u001b[38;5;241m=\u001b[39m \u001b[38;5;28;43mrepr\u001b[39;49m\u001b[43m(\u001b[49m\u001b[43mobj\u001b[49m\u001b[43m)\u001b[49m\n",
      "\u001b[0;32m    788\u001b[0m lines \u001b[38;5;241m=\u001b[39m output\u001b[38;5;241m.\u001b[39msplitlines()\n",
      "\u001b[0;32m    789\u001b[0m \u001b[38;5;28;01mwith\u001b[39;00m p\u001b[38;5;241m.\u001b[39mgroup():\n",
      "\n",
      "Cell \u001b[1;32mIn[16], line 29\u001b[0m, in \u001b[0;36mLink.__repr__\u001b[1;34m(self)\u001b[0m\n",
      "\u001b[0;32m     27\u001b[0m \u001b[38;5;28;01mdef\u001b[39;00m \u001b[38;5;21m__repr__\u001b[39m(\u001b[38;5;28mself\u001b[39m):\n",
      "\u001b[0;32m     28\u001b[0m     \u001b[38;5;28;01mif\u001b[39;00m \u001b[38;5;28mself\u001b[39m\u001b[38;5;241m.\u001b[39mrest \u001b[38;5;129;01mis\u001b[39;00m \u001b[38;5;129;01mnot\u001b[39;00m Link\u001b[38;5;241m.\u001b[39mempty:\n",
      "\u001b[1;32m---> 29\u001b[0m         rest_repr \u001b[38;5;241m=\u001b[39m \u001b[38;5;124m'\u001b[39m\u001b[38;5;124m, \u001b[39m\u001b[38;5;124m'\u001b[39m \u001b[38;5;241m+\u001b[39m \u001b[38;5;28;43mrepr\u001b[39;49m\u001b[43m(\u001b[49m\u001b[38;5;28;43mself\u001b[39;49m\u001b[38;5;241;43m.\u001b[39;49m\u001b[43mrest\u001b[49m\u001b[43m)\u001b[49m\n",
      "\u001b[0;32m     30\u001b[0m     \u001b[38;5;28;01melse\u001b[39;00m:\n",
      "\u001b[0;32m     31\u001b[0m         rest_repr \u001b[38;5;241m=\u001b[39m \u001b[38;5;124m'\u001b[39m\u001b[38;5;124m'\u001b[39m\n",
      "\n",
      "Cell \u001b[1;32mIn[16], line 29\u001b[0m, in \u001b[0;36mLink.__repr__\u001b[1;34m(self)\u001b[0m\n",
      "\u001b[0;32m     27\u001b[0m \u001b[38;5;28;01mdef\u001b[39;00m \u001b[38;5;21m__repr__\u001b[39m(\u001b[38;5;28mself\u001b[39m):\n",
      "\u001b[0;32m     28\u001b[0m     \u001b[38;5;28;01mif\u001b[39;00m \u001b[38;5;28mself\u001b[39m\u001b[38;5;241m.\u001b[39mrest \u001b[38;5;129;01mis\u001b[39;00m \u001b[38;5;129;01mnot\u001b[39;00m Link\u001b[38;5;241m.\u001b[39mempty:\n",
      "\u001b[1;32m---> 29\u001b[0m         rest_repr \u001b[38;5;241m=\u001b[39m \u001b[38;5;124m'\u001b[39m\u001b[38;5;124m, \u001b[39m\u001b[38;5;124m'\u001b[39m \u001b[38;5;241m+\u001b[39m \u001b[38;5;28;43mrepr\u001b[39;49m\u001b[43m(\u001b[49m\u001b[38;5;28;43mself\u001b[39;49m\u001b[38;5;241;43m.\u001b[39;49m\u001b[43mrest\u001b[49m\u001b[43m)\u001b[49m\n",
      "\u001b[0;32m     30\u001b[0m     \u001b[38;5;28;01melse\u001b[39;00m:\n",
      "\u001b[0;32m     31\u001b[0m         rest_repr \u001b[38;5;241m=\u001b[39m \u001b[38;5;124m'\u001b[39m\u001b[38;5;124m'\u001b[39m\n",
      "\n",
      "    \u001b[1;31m[... skipping similar frames: Link.__repr__ at line 29 (741 times)]\u001b[0m\n",
      "\n",
      "Cell \u001b[1;32mIn[16], line 29\u001b[0m, in \u001b[0;36mLink.__repr__\u001b[1;34m(self)\u001b[0m\n",
      "\u001b[0;32m     27\u001b[0m \u001b[38;5;28;01mdef\u001b[39;00m \u001b[38;5;21m__repr__\u001b[39m(\u001b[38;5;28mself\u001b[39m):\n",
      "\u001b[0;32m     28\u001b[0m     \u001b[38;5;28;01mif\u001b[39;00m \u001b[38;5;28mself\u001b[39m\u001b[38;5;241m.\u001b[39mrest \u001b[38;5;129;01mis\u001b[39;00m \u001b[38;5;129;01mnot\u001b[39;00m Link\u001b[38;5;241m.\u001b[39mempty:\n",
      "\u001b[1;32m---> 29\u001b[0m         rest_repr \u001b[38;5;241m=\u001b[39m \u001b[38;5;124m'\u001b[39m\u001b[38;5;124m, \u001b[39m\u001b[38;5;124m'\u001b[39m \u001b[38;5;241m+\u001b[39m \u001b[38;5;28;43mrepr\u001b[39;49m\u001b[43m(\u001b[49m\u001b[38;5;28;43mself\u001b[39;49m\u001b[38;5;241;43m.\u001b[39;49m\u001b[43mrest\u001b[49m\u001b[43m)\u001b[49m\n",
      "\u001b[0;32m     30\u001b[0m     \u001b[38;5;28;01melse\u001b[39;00m:\n",
      "\u001b[0;32m     31\u001b[0m         rest_repr \u001b[38;5;241m=\u001b[39m \u001b[38;5;124m'\u001b[39m\u001b[38;5;124m'\u001b[39m\n",
      "\n",
      "\u001b[1;31mRecursionError\u001b[0m: maximum recursion depth exceeded"
     ]
    }
   ],
   "source": [
    "class Link:\n",
    "    \"\"\"A linked list.\n",
    "\n",
    "    >>> s = Link(1)\n",
    "    >>> s.first\n",
    "    1\n",
    "    >>> s.rest is Link.empty\n",
    "    True\n",
    "    >>> s = Link(2, Link(3, Link(4)))\n",
    "    >>> s.first = 5\n",
    "    >>> s.rest.first = 6\n",
    "    >>> s.rest.rest = Link.empty\n",
    "    >>> s                                    # Displays the contents of repr(s)\n",
    "    Link(5, Link(6))\n",
    "    >>> s.rest = Link(7, Link(Link(8, Link(9))))\n",
    "    >>> s\n",
    "    Link(5, Link(7, Link(Link(8, Link(9)))))\n",
    "    >>> print(s)                             # Prints str(s)\n",
    "    <5 7 <8 9>>\n",
    "    \"\"\"\n",
    "    empty = ()\n",
    "    def __init__(self, first, rest=empty):\n",
    "        assert rest is Link.empty or isinstance(rest, Link)\n",
    "        self.first = first\n",
    "        self.rest = rest\n",
    "\n",
    "    def __repr__(self):\n",
    "        if self.rest is not Link.empty:\n",
    "            rest_repr = ', ' + repr(self.rest)\n",
    "        else:\n",
    "            rest_repr = ''\n",
    "        return 'Link(' + repr(self.first) + rest_repr + ')'\n",
    "\n",
    "    def __str__(self):\n",
    "        string = '<'\n",
    "        while self.rest is not Link.empty:\n",
    "            string += str(self.first) + ' '\n",
    "            self = self.rest\n",
    "        return string + str(self.first) + '>'\n",
    "#Link(1000, 2000) 第二个参数是Link对象或者Link.empty\n",
    "#link = Link(1000, Link()) 参数Link()必须符合Link的定义，即第一个参数不为空\n",
    "#Link()==Link.empty#TypeError: Link.__init__() missing 1 required positional argument: 'first'\n",
    "link = Link(1)\n",
    "link.rest = link\n",
    "link.rest.rest is Link.empty #False\n",
    "link.rest.rest is  Link(1)#alse\n",
    "link.rest.rest\n"
   ]
  },
  {
   "cell_type": "code",
   "execution_count": null,
   "metadata": {},
   "outputs": [
    {
     "ename": "RecursionError",
     "evalue": "maximum recursion depth exceeded",
     "output_type": "error",
     "traceback": [
      "\u001b[1;31m---------------------------------------------------------------------------\u001b[0m\n",
      "\u001b[1;31mRecursionError\u001b[0m                            Traceback (most recent call last)\n",
      "File \u001b[1;32m~\\AppData\\Roaming\\Python\\Python312\\site-packages\\IPython\\core\\formatters.py:711\u001b[0m, in \u001b[0;36mPlainTextFormatter.__call__\u001b[1;34m(self, obj)\u001b[0m\n",
      "\u001b[0;32m    704\u001b[0m stream \u001b[38;5;241m=\u001b[39m StringIO()\n",
      "\u001b[0;32m    705\u001b[0m printer \u001b[38;5;241m=\u001b[39m pretty\u001b[38;5;241m.\u001b[39mRepresentationPrinter(stream, \u001b[38;5;28mself\u001b[39m\u001b[38;5;241m.\u001b[39mverbose,\n",
      "\u001b[0;32m    706\u001b[0m     \u001b[38;5;28mself\u001b[39m\u001b[38;5;241m.\u001b[39mmax_width, \u001b[38;5;28mself\u001b[39m\u001b[38;5;241m.\u001b[39mnewline,\n",
      "\u001b[0;32m    707\u001b[0m     max_seq_length\u001b[38;5;241m=\u001b[39m\u001b[38;5;28mself\u001b[39m\u001b[38;5;241m.\u001b[39mmax_seq_length,\n",
      "\u001b[0;32m    708\u001b[0m     singleton_pprinters\u001b[38;5;241m=\u001b[39m\u001b[38;5;28mself\u001b[39m\u001b[38;5;241m.\u001b[39msingleton_printers,\n",
      "\u001b[0;32m    709\u001b[0m     type_pprinters\u001b[38;5;241m=\u001b[39m\u001b[38;5;28mself\u001b[39m\u001b[38;5;241m.\u001b[39mtype_printers,\n",
      "\u001b[0;32m    710\u001b[0m     deferred_pprinters\u001b[38;5;241m=\u001b[39m\u001b[38;5;28mself\u001b[39m\u001b[38;5;241m.\u001b[39mdeferred_printers)\n",
      "\u001b[1;32m--> 711\u001b[0m \u001b[43mprinter\u001b[49m\u001b[38;5;241;43m.\u001b[39;49m\u001b[43mpretty\u001b[49m\u001b[43m(\u001b[49m\u001b[43mobj\u001b[49m\u001b[43m)\u001b[49m\n",
      "\u001b[0;32m    712\u001b[0m printer\u001b[38;5;241m.\u001b[39mflush()\n",
      "\u001b[0;32m    713\u001b[0m \u001b[38;5;28;01mreturn\u001b[39;00m stream\u001b[38;5;241m.\u001b[39mgetvalue()\n",
      "\n",
      "File \u001b[1;32m~\\AppData\\Roaming\\Python\\Python312\\site-packages\\IPython\\lib\\pretty.py:419\u001b[0m, in \u001b[0;36mRepresentationPrinter.pretty\u001b[1;34m(self, obj)\u001b[0m\n",
      "\u001b[0;32m    408\u001b[0m                         \u001b[38;5;28;01mreturn\u001b[39;00m meth(obj, \u001b[38;5;28mself\u001b[39m, cycle)\n",
      "\u001b[0;32m    409\u001b[0m                 \u001b[38;5;28;01mif\u001b[39;00m (\n",
      "\u001b[0;32m    410\u001b[0m                     \u001b[38;5;28mcls\u001b[39m \u001b[38;5;129;01mis\u001b[39;00m \u001b[38;5;129;01mnot\u001b[39;00m \u001b[38;5;28mobject\u001b[39m\n",
      "\u001b[0;32m    411\u001b[0m                     \u001b[38;5;66;03m# check if cls defines __repr__\u001b[39;00m\n",
      "\u001b[1;32m   (...)\u001b[0m\n",
      "\u001b[0;32m    417\u001b[0m                     \u001b[38;5;129;01mand\u001b[39;00m \u001b[38;5;28mcallable\u001b[39m(_safe_getattr(\u001b[38;5;28mcls\u001b[39m, \u001b[38;5;124m\"\u001b[39m\u001b[38;5;124m__repr__\u001b[39m\u001b[38;5;124m\"\u001b[39m, \u001b[38;5;28;01mNone\u001b[39;00m))\n",
      "\u001b[0;32m    418\u001b[0m                 ):\n",
      "\u001b[1;32m--> 419\u001b[0m                     \u001b[38;5;28;01mreturn\u001b[39;00m \u001b[43m_repr_pprint\u001b[49m\u001b[43m(\u001b[49m\u001b[43mobj\u001b[49m\u001b[43m,\u001b[49m\u001b[43m \u001b[49m\u001b[38;5;28;43mself\u001b[39;49m\u001b[43m,\u001b[49m\u001b[43m \u001b[49m\u001b[43mcycle\u001b[49m\u001b[43m)\u001b[49m\n",
      "\u001b[0;32m    421\u001b[0m     \u001b[38;5;28;01mreturn\u001b[39;00m _default_pprint(obj, \u001b[38;5;28mself\u001b[39m, cycle)\n",
      "\u001b[0;32m    422\u001b[0m \u001b[38;5;28;01mfinally\u001b[39;00m:\n",
      "\n",
      "File \u001b[1;32m~\\AppData\\Roaming\\Python\\Python312\\site-packages\\IPython\\lib\\pretty.py:787\u001b[0m, in \u001b[0;36m_repr_pprint\u001b[1;34m(obj, p, cycle)\u001b[0m\n",
      "\u001b[0;32m    785\u001b[0m \u001b[38;5;250m\u001b[39m\u001b[38;5;124;03m\"\"\"A pprint that just redirects to the normal repr function.\"\"\"\u001b[39;00m\n",
      "\u001b[0;32m    786\u001b[0m \u001b[38;5;66;03m# Find newlines and replace them with p.break_()\u001b[39;00m\n",
      "\u001b[1;32m--> 787\u001b[0m output \u001b[38;5;241m=\u001b[39m \u001b[38;5;28;43mrepr\u001b[39;49m\u001b[43m(\u001b[49m\u001b[43mobj\u001b[49m\u001b[43m)\u001b[49m\n",
      "\u001b[0;32m    788\u001b[0m lines \u001b[38;5;241m=\u001b[39m output\u001b[38;5;241m.\u001b[39msplitlines()\n",
      "\u001b[0;32m    789\u001b[0m \u001b[38;5;28;01mwith\u001b[39;00m p\u001b[38;5;241m.\u001b[39mgroup():\n",
      "\n",
      "Cell \u001b[1;32mIn[16], line 29\u001b[0m, in \u001b[0;36mLink.__repr__\u001b[1;34m(self)\u001b[0m\n",
      "\u001b[0;32m     27\u001b[0m \u001b[38;5;28;01mdef\u001b[39;00m \u001b[38;5;21m__repr__\u001b[39m(\u001b[38;5;28mself\u001b[39m):\n",
      "\u001b[0;32m     28\u001b[0m     \u001b[38;5;28;01mif\u001b[39;00m \u001b[38;5;28mself\u001b[39m\u001b[38;5;241m.\u001b[39mrest \u001b[38;5;129;01mis\u001b[39;00m \u001b[38;5;129;01mnot\u001b[39;00m Link\u001b[38;5;241m.\u001b[39mempty:\n",
      "\u001b[1;32m---> 29\u001b[0m         rest_repr \u001b[38;5;241m=\u001b[39m \u001b[38;5;124m'\u001b[39m\u001b[38;5;124m, \u001b[39m\u001b[38;5;124m'\u001b[39m \u001b[38;5;241m+\u001b[39m \u001b[38;5;28;43mrepr\u001b[39;49m\u001b[43m(\u001b[49m\u001b[38;5;28;43mself\u001b[39;49m\u001b[38;5;241;43m.\u001b[39;49m\u001b[43mrest\u001b[49m\u001b[43m)\u001b[49m\n",
      "\u001b[0;32m     30\u001b[0m     \u001b[38;5;28;01melse\u001b[39;00m:\n",
      "\u001b[0;32m     31\u001b[0m         rest_repr \u001b[38;5;241m=\u001b[39m \u001b[38;5;124m'\u001b[39m\u001b[38;5;124m'\u001b[39m\n",
      "\n",
      "Cell \u001b[1;32mIn[16], line 29\u001b[0m, in \u001b[0;36mLink.__repr__\u001b[1;34m(self)\u001b[0m\n",
      "\u001b[0;32m     27\u001b[0m \u001b[38;5;28;01mdef\u001b[39;00m \u001b[38;5;21m__repr__\u001b[39m(\u001b[38;5;28mself\u001b[39m):\n",
      "\u001b[0;32m     28\u001b[0m     \u001b[38;5;28;01mif\u001b[39;00m \u001b[38;5;28mself\u001b[39m\u001b[38;5;241m.\u001b[39mrest \u001b[38;5;129;01mis\u001b[39;00m \u001b[38;5;129;01mnot\u001b[39;00m Link\u001b[38;5;241m.\u001b[39mempty:\n",
      "\u001b[1;32m---> 29\u001b[0m         rest_repr \u001b[38;5;241m=\u001b[39m \u001b[38;5;124m'\u001b[39m\u001b[38;5;124m, \u001b[39m\u001b[38;5;124m'\u001b[39m \u001b[38;5;241m+\u001b[39m \u001b[38;5;28;43mrepr\u001b[39;49m\u001b[43m(\u001b[49m\u001b[38;5;28;43mself\u001b[39;49m\u001b[38;5;241;43m.\u001b[39;49m\u001b[43mrest\u001b[49m\u001b[43m)\u001b[49m\n",
      "\u001b[0;32m     30\u001b[0m     \u001b[38;5;28;01melse\u001b[39;00m:\n",
      "\u001b[0;32m     31\u001b[0m         rest_repr \u001b[38;5;241m=\u001b[39m \u001b[38;5;124m'\u001b[39m\u001b[38;5;124m'\u001b[39m\n",
      "\n",
      "    \u001b[1;31m[... skipping similar frames: Link.__repr__ at line 29 (741 times)]\u001b[0m\n",
      "\n",
      "Cell \u001b[1;32mIn[16], line 29\u001b[0m, in \u001b[0;36mLink.__repr__\u001b[1;34m(self)\u001b[0m\n",
      "\u001b[0;32m     27\u001b[0m \u001b[38;5;28;01mdef\u001b[39;00m \u001b[38;5;21m__repr__\u001b[39m(\u001b[38;5;28mself\u001b[39m):\n",
      "\u001b[0;32m     28\u001b[0m     \u001b[38;5;28;01mif\u001b[39;00m \u001b[38;5;28mself\u001b[39m\u001b[38;5;241m.\u001b[39mrest \u001b[38;5;129;01mis\u001b[39;00m \u001b[38;5;129;01mnot\u001b[39;00m Link\u001b[38;5;241m.\u001b[39mempty:\n",
      "\u001b[1;32m---> 29\u001b[0m         rest_repr \u001b[38;5;241m=\u001b[39m \u001b[38;5;124m'\u001b[39m\u001b[38;5;124m, \u001b[39m\u001b[38;5;124m'\u001b[39m \u001b[38;5;241m+\u001b[39m \u001b[38;5;28;43mrepr\u001b[39;49m\u001b[43m(\u001b[49m\u001b[38;5;28;43mself\u001b[39;49m\u001b[38;5;241;43m.\u001b[39;49m\u001b[43mrest\u001b[49m\u001b[43m)\u001b[49m\n",
      "\u001b[0;32m     30\u001b[0m     \u001b[38;5;28;01melse\u001b[39;00m:\n",
      "\u001b[0;32m     31\u001b[0m         rest_repr \u001b[38;5;241m=\u001b[39m \u001b[38;5;124m'\u001b[39m\u001b[38;5;124m'\u001b[39m\n",
      "\n",
      "\u001b[1;31mRecursionError\u001b[0m: maximum recursion depth exceeded"
     ]
    }
   ],
   "source": [
    "class Link:\n",
    "    \"\"\"A linked list.\n",
    "\n",
    "    >>> s = Link(1)\n",
    "    >>> s.first\n",
    "    1\n",
    "    >>> s.rest is Link.empty\n",
    "    True\n",
    "    >>> s = Link(2, Link(3, Link(4)))\n",
    "    >>> s.first = 5\n",
    "    >>> s.rest.first = 6\n",
    "    >>> s.rest.rest = Link.empty\n",
    "    >>> s                                    # Displays the contents of repr(s)\n",
    "    Link(5, Link(6))\n",
    "    >>> s.rest = Link(7, Link(Link(8, Link(9))))\n",
    "    >>> s\n",
    "    Link(5, Link(7, Link(Link(8, Link(9)))))\n",
    "    >>> print(s)                             # Prints str(s)\n",
    "    <5 7 <8 9>>\n",
    "    \"\"\"\n",
    "    empty = ()\n",
    "    def __init__(self, first, rest=empty):\n",
    "        assert rest is Link.empty or isinstance(rest, Link)\n",
    "        self.first = first\n",
    "        self.rest = rest\n",
    "\n",
    "    def __repr__(self):\n",
    "        if self.rest is not Link.empty:\n",
    "            rest_repr = ', ' + repr(self.rest)\n",
    "        else:\n",
    "            rest_repr = ''\n",
    "        return 'Link(' + repr(self.first) + rest_repr + ')'\n",
    "\n",
    "    def __str__(self):\n",
    "        string = '<'\n",
    "        while self.rest is not Link.empty:\n",
    "            string += str(self.first) + ' '\n",
    "            self = self.rest\n",
    "        return string + str(self.first) + '>'\n",
    "#Link(1000, 2000) 第二个参数是Link对象或者Link.empty\n",
    "#link = Link(1000, Link()) 参数Link()必须符合Link的定义，即第一个参数不为空\n",
    "#Link()==Link.empty#TypeError: Link.__init__() missing 1 required positional argument: 'first'\n",
    "link = Link(1)\n",
    "link.rest = link\n",
    "link.rest.rest is Link.empty #False\n",
    "link.rest.rest is  Link(1)#alse\n",
    "link.rest.rest\n"
   ]
  },
  {
   "cell_type": "code",
   "execution_count": null,
   "metadata": {},
   "outputs": [
    {
     "name": "stdout",
     "output_type": "stream",
     "text": [
      "0 2 0\n",
      "1 2 1\n"
     ]
    }
   ],
   "source": [
    "class A:\n",
    "  x, y = 0, 0\n",
    "  def __init__(self):\n",
    "        return\n",
    "class B(A):\n",
    "  def __init__(self):\n",
    "        return\n",
    "class C(A):\n",
    "  def __init__(self):\n",
    "        return\n",
    "B.x = 2\n",
    "print(A.x, B.x, C.x)\n",
    "A.x += 1\n",
    "print(A.x, B.x, C.x)"
   ]
  },
  {
   "cell_type": "markdown",
   "metadata": {},
   "source": [
    "1.B.x 和 A.x 在最初的时候指向的是同一个内存地址，它们的值是相同的。\n",
    "2.当执行 B.x = 2 时，Python 并不会直接修改 A.x 的值。相反，Python 会在类 B 的命名空间中创建一个新的变量 x，并将其值设置为 2。\n",
    "3.这样，B.x 和 A.x 就不再共享同一个内存地址了。B.x 指向新的内存地址，其值为 2，而 A.x 仍然指向原来的内存地址，其值为 0。\n",
    "4.当 A 类中的 x 属性发生改变时，B 类和 C 类在查找 x 属性时获取到的就是已经被修改后的 A 类的 x 值。"
   ]
  },
  {
   "cell_type": "code",
   "execution_count": null,
   "metadata": {},
   "outputs": [
    {
     "data": {
      "text/plain": [
       "[0, 1, 1, 2, 3, 5, 8, 13, 21, 34]"
      ]
     },
     "execution_count": 19,
     "metadata": {},
     "output_type": "execute_result"
    }
   ],
   "source": [
    "def gen_fib(): #这段代码定义了一个生成斐波那契数列的生成器函数，并使用该生成器获取前10个斐波那契数。\n",
    "    n, add = 0, 1\n",
    "    while True:\n",
    "        yield n\n",
    "        n, add = n + add, n\n",
    "(lambda t: [next(t) for _ in range(10)])(gen_fib())\n",
    "#生成十个斐波那契数 >>>[0, 1, 1, 2, 3, 5, 8, 13, 21, 34]\n",
    "'''next(t) 是我们要执行的表达式，其中 t 是 gen_fib() 生成的生成器。\n",
    "next() 函数用于获取生产者（生成器）生成的下一个值。\n",
    "for _ in range(10) 表示我们要执行这条语句 10 次。这里的 _ 是一个常用惯例，表示我们并不需要使用这个变量，也就是说我们只是要重复操作，而不关心循环变量本身。'''\n"
   ]
  },
  {
   "cell_type": "code",
   "execution_count": null,
   "metadata": {},
   "outputs": [
    {
     "ename": "StopIteration",
     "evalue": "",
     "output_type": "error",
     "traceback": [
      "\u001b[1;31m---------------------------------------------------------------------------\u001b[0m",
      "\u001b[1;31mStopIteration\u001b[0m                             Traceback (most recent call last)",
      "Cell \u001b[1;32mIn[28], line 18\u001b[0m\n\u001b[0;32m     16\u001b[0m         count\u001b[38;5;241m.\u001b[39mappend(\u001b[38;5;28mnext\u001b[39m(s)\u001b[38;5;241m-\u001b[39m\u001b[38;5;28mnext\u001b[39m(n))\n\u001b[0;32m     17\u001b[0m     \u001b[38;5;28;01mreturn\u001b[39;00m count\n\u001b[1;32m---> 18\u001b[0m \u001b[38;5;28mlist\u001b[39m(\u001b[43mdifferences\u001b[49m\u001b[43m(\u001b[49m\u001b[38;5;28;43miter\u001b[39;49m\u001b[43m(\u001b[49m\u001b[43m[\u001b[49m\u001b[38;5;241;43m5\u001b[39;49m\u001b[43m,\u001b[49m\u001b[43m \u001b[49m\u001b[38;5;241;43m2\u001b[39;49m\u001b[43m,\u001b[49m\u001b[43m \u001b[49m\u001b[38;5;241;43m-\u001b[39;49m\u001b[38;5;241;43m100\u001b[39;49m\u001b[43m,\u001b[49m\u001b[43m \u001b[49m\u001b[38;5;241;43m103\u001b[39;49m\u001b[43m]\u001b[49m\u001b[43m)\u001b[49m\u001b[43m)\u001b[49m)\n\u001b[0;32m     19\u001b[0m \u001b[38;5;28mnext\u001b[39m(differences(\u001b[38;5;28miter\u001b[39m([\u001b[38;5;241m39\u001b[39m, \u001b[38;5;241m100\u001b[39m])))\n",
      "Cell \u001b[1;32mIn[28], line 16\u001b[0m, in \u001b[0;36mdifferences\u001b[1;34m(t)\u001b[0m\n\u001b[0;32m     14\u001b[0m count_1 \u001b[38;5;241m=\u001b[39m\u001b[38;5;28mlen\u001b[39m(\u001b[38;5;28mlist\u001b[39m(t))\u001b[38;5;241m-\u001b[39m\u001b[38;5;241m1\u001b[39m\n\u001b[0;32m     15\u001b[0m \u001b[38;5;28;01mfor\u001b[39;00m _ \u001b[38;5;129;01min\u001b[39;00m \u001b[38;5;28mrange\u001b[39m(count_1):\n\u001b[1;32m---> 16\u001b[0m     count\u001b[38;5;241m.\u001b[39mappend(\u001b[38;5;28;43mnext\u001b[39;49m\u001b[43m(\u001b[49m\u001b[43ms\u001b[49m\u001b[43m)\u001b[49m\u001b[38;5;241m-\u001b[39m\u001b[38;5;28mnext\u001b[39m(n))\n\u001b[0;32m     17\u001b[0m \u001b[38;5;28;01mreturn\u001b[39;00m count\n",
      "\u001b[1;31mStopIteration\u001b[0m: "
     ]
    }
   ],
   "source": [
    "def differences(t):\n",
    "    \"\"\"Yield the differences between adjacent values from iterator t.\n",
    "\n",
    "    >>> list(differences(iter([5, 2, -100, 103])))\n",
    "    [-3, -102, 203]\n",
    "    >>> next(differences(iter([39, 100])))\n",
    "    61\n",
    "    \"\"\"\n",
    "    \"*** YOUR CODE HERE ***\"\n",
    "    s = iter(t)\n",
    "    n = iter(t)\n",
    "    num =next(s)\n",
    "    count = []\n",
    "    count_1 =len(list(t))-1\n",
    "    for _ in range(count_1):\n",
    "        count.append(next(s)-next(n))\n",
    "    return count\n",
    "list(differences(iter([5, 2, -100, 103])))\n",
    "next(differences(iter([39, 100])))"
   ]
  },
  {
   "cell_type": "code",
   "execution_count": null,
   "metadata": {},
   "outputs": [
    {
     "name": "stdout",
     "output_type": "stream",
     "text": [
      "True\n",
      "2\n",
      "-100\n",
      "[102]\n"
     ]
    }
   ],
   "source": [
    "def differences(t):\n",
    "    s = iter(t)\n",
    "    n = iter(t)\n",
    "    return n is s\n",
    "print(differences([1,2,3,4,5]))\n",
    "print(differences(iter([5, 2, -100, 103])))"
   ]
  },
  {
   "cell_type": "markdown",
   "metadata": {},
   "source": [
    "1. 对于 print(differences([1,2,3,4,5])) 的情况分析\n",
    "在 Python 中，当使用 iter() 函数作用于像列表 [1, 2, 3, 4, 5] 这样的可迭代对象时，每次调用 iter() 都会创建一个新的独立的迭代器对象。\n",
    "2. 对于 print(differences(iter([5, 2, -100, 103]))) 的情况分析\n",
    "当传递给 differences 函数的参数本身已经是一个迭代器对象时（这里是 iter([5, 2, -100, 103]) 创建的迭代器），情况就有所不同了。\n",
    "当你多次将同一个迭代器对象传递给 iter() 函数时，Python 并不会创建新的迭代器，而是直接返回传入的那个已有的迭代器本身。"
   ]
  },
  {
   "cell_type": "code",
   "execution_count": null,
   "metadata": {},
   "outputs": [
    {
     "name": "stdout",
     "output_type": "stream",
     "text": [
      "False\n"
     ]
    }
   ],
   "source": [
    "t = [1, 2, 3, 4, 5]\n",
    "s = iter(t)\n",
    "n = iter(t)\n",
    "print(s is n)"
   ]
  },
  {
   "cell_type": "code",
   "execution_count": null,
   "metadata": {},
   "outputs": [
    {
     "data": {
      "text/plain": [
       "0"
      ]
     },
     "execution_count": 1,
     "metadata": {},
     "output_type": "execute_result"
    }
   ],
   "source": [
    "li = []\n",
    "len(li)"
   ]
  },
  {
   "cell_type": "code",
   "execution_count": null,
   "metadata": {},
   "outputs": [
    {
     "data": {
      "text/plain": [
       "9"
      ]
     },
     "execution_count": 3,
     "metadata": {},
     "output_type": "execute_result"
    }
   ],
   "source": [
    "'heiheihei'.__len__()"
   ]
  },
  {
   "cell_type": "code",
   "execution_count": null,
   "metadata": {},
   "outputs": [],
   "source": [
    "def sequence(start, step):  #区别？\n",
    "    while True:\n",
    "        yield start\n",
    "        start += step\n",
    "\n",
    "def sequence(start, step):\n",
    "        yield start\n",
    "        start += step"
   ]
  },
  {
   "cell_type": "markdown",
   "metadata": {},
   "source": [
    "1.当生成器执行到yield语句暂停并输出值后，它会接着按顺序执行yield语句之后的代码，一直执行到函数体结束或者遇到下一个yield语句（如果有的话）。\n",
    "2.在返回start的值之后（也就是暂停之前），代码会继续按照顺序执行下一条语句，也就是start += step。所以start的值会被改变\n",
    "3.第一段代码基本只生成一个值（初始的 start 值），后续代码虽然对值有更新操作，但不会继续向外返回更多新值了。\n",
    "第二段代码能够根据 while True 循环机制持续生成多个值，形成一个按给定步长变化的序列，只要外部不断去驱动它（比如持续调用 next() 函数等），就可以源源不断地获取新的值。\n"
   ]
  },
  {
   "cell_type": "code",
   "execution_count": null,
   "metadata": {},
   "outputs": [
    {
     "ename": "TypeError",
     "evalue": "'builtin_function_or_method' object is not subscriptable",
     "output_type": "error",
     "traceback": [
      "\u001b[1;31m---------------------------------------------------------------------------\u001b[0m",
      "\u001b[1;31mTypeError\u001b[0m                                 Traceback (most recent call last)",
      "Cell \u001b[1;32mIn[2], line 1\u001b[0m\n\u001b[1;32m----> 1\u001b[0m \u001b[38;5;28;43mlen\u001b[39;49m\u001b[43m[\u001b[49m\u001b[38;5;241;43m1\u001b[39;49m\u001b[43m,\u001b[49m\u001b[43m[\u001b[49m\u001b[38;5;241;43m2\u001b[39;49m\u001b[43m,\u001b[49m\u001b[38;5;241;43m3\u001b[39;49m\u001b[43m]\u001b[49m\u001b[43m]\u001b[49m\n",
      "\u001b[1;31mTypeError\u001b[0m: 'builtin_function_or_method' object is not subscriptable"
     ]
    }
   ],
   "source": [
    "len[1,[2,3]]#内置函数或方法对象不可下标访问”\n"
   ]
  },
  {
   "cell_type": "code",
   "execution_count": null,
   "metadata": {},
   "outputs": [
    {
     "name": "stdout",
     "output_type": "stream",
     "text": [
      "1\n",
      "<class 'int'>\n",
      "2\n",
      "<class 'int'>\n",
      "3\n",
      "<class 'int'>\n"
     ]
    }
   ],
   "source": [
    "s = [1, 2, 3]\n",
    "for i in s:\n",
    "    print(i)\n",
    "    print(type(i))"
   ]
  },
  {
   "cell_type": "code",
   "execution_count": null,
   "metadata": {},
   "outputs": [
    {
     "data": {
      "text/plain": [
       "[1, 2, 3, 9, 10, None, None]"
      ]
     },
     "execution_count": 7,
     "metadata": {},
     "output_type": "execute_result"
    }
   ],
   "source": [
    "s = [1, 2, 3]\n",
    "s.extend([s.append(9), s.append(10)])\n",
    "s\n",
    "'''执行顺序如下：\n",
    "s.append(9) 将 9 添加到列表 s 中，并且返回 None。\n",
    "s.append(10) 将 10 添加到列表 s 中，同样返回 None。\n",
    "因此,extend 方法中的列表实际上是  [None, None]，并不会把 9 和 10 作为元素添加，它们已经被直接添加到了 s 中。'''"
   ]
  },
  {
   "cell_type": "code",
   "execution_count": null,
   "metadata": {},
   "outputs": [
    {
     "data": {
      "text/plain": [
       "<function __main__.MyClass.my_method(self)>"
      ]
     },
     "execution_count": 7,
     "metadata": {},
     "output_type": "execute_result"
    }
   ],
   "source": [
    "class MyClass:\n",
    "    def my_method(self):\n",
    "        return \"Hello, World!\"\n",
    "\n",
    "# 创建对象实例\n",
    "obj = MyClass()\n",
    "\n",
    "# 使用 getattr 获取绑定方法\n",
    "getattr(obj, 'my_method')\n",
    " # 输出:<bound method MyClass.my_method of <__main__.MyClass object at 0x0000023A8E7D96A0>>\n",
    "\n",
    "# 使用 getattr 获取未绑定方法\n",
    "getattr(MyClass, 'my_method')\n",
    "  # 输出:<function __main__.MyClass.my_method(self)>\n"
   ]
  },
  {
   "cell_type": "code",
   "execution_count": null,
   "metadata": {},
   "outputs": [
    {
     "data": {
      "text/plain": [
       "<function __main__.MyClass.my_method(self)>"
      ]
     },
     "metadata": {},
     "output_type": "display_data"
    }
   ],
   "source": [
    "class MyClass:\n",
    "    def my_method(self):\n",
    "        return \"Hello, World!\"\n",
    "\n",
    "# 创建对象实例\n",
    "obj = MyClass()\n",
    "\n",
    "# 使用 getattr 获取绑定方法\n",
    "getattr(obj, 'my_method')\n",
    " # 输出:<bound method MyClass.my_method of <__main__.MyClass object at 0x0000023A8E7D96A0>>\n",
    "\n",
    "# 使用 getattr 获取未绑定方法\n",
    "getattr(MyClass, 'my_method')\n",
    "  # 输出:<function __main__.MyClass.my_method(self)>\n"
   ]
  },
  {
   "cell_type": "code",
   "execution_count": null,
   "metadata": {},
   "outputs": [
    {
     "data": {
      "text/plain": [
       "2"
      ]
     },
     "execution_count": 11,
     "metadata": {},
     "output_type": "execute_result"
    }
   ],
   "source": [
    "def hello(x):\n",
    "    x = -1\n",
    "    return x+3\n",
    "hello('x')\n",
    "#hello(x) Error:x is not defined"
   ]
  },
  {
   "cell_type": "code",
   "execution_count": null,
   "metadata": {},
   "outputs": [
    {
     "ename": "NameError",
     "evalue": "name 'x' is not defined",
     "output_type": "error",
     "traceback": [
      "\u001b[1;31m---------------------------------------------------------------------------\u001b[0m",
      "\u001b[1;31mNameError\u001b[0m                                 Traceback (most recent call last)",
      "Cell \u001b[1;32mIn[19], line 1\u001b[0m\n\u001b[1;32m----> 1\u001b[0m \u001b[38;5;28;01mif\u001b[39;00m \u001b[43mx\u001b[49m :\n\u001b[0;32m      2\u001b[0m     \u001b[38;5;28mprint\u001b[39m(\u001b[38;5;124m'\u001b[39m\u001b[38;5;124mTrue\u001b[39m\u001b[38;5;124m'\u001b[39m)\n\u001b[0;32m      3\u001b[0m \u001b[38;5;28;01melse\u001b[39;00m:\n",
      "\u001b[1;31mNameError\u001b[0m: name 'x' is not defined"
     ]
    }
   ],
   "source": [
    "if x :\n",
    "    print('True')\n",
    "else:\n",
    "    print('False')"
   ]
  },
  {
   "cell_type": "code",
   "execution_count": null,
   "metadata": {},
   "outputs": [
    {
     "data": {
      "text/plain": [
       "<function __main__.MyClass.my_method(self)>"
      ]
     },
     "metadata": {},
     "output_type": "display_data"
    }
   ],
   "source": [
    "class MyClass:\n",
    "    def my_method(self):\n",
    "        return \"Hello, World!\"\n",
    "\n",
    "# 创建对象实例\n",
    "obj = MyClass()\n",
    "\n",
    "# 使用 getattr 获取绑定方法\n",
    "getattr(obj, 'my_method')\n",
    " # 输出:<bound method MyClass.my_method of <__main__.MyClass object at 0x0000023A8E7D96A0>>\n",
    "\n",
    "# 使用 getattr 获取未绑定方法\n",
    "getattr(MyClass, 'my_method')\n",
    "  # 输出:<function __main__.MyClass.my_method(self)>\n"
   ]
  },
  {
   "cell_type": "code",
   "execution_count": null,
   "metadata": {},
   "outputs": [
    {
     "data": {
      "text/plain": [
       "<function __main__.MyClass.my_method(self)>"
      ]
     },
     "metadata": {},
     "output_type": "display_data"
    }
   ],
   "source": [
    "class MyClass:\n",
    "    def my_method(self):\n",
    "        return \"Hello, World!\"\n",
    "\n",
    "# 创建对象实例\n",
    "obj = MyClass()\n",
    "\n",
    "# 使用 getattr 获取绑定方法\n",
    "getattr(obj, 'my_method')\n",
    " # 输出:<bound method MyClass.my_method of <__main__.MyClass object at 0x0000023A8E7D96A0>>\n",
    "\n",
    "# 使用 getattr 获取未绑定方法\n",
    "getattr(MyClass, 'my_method')\n",
    "  # 输出:<function __main__.MyClass.my_method(self)>\n"
   ]
  },
  {
   "cell_type": "code",
   "execution_count": null,
   "metadata": {},
   "outputs": [
    {
     "data": {
      "text/plain": [
       "<function __main__.MyClass.my_method(self)>"
      ]
     },
     "metadata": {},
     "output_type": "display_data"
    }
   ],
   "source": [
    "class MyClass:\n",
    "    def my_method(self):\n",
    "        return \"Hello, World!\"\n",
    "\n",
    "# 创建对象实例\n",
    "obj = MyClass()\n",
    "\n",
    "# 使用 getattr 获取绑定方法\n",
    "getattr(obj, 'my_method')\n",
    " # 输出:<bound method MyClass.my_method of <__main__.MyClass object at 0x0000023A8E7D96A0>>\n",
    "\n",
    "# 使用 getattr 获取未绑定方法\n",
    "getattr(MyClass, 'my_method')\n",
    "  # 输出:<function __main__.MyClass.my_method(self)>\n"
   ]
  },
  {
   "cell_type": "code",
   "execution_count": null,
   "metadata": {},
   "outputs": [
    {
     "data": {
      "text/plain": [
       "<function __main__.MyClass.my_method(self)>"
      ]
     },
     "metadata": {},
     "output_type": "display_data"
    }
   ],
   "source": [
    "class MyClass:\n",
    "    def my_method(self):\n",
    "        return \"Hello, World!\"\n",
    "\n",
    "# 创建对象实例\n",
    "obj = MyClass()\n",
    "\n",
    "# 使用 getattr 获取绑定方法\n",
    "getattr(obj, 'my_method')\n",
    " # 输出:<bound method MyClass.my_method of <__main__.MyClass object at 0x0000023A8E7D96A0>>\n",
    "\n",
    "# 使用 getattr 获取未绑定方法\n",
    "getattr(MyClass, 'my_method')\n",
    "  # 输出:<function __main__.MyClass.my_method(self)>\n"
   ]
  },
  {
   "cell_type": "code",
   "execution_count": null,
   "metadata": {},
   "outputs": [
    {
     "data": {
      "text/plain": [
       "<function __main__.MyClass.my_method(self)>"
      ]
     },
     "metadata": {},
     "output_type": "display_data"
    }
   ],
   "source": [
    "class MyClass:\n",
    "    def my_method(self):\n",
    "        return \"Hello, World!\"\n",
    "\n",
    "# 创建对象实例\n",
    "obj = MyClass()\n",
    "\n",
    "# 使用 getattr 获取绑定方法\n",
    "getattr(obj, 'my_method')\n",
    " # 输出:<bound method MyClass.my_method of <__main__.MyClass object at 0x0000023A8E7D96A0>>\n",
    "\n",
    "# 使用 getattr 获取未绑定方法\n",
    "getattr(MyClass, 'my_method')\n",
    "  # 输出:<function __main__.MyClass.my_method(self)>\n"
   ]
  },
  {
   "cell_type": "code",
   "execution_count": null,
   "metadata": {},
   "outputs": [
    {
     "ename": "TypeError",
     "evalue": "MyClass() takes no arguments",
     "output_type": "error",
     "traceback": [
      "\u001b[1;31m---------------------------------------------------------------------------\u001b[0m\n",
      "\u001b[1;31mTypeError\u001b[0m                                 Traceback (most recent call last)\n",
      "Cell \u001b[1;32mIn[6], line 16\u001b[0m\n",
      "\u001b[0;32m     13\u001b[0m \u001b[38;5;28mgetattr\u001b[39m(MyClass, \u001b[38;5;124m'\u001b[39m\u001b[38;5;124mmy_method\u001b[39m\u001b[38;5;124m'\u001b[39m)\n",
      "\u001b[0;32m     14\u001b[0m   \u001b[38;5;66;03m# 输出:<function __main__.MyClass.my_method(self)>\u001b[39;00m\n",
      "\u001b[1;32m---> 16\u001b[0m \u001b[38;5;28mall\u001b[39m \u001b[38;5;241m=\u001b[39m \u001b[43mMyClass\u001b[49m\u001b[43m(\u001b[49m\u001b[38;5;124;43m'\u001b[39;49m\u001b[38;5;124;43ma\u001b[39;49m\u001b[38;5;124;43m'\u001b[39;49m\u001b[43m)\u001b[49m\n",
      "\u001b[0;32m     17\u001b[0m \u001b[38;5;28mgetattr\u001b[39m(\u001b[38;5;28mall\u001b[39m,\u001b[38;5;124m'\u001b[39m\u001b[38;5;124mmy_method\u001b[39m\u001b[38;5;124m'\u001b[39m)\n",
      "\n",
      "\u001b[1;31mTypeError\u001b[0m: MyClass() takes no arguments"
     ]
    }
   ],
   "source": [
    "class MyClass:\n",
    "    def my_method(self):\n",
    "        return \"Hello, World!\"\n",
    "\n",
    "# 创建对象实例\n",
    "obj = MyClass()\n",
    "\n",
    "# 使用 getattr 获取绑定方法\n",
    "getattr(obj, 'my_method')\n",
    " # 输出:<bound method MyClass.my_method of <__main__.MyClass object at 0x0000023A8E7D96A0>>\n",
    "\n",
    "# 使用 getattr 获取未绑定方法\n",
    "getattr(MyClass, 'my_method')\n",
    "  # 输出:<function __main__.MyClass.my_method(self)>\n"
   ]
  },
  {
   "cell_type": "code",
   "execution_count": null,
   "metadata": {},
   "outputs": [
    {
     "ename": "TypeError",
     "evalue": "MyClass() takes no arguments",
     "output_type": "error",
     "traceback": [
      "\u001b[1;31m---------------------------------------------------------------------------\u001b[0m\n",
      "\u001b[1;31mTypeError\u001b[0m                                 Traceback (most recent call last)\n",
      "Cell \u001b[1;32mIn[6], line 16\u001b[0m\n",
      "\u001b[0;32m     13\u001b[0m \u001b[38;5;28mgetattr\u001b[39m(MyClass, \u001b[38;5;124m'\u001b[39m\u001b[38;5;124mmy_method\u001b[39m\u001b[38;5;124m'\u001b[39m)\n",
      "\u001b[0;32m     14\u001b[0m   \u001b[38;5;66;03m# 输出:<function __main__.MyClass.my_method(self)>\u001b[39;00m\n",
      "\u001b[1;32m---> 16\u001b[0m \u001b[38;5;28mall\u001b[39m \u001b[38;5;241m=\u001b[39m \u001b[43mMyClass\u001b[49m\u001b[43m(\u001b[49m\u001b[38;5;124;43m'\u001b[39;49m\u001b[38;5;124;43ma\u001b[39;49m\u001b[38;5;124;43m'\u001b[39;49m\u001b[43m)\u001b[49m\n",
      "\u001b[0;32m     17\u001b[0m \u001b[38;5;28mgetattr\u001b[39m(\u001b[38;5;28mall\u001b[39m,\u001b[38;5;124m'\u001b[39m\u001b[38;5;124mmy_method\u001b[39m\u001b[38;5;124m'\u001b[39m)\n",
      "\n",
      "\u001b[1;31mTypeError\u001b[0m: MyClass() takes no arguments"
     ]
    }
   ],
   "source": [
    "class MyClass:\n",
    "    def my_method(self):\n",
    "        return \"Hello, World!\"\n",
    "\n",
    "# 创建对象实例\n",
    "obj = MyClass()\n",
    "\n",
    "# 使用 getattr 获取绑定方法\n",
    "getattr(obj, 'my_method')\n",
    " # 输出:<bound method MyClass.my_method of <__main__.MyClass object at 0x0000023A8E7D96A0>>\n",
    "\n",
    "# 使用 getattr 获取未绑定方法\n",
    "getattr(MyClass, 'my_method')\n",
    "  # 输出:<function __main__.MyClass.my_method(self)>\n"
   ]
  },
  {
   "cell_type": "code",
   "execution_count": null,
   "metadata": {},
   "outputs": [
    {
     "ename": "TypeError",
     "evalue": "MyClass() takes no arguments",
     "output_type": "error",
     "traceback": [
      "\u001b[1;31m---------------------------------------------------------------------------\u001b[0m\n",
      "\u001b[1;31mTypeError\u001b[0m                                 Traceback (most recent call last)\n",
      "Cell \u001b[1;32mIn[6], line 16\u001b[0m\n",
      "\u001b[0;32m     13\u001b[0m \u001b[38;5;28mgetattr\u001b[39m(MyClass, \u001b[38;5;124m'\u001b[39m\u001b[38;5;124mmy_method\u001b[39m\u001b[38;5;124m'\u001b[39m)\n",
      "\u001b[0;32m     14\u001b[0m   \u001b[38;5;66;03m# 输出:<function __main__.MyClass.my_method(self)>\u001b[39;00m\n",
      "\u001b[1;32m---> 16\u001b[0m \u001b[38;5;28mall\u001b[39m \u001b[38;5;241m=\u001b[39m \u001b[43mMyClass\u001b[49m\u001b[43m(\u001b[49m\u001b[38;5;124;43m'\u001b[39;49m\u001b[38;5;124;43ma\u001b[39;49m\u001b[38;5;124;43m'\u001b[39;49m\u001b[43m)\u001b[49m\n",
      "\u001b[0;32m     17\u001b[0m \u001b[38;5;28mgetattr\u001b[39m(\u001b[38;5;28mall\u001b[39m,\u001b[38;5;124m'\u001b[39m\u001b[38;5;124mmy_method\u001b[39m\u001b[38;5;124m'\u001b[39m)\n",
      "\n",
      "\u001b[1;31mTypeError\u001b[0m: MyClass() takes no arguments"
     ]
    }
   ],
   "source": [
    "class MyClass:\n",
    "    def my_method(self):\n",
    "        return \"Hello, World!\"\n",
    "\n",
    "# 创建对象实例\n",
    "obj = MyClass()\n",
    "\n",
    "# 使用 getattr 获取绑定方法\n",
    "getattr(obj, 'my_method')\n",
    " # 输出:<bound method MyClass.my_method of <__main__.MyClass object at 0x0000023A8E7D96A0>>\n",
    "\n",
    "# 使用 getattr 获取未绑定方法\n",
    "getattr(MyClass, 'my_method')\n",
    "  # 输出:<function __main__.MyClass.my_method(self)>\n"
   ]
  },
  {
   "cell_type": "code",
   "execution_count": null,
   "metadata": {},
   "outputs": [
    {
     "ename": "TypeError",
     "evalue": "MyClass() takes no arguments",
     "output_type": "error",
     "traceback": [
      "\u001b[1;31m---------------------------------------------------------------------------\u001b[0m\n",
      "\u001b[1;31mTypeError\u001b[0m                                 Traceback (most recent call last)\n",
      "Cell \u001b[1;32mIn[6], line 16\u001b[0m\n",
      "\u001b[0;32m     13\u001b[0m \u001b[38;5;28mgetattr\u001b[39m(MyClass, \u001b[38;5;124m'\u001b[39m\u001b[38;5;124mmy_method\u001b[39m\u001b[38;5;124m'\u001b[39m)\n",
      "\u001b[0;32m     14\u001b[0m   \u001b[38;5;66;03m# 输出:<function __main__.MyClass.my_method(self)>\u001b[39;00m\n",
      "\u001b[1;32m---> 16\u001b[0m \u001b[38;5;28mall\u001b[39m \u001b[38;5;241m=\u001b[39m \u001b[43mMyClass\u001b[49m\u001b[43m(\u001b[49m\u001b[38;5;124;43m'\u001b[39;49m\u001b[38;5;124;43ma\u001b[39;49m\u001b[38;5;124;43m'\u001b[39;49m\u001b[43m)\u001b[49m\n",
      "\u001b[0;32m     17\u001b[0m \u001b[38;5;28mgetattr\u001b[39m(\u001b[38;5;28mall\u001b[39m,\u001b[38;5;124m'\u001b[39m\u001b[38;5;124mmy_method\u001b[39m\u001b[38;5;124m'\u001b[39m)\n",
      "\n",
      "\u001b[1;31mTypeError\u001b[0m: MyClass() takes no arguments"
     ]
    }
   ],
   "source": [
    "class MyClass:\n",
    "    def my_method(self):\n",
    "        return \"Hello, World!\"\n",
    "\n",
    "# 创建对象实例\n",
    "obj = MyClass()\n",
    "\n",
    "# 使用 getattr 获取绑定方法\n",
    "getattr(obj, 'my_method')\n",
    " # 输出:<bound method MyClass.my_method of <__main__.MyClass object at 0x0000023A8E7D96A0>>\n",
    "\n",
    "# 使用 getattr 获取未绑定方法\n",
    "getattr(MyClass, 'my_method')\n",
    "  # 输出:<function __main__.MyClass.my_method(self)>\n"
   ]
  },
  {
   "cell_type": "code",
   "execution_count": null,
   "metadata": {},
   "outputs": [
    {
     "ename": "TypeError",
     "evalue": "MyClass() takes no arguments",
     "output_type": "error",
     "traceback": [
      "\u001b[1;31m---------------------------------------------------------------------------\u001b[0m\n",
      "\u001b[1;31mTypeError\u001b[0m                                 Traceback (most recent call last)\n",
      "Cell \u001b[1;32mIn[6], line 16\u001b[0m\n",
      "\u001b[0;32m     13\u001b[0m \u001b[38;5;28mgetattr\u001b[39m(MyClass, \u001b[38;5;124m'\u001b[39m\u001b[38;5;124mmy_method\u001b[39m\u001b[38;5;124m'\u001b[39m)\n",
      "\u001b[0;32m     14\u001b[0m   \u001b[38;5;66;03m# 输出:<function __main__.MyClass.my_method(self)>\u001b[39;00m\n",
      "\u001b[1;32m---> 16\u001b[0m \u001b[38;5;28mall\u001b[39m \u001b[38;5;241m=\u001b[39m \u001b[43mMyClass\u001b[49m\u001b[43m(\u001b[49m\u001b[38;5;124;43m'\u001b[39;49m\u001b[38;5;124;43ma\u001b[39;49m\u001b[38;5;124;43m'\u001b[39;49m\u001b[43m)\u001b[49m\n",
      "\u001b[0;32m     17\u001b[0m \u001b[38;5;28mgetattr\u001b[39m(\u001b[38;5;28mall\u001b[39m,\u001b[38;5;124m'\u001b[39m\u001b[38;5;124mmy_method\u001b[39m\u001b[38;5;124m'\u001b[39m)\n",
      "\n",
      "\u001b[1;31mTypeError\u001b[0m: MyClass() takes no arguments"
     ]
    }
   ],
   "source": [
    "class MyClass:\n",
    "    def my_method(self):\n",
    "        return \"Hello, World!\"\n",
    "\n",
    "# 创建对象实例\n",
    "obj = MyClass()\n",
    "\n",
    "# 使用 getattr 获取绑定方法\n",
    "getattr(obj, 'my_method')\n",
    " # 输出:<bound method MyClass.my_method of <__main__.MyClass object at 0x0000023A8E7D96A0>>\n",
    "\n",
    "# 使用 getattr 获取未绑定方法\n",
    "getattr(MyClass, 'my_method')\n",
    "  # 输出:<function __main__.MyClass.my_method(self)>\n"
   ]
  },
  {
   "cell_type": "code",
   "execution_count": null,
   "metadata": {},
   "outputs": [
    {
     "ename": "TypeError",
     "evalue": "MyClass() takes no arguments",
     "output_type": "error",
     "traceback": [
      "\u001b[1;31m---------------------------------------------------------------------------\u001b[0m\n",
      "\u001b[1;31mTypeError\u001b[0m                                 Traceback (most recent call last)\n",
      "Cell \u001b[1;32mIn[6], line 16\u001b[0m\n",
      "\u001b[0;32m     13\u001b[0m \u001b[38;5;28mgetattr\u001b[39m(MyClass, \u001b[38;5;124m'\u001b[39m\u001b[38;5;124mmy_method\u001b[39m\u001b[38;5;124m'\u001b[39m)\n",
      "\u001b[0;32m     14\u001b[0m   \u001b[38;5;66;03m# 输出:<function __main__.MyClass.my_method(self)>\u001b[39;00m\n",
      "\u001b[1;32m---> 16\u001b[0m \u001b[38;5;28mall\u001b[39m \u001b[38;5;241m=\u001b[39m \u001b[43mMyClass\u001b[49m\u001b[43m(\u001b[49m\u001b[38;5;124;43m'\u001b[39;49m\u001b[38;5;124;43ma\u001b[39;49m\u001b[38;5;124;43m'\u001b[39;49m\u001b[43m)\u001b[49m\n",
      "\u001b[0;32m     17\u001b[0m \u001b[38;5;28mgetattr\u001b[39m(\u001b[38;5;28mall\u001b[39m,\u001b[38;5;124m'\u001b[39m\u001b[38;5;124mmy_method\u001b[39m\u001b[38;5;124m'\u001b[39m)\n",
      "\n",
      "\u001b[1;31mTypeError\u001b[0m: MyClass() takes no arguments"
     ]
    }
   ],
   "source": [
    "class MyClass:\n",
    "    def my_method(self):\n",
    "        return \"Hello, World!\"\n",
    "\n",
    "# 创建对象实例\n",
    "obj = MyClass()\n",
    "\n",
    "# 使用 getattr 获取绑定方法\n",
    "getattr(obj, 'my_method')\n",
    " # 输出:<bound method MyClass.my_method of <__main__.MyClass object at 0x0000023A8E7D96A0>>\n",
    "\n",
    "# 使用 getattr 获取未绑定方法\n",
    "getattr(MyClass, 'my_method')\n",
    "  # 输出:<function __main__.MyClass.my_method(self)>\n"
   ]
  },
  {
   "cell_type": "code",
   "execution_count": null,
   "metadata": {},
   "outputs": [
    {
     "ename": "TypeError",
     "evalue": "MyClass() takes no arguments",
     "output_type": "error",
     "traceback": [
      "\u001b[1;31m---------------------------------------------------------------------------\u001b[0m\n",
      "\u001b[1;31mTypeError\u001b[0m                                 Traceback (most recent call last)\n",
      "Cell \u001b[1;32mIn[6], line 16\u001b[0m\n",
      "\u001b[0;32m     13\u001b[0m \u001b[38;5;28mgetattr\u001b[39m(MyClass, \u001b[38;5;124m'\u001b[39m\u001b[38;5;124mmy_method\u001b[39m\u001b[38;5;124m'\u001b[39m)\n",
      "\u001b[0;32m     14\u001b[0m   \u001b[38;5;66;03m# 输出:<function __main__.MyClass.my_method(self)>\u001b[39;00m\n",
      "\u001b[1;32m---> 16\u001b[0m \u001b[38;5;28mall\u001b[39m \u001b[38;5;241m=\u001b[39m \u001b[43mMyClass\u001b[49m\u001b[43m(\u001b[49m\u001b[38;5;124;43m'\u001b[39;49m\u001b[38;5;124;43ma\u001b[39;49m\u001b[38;5;124;43m'\u001b[39;49m\u001b[43m)\u001b[49m\n",
      "\u001b[0;32m     17\u001b[0m \u001b[38;5;28mgetattr\u001b[39m(\u001b[38;5;28mall\u001b[39m,\u001b[38;5;124m'\u001b[39m\u001b[38;5;124mmy_method\u001b[39m\u001b[38;5;124m'\u001b[39m)\n",
      "\n",
      "\u001b[1;31mTypeError\u001b[0m: MyClass() takes no arguments"
     ]
    }
   ],
   "source": [
    "class MyClass:\n",
    "    def my_method(self):\n",
    "        return \"Hello, World!\"\n",
    "\n",
    "# 创建对象实例\n",
    "obj = MyClass()\n",
    "\n",
    "# 使用 getattr 获取绑定方法\n",
    "getattr(obj, 'my_method')\n",
    " # 输出:<bound method MyClass.my_method of <__main__.MyClass object at 0x0000023A8E7D96A0>>\n",
    "\n",
    "# 使用 getattr 获取未绑定方法\n",
    "getattr(MyClass, 'my_method')\n",
    "  # 输出:<function __main__.MyClass.my_method(self)>\n"
   ]
  },
  {
   "cell_type": "code",
   "execution_count": null,
   "metadata": {},
   "outputs": [
    {
     "ename": "TypeError",
     "evalue": "MyClass() takes no arguments",
     "output_type": "error",
     "traceback": [
      "\u001b[1;31m---------------------------------------------------------------------------\u001b[0m\n",
      "\u001b[1;31mTypeError\u001b[0m                                 Traceback (most recent call last)\n",
      "Cell \u001b[1;32mIn[6], line 16\u001b[0m\n",
      "\u001b[0;32m     13\u001b[0m \u001b[38;5;28mgetattr\u001b[39m(MyClass, \u001b[38;5;124m'\u001b[39m\u001b[38;5;124mmy_method\u001b[39m\u001b[38;5;124m'\u001b[39m)\n",
      "\u001b[0;32m     14\u001b[0m   \u001b[38;5;66;03m# 输出:<function __main__.MyClass.my_method(self)>\u001b[39;00m\n",
      "\u001b[1;32m---> 16\u001b[0m \u001b[38;5;28mall\u001b[39m \u001b[38;5;241m=\u001b[39m \u001b[43mMyClass\u001b[49m\u001b[43m(\u001b[49m\u001b[38;5;124;43m'\u001b[39;49m\u001b[38;5;124;43ma\u001b[39;49m\u001b[38;5;124;43m'\u001b[39;49m\u001b[43m)\u001b[49m\n",
      "\u001b[0;32m     17\u001b[0m \u001b[38;5;28mgetattr\u001b[39m(\u001b[38;5;28mall\u001b[39m,\u001b[38;5;124m'\u001b[39m\u001b[38;5;124mmy_method\u001b[39m\u001b[38;5;124m'\u001b[39m)\n",
      "\n",
      "\u001b[1;31mTypeError\u001b[0m: MyClass() takes no arguments"
     ]
    }
   ],
   "source": [
    "class MyClass:\n",
    "    def my_method(self):\n",
    "        return \"Hello, World!\"\n",
    "\n",
    "# 创建对象实例\n",
    "obj = MyClass()\n",
    "\n",
    "# 使用 getattr 获取绑定方法\n",
    "getattr(obj, 'my_method')\n",
    " # 输出:<bound method MyClass.my_method of <__main__.MyClass object at 0x0000023A8E7D96A0>>\n",
    "\n",
    "# 使用 getattr 获取未绑定方法\n",
    "getattr(MyClass, 'my_method')\n",
    "  # 输出:<function __main__.MyClass.my_method(self)>\n"
   ]
  },
  {
   "cell_type": "code",
   "execution_count": null,
   "metadata": {},
   "outputs": [
    {
     "ename": "TypeError",
     "evalue": "MyClass() takes no arguments",
     "output_type": "error",
     "traceback": [
      "\u001b[1;31m---------------------------------------------------------------------------\u001b[0m\n",
      "\u001b[1;31mTypeError\u001b[0m                                 Traceback (most recent call last)\n",
      "Cell \u001b[1;32mIn[6], line 16\u001b[0m\n",
      "\u001b[0;32m     13\u001b[0m \u001b[38;5;28mgetattr\u001b[39m(MyClass, \u001b[38;5;124m'\u001b[39m\u001b[38;5;124mmy_method\u001b[39m\u001b[38;5;124m'\u001b[39m)\n",
      "\u001b[0;32m     14\u001b[0m   \u001b[38;5;66;03m# 输出:<function __main__.MyClass.my_method(self)>\u001b[39;00m\n",
      "\u001b[1;32m---> 16\u001b[0m \u001b[38;5;28mall\u001b[39m \u001b[38;5;241m=\u001b[39m \u001b[43mMyClass\u001b[49m\u001b[43m(\u001b[49m\u001b[38;5;124;43m'\u001b[39;49m\u001b[38;5;124;43ma\u001b[39;49m\u001b[38;5;124;43m'\u001b[39;49m\u001b[43m)\u001b[49m\n",
      "\u001b[0;32m     17\u001b[0m \u001b[38;5;28mgetattr\u001b[39m(\u001b[38;5;28mall\u001b[39m,\u001b[38;5;124m'\u001b[39m\u001b[38;5;124mmy_method\u001b[39m\u001b[38;5;124m'\u001b[39m)\n",
      "\n",
      "\u001b[1;31mTypeError\u001b[0m: MyClass() takes no arguments"
     ]
    }
   ],
   "source": [
    "class MyClass:\n",
    "    def my_method(self):\n",
    "        return \"Hello, World!\"\n",
    "\n",
    "# 创建对象实例\n",
    "obj = MyClass()\n",
    "\n",
    "# 使用 getattr 获取绑定方法\n",
    "getattr(obj, 'my_method')\n",
    " # 输出:<bound method MyClass.my_method of <__main__.MyClass object at 0x0000023A8E7D96A0>>\n",
    "\n",
    "# 使用 getattr 获取未绑定方法\n",
    "getattr(MyClass, 'my_method')\n",
    "  # 输出:<function __main__.MyClass.my_method(self)>\n"
   ]
  },
  {
   "cell_type": "code",
   "execution_count": null,
   "metadata": {},
   "outputs": [
    {
     "ename": "TypeError",
     "evalue": "MyClass() takes no arguments",
     "output_type": "error",
     "traceback": [
      "\u001b[1;31m---------------------------------------------------------------------------\u001b[0m\n",
      "\u001b[1;31mTypeError\u001b[0m                                 Traceback (most recent call last)\n",
      "Cell \u001b[1;32mIn[6], line 16\u001b[0m\n",
      "\u001b[0;32m     13\u001b[0m \u001b[38;5;28mgetattr\u001b[39m(MyClass, \u001b[38;5;124m'\u001b[39m\u001b[38;5;124mmy_method\u001b[39m\u001b[38;5;124m'\u001b[39m)\n",
      "\u001b[0;32m     14\u001b[0m   \u001b[38;5;66;03m# 输出:<function __main__.MyClass.my_method(self)>\u001b[39;00m\n",
      "\u001b[1;32m---> 16\u001b[0m \u001b[38;5;28mall\u001b[39m \u001b[38;5;241m=\u001b[39m \u001b[43mMyClass\u001b[49m\u001b[43m(\u001b[49m\u001b[38;5;124;43m'\u001b[39;49m\u001b[38;5;124;43ma\u001b[39;49m\u001b[38;5;124;43m'\u001b[39;49m\u001b[43m)\u001b[49m\n",
      "\u001b[0;32m     17\u001b[0m \u001b[38;5;28mgetattr\u001b[39m(\u001b[38;5;28mall\u001b[39m,\u001b[38;5;124m'\u001b[39m\u001b[38;5;124mmy_method\u001b[39m\u001b[38;5;124m'\u001b[39m)\n",
      "\n",
      "\u001b[1;31mTypeError\u001b[0m: MyClass() takes no arguments"
     ]
    }
   ],
   "source": [
    "class MyClass:\n",
    "    def my_method(self):\n",
    "        return \"Hello, World!\"\n",
    "\n",
    "# 创建对象实例\n",
    "obj = MyClass()\n",
    "\n",
    "# 使用 getattr 获取绑定方法\n",
    "getattr(obj, 'my_method')\n",
    " # 输出:<bound method MyClass.my_method of <__main__.MyClass object at 0x0000023A8E7D96A0>>\n",
    "\n",
    "# 使用 getattr 获取未绑定方法\n",
    "getattr(MyClass, 'my_method')\n",
    "  # 输出:<function __main__.MyClass.my_method(self)>\n"
   ]
  },
  {
   "cell_type": "code",
   "execution_count": null,
   "metadata": {},
   "outputs": [
    {
     "ename": "TypeError",
     "evalue": "MyClass() takes no arguments",
     "output_type": "error",
     "traceback": [
      "\u001b[1;31m---------------------------------------------------------------------------\u001b[0m\n",
      "\u001b[1;31mTypeError\u001b[0m                                 Traceback (most recent call last)\n",
      "Cell \u001b[1;32mIn[6], line 16\u001b[0m\n",
      "\u001b[0;32m     13\u001b[0m \u001b[38;5;28mgetattr\u001b[39m(MyClass, \u001b[38;5;124m'\u001b[39m\u001b[38;5;124mmy_method\u001b[39m\u001b[38;5;124m'\u001b[39m)\n",
      "\u001b[0;32m     14\u001b[0m   \u001b[38;5;66;03m# 输出:<function __main__.MyClass.my_method(self)>\u001b[39;00m\n",
      "\u001b[1;32m---> 16\u001b[0m \u001b[38;5;28mall\u001b[39m \u001b[38;5;241m=\u001b[39m \u001b[43mMyClass\u001b[49m\u001b[43m(\u001b[49m\u001b[38;5;124;43m'\u001b[39;49m\u001b[38;5;124;43ma\u001b[39;49m\u001b[38;5;124;43m'\u001b[39;49m\u001b[43m)\u001b[49m\n",
      "\u001b[0;32m     17\u001b[0m \u001b[38;5;28mgetattr\u001b[39m(\u001b[38;5;28mall\u001b[39m,\u001b[38;5;124m'\u001b[39m\u001b[38;5;124mmy_method\u001b[39m\u001b[38;5;124m'\u001b[39m)\n",
      "\n",
      "\u001b[1;31mTypeError\u001b[0m: MyClass() takes no arguments"
     ]
    }
   ],
   "source": [
    "class MyClass:\n",
    "    def my_method(self):\n",
    "        return \"Hello, World!\"\n",
    "\n",
    "# 创建对象实例\n",
    "obj = MyClass()\n",
    "\n",
    "# 使用 getattr 获取绑定方法\n",
    "getattr(obj, 'my_method')\n",
    " # 输出:<bound method MyClass.my_method of <__main__.MyClass object at 0x0000023A8E7D96A0>>\n",
    "\n",
    "# 使用 getattr 获取未绑定方法\n",
    "getattr(MyClass, 'my_method')\n",
    "  # 输出:<function __main__.MyClass.my_method(self)>\n"
   ]
  },
  {
   "cell_type": "code",
   "execution_count": null,
   "metadata": {},
   "outputs": [
    {
     "ename": "TypeError",
     "evalue": "MyClass() takes no arguments",
     "output_type": "error",
     "traceback": [
      "\u001b[1;31m---------------------------------------------------------------------------\u001b[0m\n",
      "\u001b[1;31mTypeError\u001b[0m                                 Traceback (most recent call last)\n",
      "Cell \u001b[1;32mIn[6], line 16\u001b[0m\n",
      "\u001b[0;32m     13\u001b[0m \u001b[38;5;28mgetattr\u001b[39m(MyClass, \u001b[38;5;124m'\u001b[39m\u001b[38;5;124mmy_method\u001b[39m\u001b[38;5;124m'\u001b[39m)\n",
      "\u001b[0;32m     14\u001b[0m   \u001b[38;5;66;03m# 输出:<function __main__.MyClass.my_method(self)>\u001b[39;00m\n",
      "\u001b[1;32m---> 16\u001b[0m \u001b[38;5;28mall\u001b[39m \u001b[38;5;241m=\u001b[39m \u001b[43mMyClass\u001b[49m\u001b[43m(\u001b[49m\u001b[38;5;124;43m'\u001b[39;49m\u001b[38;5;124;43ma\u001b[39;49m\u001b[38;5;124;43m'\u001b[39;49m\u001b[43m)\u001b[49m\n",
      "\u001b[0;32m     17\u001b[0m \u001b[38;5;28mgetattr\u001b[39m(\u001b[38;5;28mall\u001b[39m,\u001b[38;5;124m'\u001b[39m\u001b[38;5;124mmy_method\u001b[39m\u001b[38;5;124m'\u001b[39m)\n",
      "\n",
      "\u001b[1;31mTypeError\u001b[0m: MyClass() takes no arguments"
     ]
    }
   ],
   "source": [
    "class MyClass:\n",
    "    def my_method(self):\n",
    "        return \"Hello, World!\"\n",
    "\n",
    "# 创建对象实例\n",
    "obj = MyClass()\n",
    "\n",
    "# 使用 getattr 获取绑定方法\n",
    "getattr(obj, 'my_method')\n",
    " # 输出:<bound method MyClass.my_method of <__main__.MyClass object at 0x0000023A8E7D96A0>>\n",
    "\n",
    "# 使用 getattr 获取未绑定方法\n",
    "getattr(MyClass, 'my_method')\n",
    "  # 输出:<function __main__.MyClass.my_method(self)>\n"
   ]
  },
  {
   "cell_type": "code",
   "execution_count": null,
   "metadata": {},
   "outputs": [
    {
     "ename": "TypeError",
     "evalue": "MyClass() takes no arguments",
     "output_type": "error",
     "traceback": [
      "\u001b[1;31m---------------------------------------------------------------------------\u001b[0m\n",
      "\u001b[1;31mTypeError\u001b[0m                                 Traceback (most recent call last)\n",
      "Cell \u001b[1;32mIn[6], line 16\u001b[0m\n",
      "\u001b[0;32m     13\u001b[0m \u001b[38;5;28mgetattr\u001b[39m(MyClass, \u001b[38;5;124m'\u001b[39m\u001b[38;5;124mmy_method\u001b[39m\u001b[38;5;124m'\u001b[39m)\n",
      "\u001b[0;32m     14\u001b[0m   \u001b[38;5;66;03m# 输出:<function __main__.MyClass.my_method(self)>\u001b[39;00m\n",
      "\u001b[1;32m---> 16\u001b[0m \u001b[38;5;28mall\u001b[39m \u001b[38;5;241m=\u001b[39m \u001b[43mMyClass\u001b[49m\u001b[43m(\u001b[49m\u001b[38;5;124;43m'\u001b[39;49m\u001b[38;5;124;43ma\u001b[39;49m\u001b[38;5;124;43m'\u001b[39;49m\u001b[43m)\u001b[49m\n",
      "\u001b[0;32m     17\u001b[0m \u001b[38;5;28mgetattr\u001b[39m(\u001b[38;5;28mall\u001b[39m,\u001b[38;5;124m'\u001b[39m\u001b[38;5;124mmy_method\u001b[39m\u001b[38;5;124m'\u001b[39m)\n",
      "\n",
      "\u001b[1;31mTypeError\u001b[0m: MyClass() takes no arguments"
     ]
    }
   ],
   "source": [
    "class MyClass:\n",
    "    def my_method(self):\n",
    "        return \"Hello, World!\"\n",
    "\n",
    "# 创建对象实例\n",
    "obj = MyClass()\n",
    "\n",
    "# 使用 getattr 获取绑定方法\n",
    "getattr(obj, 'my_method')\n",
    " # 输出:<bound method MyClass.my_method of <__main__.MyClass object at 0x0000023A8E7D96A0>>\n",
    "\n",
    "# 使用 getattr 获取未绑定方法\n",
    "getattr(MyClass, 'my_method')\n",
    "  # 输出:<function __main__.MyClass.my_method(self)>\n"
   ]
  },
  {
   "cell_type": "code",
   "execution_count": null,
   "metadata": {},
   "outputs": [
    {
     "ename": "TypeError",
     "evalue": "MyClass() takes no arguments",
     "output_type": "error",
     "traceback": [
      "\u001b[1;31m---------------------------------------------------------------------------\u001b[0m\n",
      "\u001b[1;31mTypeError\u001b[0m                                 Traceback (most recent call last)\n",
      "Cell \u001b[1;32mIn[6], line 16\u001b[0m\n",
      "\u001b[0;32m     13\u001b[0m \u001b[38;5;28mgetattr\u001b[39m(MyClass, \u001b[38;5;124m'\u001b[39m\u001b[38;5;124mmy_method\u001b[39m\u001b[38;5;124m'\u001b[39m)\n",
      "\u001b[0;32m     14\u001b[0m   \u001b[38;5;66;03m# 输出:<function __main__.MyClass.my_method(self)>\u001b[39;00m\n",
      "\u001b[1;32m---> 16\u001b[0m \u001b[38;5;28mall\u001b[39m \u001b[38;5;241m=\u001b[39m \u001b[43mMyClass\u001b[49m\u001b[43m(\u001b[49m\u001b[38;5;124;43m'\u001b[39;49m\u001b[38;5;124;43ma\u001b[39;49m\u001b[38;5;124;43m'\u001b[39;49m\u001b[43m)\u001b[49m\n",
      "\u001b[0;32m     17\u001b[0m \u001b[38;5;28mgetattr\u001b[39m(\u001b[38;5;28mall\u001b[39m,\u001b[38;5;124m'\u001b[39m\u001b[38;5;124mmy_method\u001b[39m\u001b[38;5;124m'\u001b[39m)\n",
      "\n",
      "\u001b[1;31mTypeError\u001b[0m: MyClass() takes no arguments"
     ]
    }
   ],
   "source": [
    "class MyClass:\n",
    "    def my_method(self):\n",
    "        return \"Hello, World!\"\n",
    "\n",
    "# 创建对象实例\n",
    "obj = MyClass()\n",
    "\n",
    "# 使用 getattr 获取绑定方法\n",
    "getattr(obj, 'my_method')\n",
    " # 输出:<bound method MyClass.my_method of <__main__.MyClass object at 0x0000023A8E7D96A0>>\n",
    "\n",
    "# 使用 getattr 获取未绑定方法\n",
    "getattr(MyClass, 'my_method')\n",
    "  # 输出:<function __main__.MyClass.my_method(self)>\n"
   ]
  },
  {
   "cell_type": "code",
   "execution_count": null,
   "metadata": {},
   "outputs": [
    {
     "ename": "TypeError",
     "evalue": "MyClass() takes no arguments",
     "output_type": "error",
     "traceback": [
      "\u001b[1;31m---------------------------------------------------------------------------\u001b[0m\n",
      "\u001b[1;31mTypeError\u001b[0m                                 Traceback (most recent call last)\n",
      "Cell \u001b[1;32mIn[6], line 16\u001b[0m\n",
      "\u001b[0;32m     13\u001b[0m \u001b[38;5;28mgetattr\u001b[39m(MyClass, \u001b[38;5;124m'\u001b[39m\u001b[38;5;124mmy_method\u001b[39m\u001b[38;5;124m'\u001b[39m)\n",
      "\u001b[0;32m     14\u001b[0m   \u001b[38;5;66;03m# 输出:<function __main__.MyClass.my_method(self)>\u001b[39;00m\n",
      "\u001b[1;32m---> 16\u001b[0m \u001b[38;5;28mall\u001b[39m \u001b[38;5;241m=\u001b[39m \u001b[43mMyClass\u001b[49m\u001b[43m(\u001b[49m\u001b[38;5;124;43m'\u001b[39;49m\u001b[38;5;124;43ma\u001b[39;49m\u001b[38;5;124;43m'\u001b[39;49m\u001b[43m)\u001b[49m\n",
      "\u001b[0;32m     17\u001b[0m \u001b[38;5;28mgetattr\u001b[39m(\u001b[38;5;28mall\u001b[39m,\u001b[38;5;124m'\u001b[39m\u001b[38;5;124mmy_method\u001b[39m\u001b[38;5;124m'\u001b[39m)\n",
      "\n",
      "\u001b[1;31mTypeError\u001b[0m: MyClass() takes no arguments"
     ]
    }
   ],
   "source": [
    "class MyClass:\n",
    "    def my_method(self):\n",
    "        return \"Hello, World!\"\n",
    "\n",
    "# 创建对象实例\n",
    "obj = MyClass()\n",
    "\n",
    "# 使用 getattr 获取绑定方法\n",
    "getattr(obj, 'my_method')\n",
    " # 输出:<bound method MyClass.my_method of <__main__.MyClass object at 0x0000023A8E7D96A0>>\n",
    "\n",
    "# 使用 getattr 获取未绑定方法\n",
    "getattr(MyClass, 'my_method')\n",
    "  # 输出:<function __main__.MyClass.my_method(self)>\n"
   ]
  },
  {
   "cell_type": "code",
   "execution_count": null,
   "metadata": {},
   "outputs": [
    {
     "ename": "TypeError",
     "evalue": "MyClass() takes no arguments",
     "output_type": "error",
     "traceback": [
      "\u001b[1;31m---------------------------------------------------------------------------\u001b[0m\n",
      "\u001b[1;31mTypeError\u001b[0m                                 Traceback (most recent call last)\n",
      "Cell \u001b[1;32mIn[6], line 16\u001b[0m\n",
      "\u001b[0;32m     13\u001b[0m \u001b[38;5;28mgetattr\u001b[39m(MyClass, \u001b[38;5;124m'\u001b[39m\u001b[38;5;124mmy_method\u001b[39m\u001b[38;5;124m'\u001b[39m)\n",
      "\u001b[0;32m     14\u001b[0m   \u001b[38;5;66;03m# 输出:<function __main__.MyClass.my_method(self)>\u001b[39;00m\n",
      "\u001b[1;32m---> 16\u001b[0m \u001b[38;5;28mall\u001b[39m \u001b[38;5;241m=\u001b[39m \u001b[43mMyClass\u001b[49m\u001b[43m(\u001b[49m\u001b[38;5;124;43m'\u001b[39;49m\u001b[38;5;124;43ma\u001b[39;49m\u001b[38;5;124;43m'\u001b[39;49m\u001b[43m)\u001b[49m\n",
      "\u001b[0;32m     17\u001b[0m \u001b[38;5;28mgetattr\u001b[39m(\u001b[38;5;28mall\u001b[39m,\u001b[38;5;124m'\u001b[39m\u001b[38;5;124mmy_method\u001b[39m\u001b[38;5;124m'\u001b[39m)\n",
      "\n",
      "\u001b[1;31mTypeError\u001b[0m: MyClass() takes no arguments"
     ]
    }
   ],
   "source": [
    "class MyClass:\n",
    "    def my_method(self):\n",
    "        return \"Hello, World!\"\n",
    "\n",
    "# 创建对象实例\n",
    "obj = MyClass()\n",
    "\n",
    "# 使用 getattr 获取绑定方法\n",
    "getattr(obj, 'my_method')\n",
    " # 输出:<bound method MyClass.my_method of <__main__.MyClass object at 0x0000023A8E7D96A0>>\n",
    "\n",
    "# 使用 getattr 获取未绑定方法\n",
    "getattr(MyClass, 'my_method')\n",
    "  # 输出:<function __main__.MyClass.my_method(self)>\n"
   ]
  },
  {
   "cell_type": "code",
   "execution_count": null,
   "metadata": {},
   "outputs": [
    {
     "name": "stdout",
     "output_type": "stream",
     "text": [
      "4\n",
      "['four']\n",
      "4\n"
     ]
    },
    {
     "data": {
      "text/plain": [
       "4"
      ]
     },
     "execution_count": 1,
     "metadata": {},
     "output_type": "execute_result"
    }
   ],
   "source": [
    "d = {2: 4, 'two': ['four'], (1, 1): 4}\n",
    "for v in d.values():\n",
    "    print(v)\n",
    "4\n",
    "#先遍历打印再打印输入的4"
   ]
  },
  {
   "cell_type": "code",
   "execution_count": null,
   "metadata": {},
   "outputs": [
    {
     "ename": "RecursionError",
     "evalue": "maximum recursion depth exceeded",
     "output_type": "error",
     "traceback": [
      "\u001b[1;31m---------------------------------------------------------------------------\u001b[0m",
      "\u001b[1;31mRecursionError\u001b[0m                            Traceback (most recent call last)",
      "Cell \u001b[1;32mIn[3], line 5\u001b[0m\n\u001b[0;32m      3\u001b[0m         \u001b[38;5;28;01myield from\u001b[39;00m add(s[:])\n\u001b[0;32m      4\u001b[0m         \u001b[38;5;28;01myield\u001b[39;00m s\n\u001b[1;32m----> 5\u001b[0m \u001b[38;5;28;43mlist\u001b[39;49m\u001b[43m \u001b[49m\u001b[43m(\u001b[49m\u001b[43madd\u001b[49m\u001b[43m(\u001b[49m\u001b[38;5;124;43m'\u001b[39;49m\u001b[38;5;124;43mhello\u001b[39;49m\u001b[38;5;124;43m'\u001b[39;49m\u001b[43m)\u001b[49m\u001b[43m)\u001b[49m\n",
      "Cell \u001b[1;32mIn[3], line 3\u001b[0m, in \u001b[0;36madd\u001b[1;34m(s)\u001b[0m\n\u001b[0;32m      1\u001b[0m \u001b[38;5;28;01mdef\u001b[39;00m \u001b[38;5;21madd\u001b[39m(s):\n\u001b[0;32m      2\u001b[0m     \u001b[38;5;28;01mif\u001b[39;00m s:\n\u001b[1;32m----> 3\u001b[0m         \u001b[38;5;28;01myield from\u001b[39;00m add(s[:])\n\u001b[0;32m      4\u001b[0m         \u001b[38;5;28;01myield\u001b[39;00m s\n",
      "Cell \u001b[1;32mIn[3], line 3\u001b[0m, in \u001b[0;36madd\u001b[1;34m(s)\u001b[0m\n\u001b[0;32m      1\u001b[0m \u001b[38;5;28;01mdef\u001b[39;00m \u001b[38;5;21madd\u001b[39m(s):\n\u001b[0;32m      2\u001b[0m     \u001b[38;5;28;01mif\u001b[39;00m s:\n\u001b[1;32m----> 3\u001b[0m         \u001b[38;5;28;01myield from\u001b[39;00m add(s[:])\n\u001b[0;32m      4\u001b[0m         \u001b[38;5;28;01myield\u001b[39;00m s\n",
      "    \u001b[1;31m[... skipping similar frames: add at line 3 (2974 times)]\u001b[0m\n",
      "Cell \u001b[1;32mIn[3], line 3\u001b[0m, in \u001b[0;36madd\u001b[1;34m(s)\u001b[0m\n\u001b[0;32m      1\u001b[0m \u001b[38;5;28;01mdef\u001b[39;00m \u001b[38;5;21madd\u001b[39m(s):\n\u001b[0;32m      2\u001b[0m     \u001b[38;5;28;01mif\u001b[39;00m s:\n\u001b[1;32m----> 3\u001b[0m         \u001b[38;5;28;01myield from\u001b[39;00m \u001b[43madd\u001b[49m\u001b[43m(\u001b[49m\u001b[43ms\u001b[49m\u001b[43m[\u001b[49m\u001b[43m:\u001b[49m\u001b[43m]\u001b[49m\u001b[43m)\u001b[49m\n\u001b[0;32m      4\u001b[0m         \u001b[38;5;28;01myield\u001b[39;00m s\n",
      "\u001b[1;31mRecursionError\u001b[0m: maximum recursion depth exceeded"
     ]
    }
   ],
   "source": [
    "def add(s):\n",
    "    if s:\n",
    "        yield from add(s[:]) #超过最大递归深度会报错\n",
    "        yield s\n",
    "list (add('hello'))"
   ]
  },
  {
   "cell_type": "code",
   "execution_count": null,
   "metadata": {},
   "outputs": [],
   "source": [
    "#type((1,2))tuple\n",
    "#type((1,))tuple\n",
    "#type([1,2])list"
   ]
  },
  {
   "cell_type": "code",
   "execution_count": null,
   "metadata": {},
   "outputs": [
    {
     "data": {
      "text/plain": [
       "{3: 26, 2: 'jdu', 'a': 1}"
      ]
     },
     "execution_count": 16,
     "metadata": {},
     "output_type": "execute_result"
    }
   ],
   "source": [
    "dict([(3,26),(2,'jdu'),('a',1)])"
   ]
  },
  {
   "cell_type": "code",
   "execution_count": null,
   "metadata": {},
   "outputs": [
    {
     "data": {
      "text/plain": [
       "False"
      ]
     },
     "execution_count": 27,
     "metadata": {},
     "output_type": "execute_result"
    }
   ],
   "source": [
    "s = [None]\n",
    "a = [None]\n",
    "s is a #False"
   ]
  },
  {
   "cell_type": "code",
   "execution_count": null,
   "metadata": {},
   "outputs": [
    {
     "data": {
      "text/plain": [
       "True"
      ]
     },
     "execution_count": 5,
     "metadata": {},
     "output_type": "execute_result"
    }
   ],
   "source": [
    "'here' in \"Where's Waldo?\"#True\n",
    "\n"
   ]
  },
  {
   "cell_type": "code",
   "execution_count": null,
   "metadata": {},
   "outputs": [
    {
     "data": {
      "text/plain": [
       "False"
      ]
     },
     "execution_count": 6,
     "metadata": {},
     "output_type": "execute_result"
    }
   ],
   "source": [
    "'hers' in \"Where's Waldo?\"#False\n"
   ]
  },
  {
   "cell_type": "code",
   "execution_count": null,
   "metadata": {},
   "outputs": [
    {
     "data": {
      "text/plain": [
       "False"
      ]
     },
     "execution_count": 7,
     "metadata": {},
     "output_type": "execute_result"
    }
   ],
   "source": [
    "'here' in [\"Where's Waldo?\"]#False"
   ]
  },
  {
   "cell_type": "code",
   "execution_count": null,
   "metadata": {},
   "outputs": [],
   "source": [
    "k = int(input())\n",
    "l = input()\n",
    "n = list(l)\n",
    "i = 0\n",
    "while i<k:\n",
    "    x = n.pop(0)\n",
    "    n.append(x)\n",
    "    i = i+1\n",
    "print(n)"
   ]
  },
  {
   "cell_type": "code",
   "execution_count": null,
   "metadata": {},
   "outputs": [
    {
     "data": {
      "text/plain": [
       "range(0, 5)"
      ]
     },
     "execution_count": 9,
     "metadata": {},
     "output_type": "execute_result"
    }
   ],
   "source": [
    "range(5)"
   ]
  },
  {
   "cell_type": "code",
   "execution_count": null,
   "metadata": {},
   "outputs": [
    {
     "name": "stdout",
     "output_type": "stream",
     "text": [
      "48\n"
     ]
    },
    {
     "ename": "",
     "evalue": "",
     "output_type": "error",
     "traceback": [
      "\u001b[1;31m在当前单元格或上一个单元格中执行代码时 Kernel 崩溃。\n",
      "\u001b[1;31m请查看单元格中的代码，以确定故障的可能原因。\n",
      "\u001b[1;31m单击<a href='https://aka.ms/vscodeJupyterKernelCrash'>此处</a>了解详细信息。\n",
      "\u001b[1;31m有关更多详细信息，请查看 Jupyter <a href='command:jupyter.viewOutput'>log</a>。"
     ]
    }
   ],
   "source": [
    "def tomes(n,k):\n",
    "    if n==0:\n",
    "        return k\n",
    "    else:\n",
    "        return tomes(n-1,k*n)\n",
    "print(tomes(4,2))"
   ]
  },
  {
   "cell_type": "code",
   "execution_count": null,
   "metadata": {},
   "outputs": [
    {
     "name": "stdout",
     "output_type": "stream",
     "text": [
      "False\n",
      "True\n"
     ]
    }
   ],
   "source": [
    "print(1%10==0)#False\n",
    "print(0%10==0)#True"
   ]
  },
  {
   "cell_type": "code",
   "execution_count": null,
   "metadata": {},
   "outputs": [
    {
     "data": {
      "text/plain": [
       "[[1, 4], [1, 5, 6]]"
      ]
     },
     "execution_count": 13,
     "metadata": {},
     "output_type": "execute_result"
    }
   ],
   "source": [
    "[[1] + s for s in [[4], [5, 6]]]"
   ]
  },
  {
   "cell_type": "code",
   "execution_count": null,
   "metadata": {},
   "outputs": [
    {
     "data": {
      "text/plain": [
       "[1, 2]"
      ]
     },
     "execution_count": 12,
     "metadata": {},
     "output_type": "execute_result"
    }
   ],
   "source": [
    "[1]+[2]"
   ]
  },
  {
   "cell_type": "code",
   "execution_count": null,
   "metadata": {},
   "outputs": [
    {
     "data": {
      "text/plain": [
       "False"
      ]
     },
     "execution_count": 10,
     "metadata": {},
     "output_type": "execute_result"
    }
   ],
   "source": [
    "bool(False)"
   ]
  },
  {
   "cell_type": "code",
   "execution_count": null,
   "metadata": {},
   "outputs": [
    {
     "name": "stdout",
     "output_type": "stream",
     "text": [
      "['a', 'b', 'c', 'd', 'e', 'f', 'g', 'h', 'i', 'j', 'k', 'l', 'm', 'n', 'o', 'p', 'q', 'r', 's', 't', 'u', 'v', 'w', 'x', 'y', 'z']\n"
     ]
    },
    {
     "ename": "NameError",
     "evalue": "name 'a' is not defined",
     "output_type": "error",
     "traceback": [
      "\u001b[1;31m---------------------------------------------------------------------------\u001b[0m",
      "\u001b[1;31mNameError\u001b[0m                                 Traceback (most recent call last)",
      "Cell \u001b[1;32mIn[7], line 7\u001b[0m\n\u001b[0;32m      5\u001b[0m     i \u001b[38;5;241m=\u001b[39m \u001b[38;5;28mint\u001b[39m(i)\n\u001b[0;32m      6\u001b[0m     ls_1[i] \u001b[38;5;241m==\u001b[39m i\n\u001b[1;32m----> 7\u001b[0m \u001b[43ma\u001b[49m\n",
      "\u001b[1;31mNameError\u001b[0m: name 'a' is not defined"
     ]
    }
   ],
   "source": [
    "ls_1 = 'a b c d e f g h i j k l m n o p q r s t u v w x y z'\n",
    "ls_1 = ls_1.split()#split()方法不会直接修改原列表，而是返回一个新的列表\n",
    "print(ls_1)\n",
    "for i in range(0,26):\n",
    "    i = int(i)\n",
    "    ls_1[i] == i\n",
    "a"
   ]
  },
  {
   "cell_type": "code",
   "execution_count": null,
   "metadata": {},
   "outputs": [
    {
     "name": "stdout",
     "output_type": "stream",
     "text": [
      "matey\n",
      "matey\n"
     ]
    },
    {
     "data": {
      "text/plain": [
       "5"
      ]
     },
     "execution_count": 3,
     "metadata": {},
     "output_type": "execute_result"
    }
   ],
   "source": [
    "def pirate(arggg):\n",
    "    print('matey')\n",
    "    def plunder(arggg):\n",
    "        return arggg\n",
    "    return plunder\n",
    "pirate(pirate(pirate))(5)\n"
   ]
  },
  {
   "cell_type": "code",
   "execution_count": null,
   "metadata": {},
   "outputs": [],
   "source": [
    "def foo(a=None):\n",
    "    if a is None:\n",
    "        a = []\n",
    "    return a\n",
    "b = foo()#[]不会共用\n",
    "print(b)\n",
    "b.append(1)\n",
    "print(b)\n",
    "c = foo()\n",
    "print(c)\n",
    "c.append(2)\n",
    "print(c)\n",
    "print(foo)\n",
    "d = foo(5)\n",
    "print(d)"
   ]
  },
  {
   "cell_type": "code",
   "execution_count": null,
   "metadata": {},
   "outputs": [
    {
     "data": {
      "text/plain": [
       "2"
      ]
     },
     "execution_count": 4,
     "metadata": {},
     "output_type": "execute_result"
    }
   ],
   "source": [
    "def horse(mask):\n",
    "    horse = mask\n",
    "    def mask(horse):\n",
    "        return horse\n",
    "    return horse(mask)\n",
    "mask = lambda horse : horse(2)\n",
    "horse(mask)"
   ]
  },
  {
   "cell_type": "code",
   "execution_count": null,
   "metadata": {},
   "outputs": [],
   "source": [
    "def is_prime(n):\n",
    "    m = n #每次递归都会被重新赋值 错\n",
    "    def help():\n",
    "        n-=1\n",
    "        if m % n != 0:\n",
    "            return help()\n",
    "        elif n == 1:\n",
    "            return True\n",
    "        else:\n",
    "            return False\n",
    "    return help(n-1)\n",
    "is_prime(16)"
   ]
  },
  {
   "cell_type": "markdown",
   "metadata": {},
   "source": [
    "def is_prime(n):\n",
    "    \"*** YOUR CODE HERE ***\"\n",
    "    def f(i):\n",
    "        if i==n or n==2:\n",
    "            return True\n",
    "        elif n % i == 0:\n",
    "            return False\n",
    "        else:\n",
    "            return f(i+1)\n",
    "    return f(2)"
   ]
  },
  {
   "cell_type": "code",
   "execution_count": null,
   "metadata": {},
   "outputs": [
    {
     "name": "stdout",
     "output_type": "stream",
     "text": [
      "<class 'int'>\n"
     ]
    }
   ],
   "source": [
    "print(type(1))"
   ]
  },
  {
   "cell_type": "code",
   "execution_count": null,
   "metadata": {},
   "outputs": [
    {
     "data": {
      "text/plain": [
       "0"
      ]
     },
     "execution_count": 40,
     "metadata": {},
     "output_type": "execute_result"
    }
   ],
   "source": [
    "0%8"
   ]
  },
  {
   "cell_type": "code",
   "execution_count": null,
   "metadata": {},
   "outputs": [
    {
     "data": {
      "text/plain": [
       "False"
      ]
     },
     "execution_count": 29,
     "metadata": {},
     "output_type": "execute_result"
    }
   ],
   "source": [
    "def has_seven(n):  #通过7则显示True\n",
    "    if n == 0:\n",
    "        return False\n",
    "    elif n % 10 == 7:\n",
    "        return True\n",
    "    else:\n",
    "        return has_seven(n // 10)\n",
    "has_seven(14)"
   ]
  },
  {
   "cell_type": "code",
   "execution_count": null,
   "metadata": {},
   "outputs": [
    {
     "name": "stdout",
     "output_type": "stream",
     "text": [
      "10\n",
      "5\n",
      "16\n",
      "8\n",
      "4\n",
      "2\n",
      "1\n"
     ]
    },
    {
     "data": {
      "text/plain": [
       "'只有当你在函数内部只是读取变量的值时，它才会按照作用域链去外层（包括全局帧）寻找变量的值。\\n但一旦涉及到对变量的赋值操作，就会在函数本地创建新的变量了'"
      ]
     },
     "execution_count": 27,
     "metadata": {},
     "output_type": "execute_result"
    }
   ],
   "source": [
    "\n",
    "def hailstone(n,i = 0):  #!!!!!!!!!!!!11\n",
    "    print(n)\n",
    "    if n % 2 == 0 and n !=1 :\n",
    "        return even(n)\n",
    "    elif n % 2 != 0 and n !=1:\n",
    "        return odd(n)\n",
    "    if n == 1:\n",
    "        return i+1\n",
    "    return i\n",
    "\n",
    "def even(n):\n",
    "    n = n//2\n",
    "    return hailstone(n,i+1)\n",
    "\n",
    "def odd(n):\n",
    "    n = n*3+1\n",
    "    return hailstone(n,i+1)\n",
    "b = hailstone(10)\n",
    "b\n",
    "'''只有当你在函数内部只是读取变量的值时，它才会按照作用域链去外层（包括全局帧）寻找变量的值。\n",
    "但一旦涉及到对变量的赋值操作，就会在函数本地创建新的变量了'''"
   ]
  },
  {
   "cell_type": "code",
   "execution_count": null,
   "metadata": {},
   "outputs": [
    {
     "ename": "NameError",
     "evalue": "name 'math' is not defined",
     "output_type": "error",
     "traceback": [
      "\u001b[1;31m---------------------------------------------------------------------------\u001b[0m",
      "\u001b[1;31mNameError\u001b[0m                                 Traceback (most recent call last)",
      "Cell \u001b[1;32mIn[43], line 1\u001b[0m\n\u001b[1;32m----> 1\u001b[0m \u001b[43mmath\u001b[49m\u001b[38;5;241m.\u001b[39mfloor(\u001b[38;5;241m45\u001b[39m)\n",
      "\u001b[1;31mNameError\u001b[0m: name 'math' is not defined"
     ]
    }
   ],
   "source": [
    "math.floor(45)"
   ]
  },
  {
   "cell_type": "code",
   "execution_count": null,
   "metadata": {},
   "outputs": [
    {
     "name": "stdout",
     "output_type": "stream",
     "text": [
      "2013 (2)\n",
      "201 (2)\n",
      "20 (2)\n",
      "2 (1)\n",
      "20 (3)\n",
      "201 (3)\n",
      "2013 (3)\n"
     ]
    }
   ],
   "source": [
    "def cascade(n):\n",
    "    \"\"\"打印数字 n 的前缀的级联\"\"\"\n",
    "    if n < 10:\n",
    "        print(n,'(1)')\n",
    "    else:\n",
    "        print(n,'(2)')\n",
    "        cascade(n//10)\n",
    "        print(n,'(3)')\n",
    "cascade(2013)"
   ]
  },
  {
   "cell_type": "markdown",
   "metadata": {},
   "source": [
    "注意递归结束前后打印情况"
   ]
  },
  {
   "cell_type": "code",
   "execution_count": 2,
   "metadata": {},
   "outputs": [
    {
     "ename": "ZeroDivisionError",
     "evalue": "division by zero",
     "output_type": "error",
     "traceback": [
      "\u001b[31m---------------------------------------------------------------------------\u001b[39m",
      "\u001b[31mZeroDivisionError\u001b[39m                         Traceback (most recent call last)",
      "\u001b[36mCell\u001b[39m\u001b[36m \u001b[39m\u001b[32mIn[2]\u001b[39m\u001b[32m, line 1\u001b[39m\n\u001b[32m----> \u001b[39m\u001b[32m1\u001b[39m \u001b[38;5;28;01mTrue\u001b[39;00m \u001b[38;5;129;01mand\u001b[39;00m \u001b[32;43m1\u001b[39;49m\u001b[43m \u001b[49m\u001b[43m/\u001b[49m\u001b[43m \u001b[49m\u001b[32;43m0\u001b[39;49m \n",
      "\u001b[31mZeroDivisionError\u001b[39m: division by zero"
     ]
    }
   ],
   "source": [
    "True and 1 / 0 "
   ]
  },
  {
   "cell_type": "code",
   "execution_count": null,
   "metadata": {},
   "outputs": [],
   "source": [
    "True or 1 / 0"
   ]
  },
  {
   "cell_type": "code",
   "execution_count": null,
   "metadata": {},
   "outputs": [],
   "source": [
    "-1"
   ]
  },
  {
   "cell_type": "code",
   "execution_count": 7,
   "metadata": {},
   "outputs": [
    {
     "data": {
      "text/plain": [
       "0"
      ]
     },
     "execution_count": 7,
     "metadata": {},
     "output_type": "execute_result"
    }
   ],
   "source": [
    "False or 0"
   ]
  },
  {
   "cell_type": "code",
   "execution_count": 6,
   "metadata": {},
   "outputs": [
    {
     "data": {
      "text/plain": [
       "True"
      ]
     },
     "execution_count": 6,
     "metadata": {},
     "output_type": "execute_result"
    }
   ],
   "source": [
    "-1 and 1 > 0"
   ]
  },
  {
   "cell_type": "code",
   "execution_count": null,
   "metadata": {},
   "outputs": [
    {
     "name": "stdout",
     "output_type": "stream",
     "text": [
      "3\n"
     ]
    },
    {
     "data": {
      "text/plain": [
       "''"
      ]
     },
     "execution_count": 5,
     "metadata": {},
     "output_type": "execute_result"
    }
   ],
   "source": [
    "print(3) or \"\""
   ]
  },
  {
   "cell_type": "markdown",
   "metadata": {},
   "source": [
    "所以在 print(3) or \"\" 这个表达式中，首先会执行 print(3) ，它会在控制台输出 3 ，同时 print 函数本身返回 None ，但因为 or 已经先遇到了前面为真的 3 （这里先执行 print(3) 输出了 3 ），就直接返回 3 了，所以最终结果就是输出 3 并返回 3 。总结：print(3) or \"\" 表达式最终返回的是 \"\",首先会执行 print(3) ，它会在控制台输出 3   "
   ]
  },
  {
   "cell_type": "code",
   "execution_count": null,
   "metadata": {},
   "outputs": [],
   "source": [
    "-1 and 1 > 0 "
   ]
  },
  {
   "cell_type": "code",
   "execution_count": null,
   "metadata": {},
   "outputs": [
    {
     "ename": "",
     "evalue": "",
     "output_type": "error",
     "traceback": [
      "\u001b[1;31m运行具有“.venv (Python 3.13.2)”的单元格需要ipykernel包。\n",
      "\u001b[1;31m运行以下命令，将 \"ipykernel\" 安装到 Python 环境中。\n",
      "\u001b[1;31m命令: \"d:/programming/VScode/storage/.venv/Scripts/python.exe -m pip install ipykernel -U --force-reinstall\""
     ]
    }
   ],
   "source": [
    "True and 13"
   ]
  },
  {
   "cell_type": "code",
   "execution_count": 1,
   "metadata": {},
   "outputs": [
    {
     "name": "stdout",
     "output_type": "stream",
     "text": [
      "d\n"
     ]
    }
   ],
   "source": [
    "s = 'hello world'\n",
    "print(s[-1])"
   ]
  },
  {
   "cell_type": "code",
   "execution_count": null,
   "metadata": {},
   "outputs": [
    {
     "name": "stdout",
     "output_type": "stream",
     "text": [
      "1\n",
      "beets\n",
      "2\n",
      "3\n",
      "sweets\n",
      "4\n",
      "sweets\n",
      "5\n"
     ]
    },
    {
     "data": {
      "text/plain": [
       "<function __main__.cake.<locals>.pie()>"
      ]
     },
     "execution_count": 55,
     "metadata": {},
     "output_type": "execute_result"
    }
   ],
   "source": [
    "def cake():\n",
    "   print('beets')\n",
    "   def pie():\n",
    "       print('sweets')\n",
    "       return 'cake'\n",
    "   return pie\n",
    "print(1)\n",
    "chocolate = cake()\n",
    "print(2)\n",
    "chocolate\n",
    "print(3)\n",
    "chocolate()\n",
    "print(4)\n",
    "more_chocolate, more_cake = chocolate(), cake\n",
    "print(5)\n",
    "more_chocolate\n",
    "def snake(x, y):\n",
    "    if cake == more_cake:\n",
    "        return chocolate\n",
    "    else:\n",
    "        return x + y\n",
    "snake(10, 20)\n"
   ]
  },
  {
   "cell_type": "code",
   "execution_count": null,
   "metadata": {},
   "outputs": [
    {
     "data": {
      "text/plain": [
       "<function __main__.<lambda>.<locals>.<lambda>()>"
      ]
     },
     "execution_count": 59,
     "metadata": {},
     "output_type": "execute_result"
    }
   ],
   "source": [
    "b = lambda x, y: lambda: x + y # Lambdas can return other lambdas!\n",
    "c = b(8, 4)\n",
    "c"
   ]
  },
  {
   "cell_type": "code",
   "execution_count": null,
   "metadata": {},
   "outputs": [
    {
     "ename": "TypeError",
     "evalue": "'int' object is not callable",
     "output_type": "error",
     "traceback": [
      "\u001b[1;31m---------------------------------------------------------------------------\u001b[0m",
      "\u001b[1;31mTypeError\u001b[0m                                 Traceback (most recent call last)",
      "Cell \u001b[1;32mIn[60], line 3\u001b[0m\n\u001b[0;32m      1\u001b[0m higher_order_lambda \u001b[38;5;241m=\u001b[39m \u001b[38;5;28;01mlambda\u001b[39;00m f: \u001b[38;5;28;01mlambda\u001b[39;00m x: f(x)\n\u001b[0;32m      2\u001b[0m g \u001b[38;5;241m=\u001b[39m \u001b[38;5;28;01mlambda\u001b[39;00m x: x \u001b[38;5;241m*\u001b[39m x\n\u001b[1;32m----> 3\u001b[0m \u001b[43mhigher_order_lambda\u001b[49m\u001b[43m(\u001b[49m\u001b[38;5;241;43m2\u001b[39;49m\u001b[43m)\u001b[49m\u001b[43m(\u001b[49m\u001b[43mg\u001b[49m\u001b[43m)\u001b[49m \n",
      "Cell \u001b[1;32mIn[60], line 1\u001b[0m, in \u001b[0;36m<lambda>\u001b[1;34m(x)\u001b[0m\n\u001b[1;32m----> 1\u001b[0m higher_order_lambda \u001b[38;5;241m=\u001b[39m \u001b[38;5;28;01mlambda\u001b[39;00m f: \u001b[38;5;28;01mlambda\u001b[39;00m x: \u001b[43mf\u001b[49m\u001b[43m(\u001b[49m\u001b[43mx\u001b[49m\u001b[43m)\u001b[49m\n\u001b[0;32m      2\u001b[0m g \u001b[38;5;241m=\u001b[39m \u001b[38;5;28;01mlambda\u001b[39;00m x: x \u001b[38;5;241m*\u001b[39m x\n\u001b[0;32m      3\u001b[0m higher_order_lambda(\u001b[38;5;241m2\u001b[39m)(g) \n",
      "\u001b[1;31mTypeError\u001b[0m: 'int' object is not callable"
     ]
    }
   ],
   "source": [
    "higher_order_lambda = lambda f: lambda x: f(x)\n",
    "g = lambda x: x * x\n",
    "higher_order_lambda(2)(g) "
   ]
  },
  {
   "cell_type": "code",
   "execution_count": null,
   "metadata": {},
   "outputs": [
    {
     "data": {
      "text/plain": [
       "3"
      ]
     },
     "execution_count": 58,
     "metadata": {},
     "output_type": "execute_result"
    }
   ],
   "source": [
    "(lambda: 3)() "
   ]
  },
  {
   "cell_type": "code",
   "execution_count": 4,
   "metadata": {},
   "outputs": [
    {
     "name": "stdout",
     "output_type": "stream",
     "text": [
      "3\n"
     ]
    }
   ],
   "source": [
    "s = {}\n",
    "s['a'] = 1\n",
    "s['b'] = 2\n",
    "s['c'] = 3\n",
    "print(len(s))\n"
   ]
  },
  {
   "cell_type": "code",
   "execution_count": null,
   "metadata": {},
   "outputs": [
    {
     "data": {
      "text/plain": [
       "3"
      ]
     },
     "execution_count": 1,
     "metadata": {},
     "output_type": "execute_result"
    }
   ],
   "source": [
    "# 示例 1：正数求模\n",
    "result1 = 10 % 3\n",
    "print(result1)  # 输出: 1，因为 10 除以 3 商 3 余 1\n",
    "\n",
    "# 示例 2：负数求模 向下取整\n",
    "result2 = -10 % 3\n",
    "print(result2)  # 输出: 2，在 Python 中 -10 除以 3 商 -4 余 2\n",
    "\n",
    "# 示例 3：除数为负数\n",
    "result3 = 10 % -3\n",
    "print(result3)  # 输出: -2，10 除以 -3 商 -4 余 -2"
   ]
  },
  {
   "cell_type": "markdown",
   "metadata": {},
   "source": [
    "# 数学上取模运算的定义\n",
    "对于两个整数 a 和 b（b 不为 0），取模运算 a % b 可以通过以下公式来理解：\n",
    "设 a = q * b + r，其中 q 是商，r 是余数，且满足 0 <= r < |b|（当 b 为正数时，0 <= r < b）。取模运算的目的就是求出余数 r。\n",
    "# Python 中取模运算的规则\n",
    "在 Python 里，取模运算的结果的符号总是和除数 b 的符号相同。当计算 a % b 时，Python 会先确定商 q，商 q 的取值会使得余数 r 满足上述的取值范围（0 <= r < |b|）。"
   ]
  },
  {
   "cell_type": "code",
   "execution_count": null,
   "metadata": {},
   "outputs": [
    {
     "data": {
      "text/plain": [
       "3"
      ]
     },
     "execution_count": 61,
     "metadata": {},
     "output_type": "execute_result"
    }
   ],
   "source": [
    "call_thrice = lambda f: lambda x: f(f(f(x)))\n",
    "call_thrice(lambda y: y + 1)(0)"
   ]
  },
  {
   "cell_type": "code",
   "execution_count": 3,
   "metadata": {},
   "outputs": [
    {
     "name": "stdout",
     "output_type": "stream",
     "text": [
      "hello world \n"
     ]
    }
   ],
   "source": [
    "s = 'hello world'\n",
    "s = s+' '\n",
    "print(s)\n"
   ]
  },
  {
   "cell_type": "markdown",
   "metadata": {},
   "source": [
    "当执行到 chocolate = cake() 这一步时，如前面所说，它会先打印出“beets”，然后把 pie() 函数“交给”了 chocolate （此时 chocolate 就相当于 pie() 函数了）。\n",
    " \n",
    "但 pie() 函数里面的代码还没有真正执行哦，要想让 pie() 函数里的 print('sweets') 被执行，就得去调用 pie() 函数呀。\n",
    " \n",
    "现在因为 chocolate 就是 pie() 函数的“化身”啦，所以我们要调用 pie() 函数，就可以写成 chocolate() 这样。\n"
   ]
  },
  {
   "cell_type": "code",
   "execution_count": null,
   "metadata": {},
   "outputs": [],
   "source": [
    "compose1 = lambda f,g: lambda x: f(g(x))"
   ]
  },
  {
   "cell_type": "code",
   "execution_count": null,
   "metadata": {},
   "outputs": [],
   "source": [
    "def map_to_range(start, end, f):\n",
    "    while start < end:\n",
    "        print(f(start))\n",
    "        start = start + 1\n",
    "print(map_to_range(0, 10, curried_pow(2)))"
   ]
  },
  {
   "cell_type": "code",
   "execution_count": 3,
   "metadata": {},
   "outputs": [
    {
     "name": "stdout",
     "output_type": "stream",
     "text": [
      "2\n"
     ]
    }
   ],
   "source": [
    "s = [1,1,2]\n",
    "print(s[-1])"
   ]
  },
  {
   "cell_type": "code",
   "execution_count": null,
   "metadata": {},
   "outputs": [
    {
     "ename": "SyntaxError",
     "evalue": "invalid syntax (2489680904.py, line 4)",
     "output_type": "error",
     "traceback": [
      "\u001b[1;36m  Cell \u001b[1;32mIn[40], line 4\u001b[1;36m\u001b[0m\n\u001b[1;33m    5 in s[][] #False\u001b[0m\n\u001b[1;37m           ^\u001b[0m\n\u001b[1;31mSyntaxError\u001b[0m\u001b[1;31m:\u001b[0m invalid syntax\n"
     ]
    }
   ],
   "source": [
    "s = [1,2,[3,4,[5,6]]]\n",
    "#2 in s #True\n",
    "#3 in s False\n",
    "5 in s #False"
   ]
  },
  {
   "cell_type": "code",
   "execution_count": null,
   "metadata": {},
   "outputs": [],
   "source": [
    "def add(a,s):\n",
    "    print(a+s)\n",
    "z = 2\n",
    "x = 6\n",
    "add(z,x)\n",
    "add(a = z,s = x)\n",
    "print(z,x,a,s)\n"
   ]
  },
  {
   "cell_type": "code",
   "execution_count": null,
   "metadata": {},
   "outputs": [],
   "source": [
    "for i in range(0,1):\n",
    "    print(2)"
   ]
  },
  {
   "cell_type": "code",
   "execution_count": null,
   "metadata": {},
   "outputs": [],
   "source": [
    "def compose1(f, g):\n",
    "    return lambda x: f(g(x))#该函数接受一个参数 x，首先对 x 应用函数 g，然后将 g(x) 的结果作为参数传递给函数 f。\n",
    "f = compose1(lambda x: x * x,lambda y: y + 1)#g 是 lambda y: y + 1，而 f 是 lambda x: x * x\n",
    "f(12)#lambda x: f(g(x))\n",
    "#compose1(f = lambda x: x * x,g = lambda y: y + 1,lambda x: x * x( y + 1(x)) y = g(x)"
   ]
  },
  {
   "cell_type": "code",
   "execution_count": null,
   "metadata": {},
   "outputs": [],
   "source": [
    "def curried_pow(x):\n",
    "    def g(z):\n",
    "        def h(y):\n",
    "            return pow(x,y,z)\n",
    "        return h\n",
    "    return g\n",
    "curried_pow(2)(4)(2)\n"
   ]
  },
  {
   "cell_type": "markdown",
   "metadata": {},
   "source": [
    "^类型错误：curried_pow()函数接受 1 个位置参数，但给出了 2 个。curried_pow(2,4)"
   ]
  },
  {
   "cell_type": "code",
   "execution_count": null,
   "metadata": {},
   "outputs": [],
   "source": [
    "def square_root_newton(a):\n",
    "    def f(x):\n",
    "        return x * x - a\n",
    "    def df(x):\n",
    "        return 2 * x\n",
    "    return f, df\n",
    "square_root_newton(64)\n",
    "\n"
   ]
  },
  {
   "cell_type": "code",
   "execution_count": null,
   "metadata": {},
   "outputs": [],
   "source": [
    "def newton_update(f, df):\n",
    "    def update(x):\n",
    "        return x - f(x) / df(x)\n",
    "    return update\n",
    "\n",
    "\n",
    "def find_zero(f, df):\n",
    "    def near_zero(x):\n",
    "        return approx_eq(f(x), 0)\n",
    "    return improve(newton_update(f, df), near_zero)"
   ]
  },
  {
   "cell_type": "code",
   "execution_count": 3,
   "metadata": {},
   "outputs": [
    {
     "ename": "IndexError",
     "evalue": "list index out of range",
     "output_type": "error",
     "traceback": [
      "\u001b[31m---------------------------------------------------------------------------\u001b[39m",
      "\u001b[31mIndexError\u001b[39m                                Traceback (most recent call last)",
      "\u001b[36mCell\u001b[39m\u001b[36m \u001b[39m\u001b[32mIn[3]\u001b[39m\u001b[32m, line 3\u001b[39m\n\u001b[32m      1\u001b[39m s = [\u001b[32m1\u001b[39m, \u001b[32m2\u001b[39m, \u001b[32m3\u001b[39m, \u001b[32m4\u001b[39m, \u001b[32m5\u001b[39m]\n\u001b[32m      2\u001b[39m d =[]\n\u001b[32m----> \u001b[39m\u001b[32m3\u001b[39m \u001b[38;5;28mprint\u001b[39m(\u001b[43md\u001b[49m\u001b[43m[\u001b[49m\u001b[32;43m0\u001b[39;49m\u001b[43m]\u001b[49m)\n",
      "\u001b[31mIndexError\u001b[39m: list index out of range"
     ]
    }
   ],
   "source": [
    "s = [1, 2, 3, 4, 5]\n",
    "d =[]\n",
    "print(d[0])"
   ]
  },
  {
   "cell_type": "code",
   "execution_count": null,
   "metadata": {},
   "outputs": [],
   "source": [
    "def power(x, n):\n",
    "    \"\"\"返回 x * x * x * ... * x，n 个 x 相乘\"\"\"\n",
    "    product, k = 1, 0\n",
    "    while k < n:\n",
    "        product, k = product * x, k + 1\n",
    "    return product\n",
    "\n",
    "def nth_root_of_a(n, a):\n",
    "    def f(x):\n",
    "        return power(x, n) - a\n",
    "    def df(x):\n",
    "        return n * power(x, n-1)\n",
    "    return find_zero(f, df)\n",
    "\n",
    "def find_zero(f, df):\n",
    "    def near_zero(x):\n",
    "        return approx_eq(f(x), 0)\n",
    "    return improve(newton_update(f, df), near_zero)\n",
    "\n",
    "nth_root_of_a(2, 64)\n"
   ]
  },
  {
   "cell_type": "code",
   "execution_count": null,
   "metadata": {},
   "outputs": [],
   "source": [
    "print(\"Hello, world!\")\n",
    "print('f')"
   ]
  },
  {
   "cell_type": "code",
   "execution_count": null,
   "metadata": {},
   "outputs": [],
   "source": [
    "n = 1//10\n",
    "print(n)"
   ]
  },
  {
   "cell_type": "code",
   "execution_count": null,
   "metadata": {},
   "outputs": [],
   "source": [
    "a=5\n",
    "s=6\n",
    "d=1\n",
    "a+s+d"
   ]
  },
  {
   "cell_type": "code",
   "execution_count": null,
   "metadata": {},
   "outputs": [],
   "source": [
    "\n",
    "a=5\n",
    "s=6\n",
    "d=1\n",
    "a+s+d\n",
    "a=-9\n",
    "a+s+d"
   ]
  },
  {
   "cell_type": "code",
   "execution_count": null,
   "metadata": {},
   "outputs": [],
   "source": [
    "hei = eval(input(\" \"))\n",
    "wei = eval(input(\" \"))\n",
    "BMI = wei /(hei ** 2)\n",
    "if BMI < 18.5:\n",
    "    print(\"偏廋\")\n",
    "elif 18.5 <= BMI <24 :\n",
    "    print(\"正常\")\n",
    "elif  24 <= BMI < 28:\n",
    "    print(\"偏胖\")\n",
    "else: \n",
    "    print(\"肥胖\")        "
   ]
  },
  {
   "cell_type": "code",
   "execution_count": null,
   "metadata": {},
   "outputs": [],
   "source": [
    "f = min \n",
    "f = max\n",
    "g,h = min,max\n",
    "max = g\n",
    "max(f(2,g(h(1,5),3)),4)"
   ]
  },
  {
   "cell_type": "code",
   "execution_count": 2,
   "metadata": {},
   "outputs": [
    {
     "name": "stdout",
     "output_type": "stream",
     "text": [
      "False\n"
     ]
    }
   ],
   "source": [
    "class Solution(object):\n",
    "    def isUgly(self, n):\n",
    "        \"\"\"\n",
    "        :type n: int\n",
    "        :rtype: bool\n",
    "        \"\"\"\n",
    "        m = [2,3,5]\n",
    "        if n / 2 in m or n /5 in m  or n /3 in m :\n",
    "            return True\n",
    "        return False\n",
    "n = Solution()\n",
    "print(n.isUgly(14))"
   ]
  },
  {
   "cell_type": "code",
   "execution_count": null,
   "metadata": {},
   "outputs": [],
   "source": [
    "print(\"ptint(1),print(2)\")"
   ]
  },
  {
   "cell_type": "code",
   "execution_count": null,
   "metadata": {},
   "outputs": [],
   "source": [
    "print(ptint(1),print(2))"
   ]
  },
  {
   "cell_type": "code",
   "execution_count": null,
   "metadata": {},
   "outputs": [],
   "source": [
    "print(print(1),print(2))"
   ]
  },
  {
   "cell_type": "code",
   "execution_count": null,
   "metadata": {},
   "outputs": [],
   "source": [
    "10%3"
   ]
  },
  {
   "cell_type": "code",
   "execution_count": null,
   "metadata": {},
   "outputs": [],
   "source": [
    "x = -6\n",
    "assert x > 0, \"x 应该是一个正数\"\n"
   ]
  },
  {
   "cell_type": "code",
   "execution_count": null,
   "metadata": {},
   "outputs": [],
   "source": [
    "def square(x):\n",
    "        return mul(x, x)\n",
    "def mul(x, y):\n",
    "        return x * y\n",
    "print(square(3))\n"
   ]
  },
  {
   "cell_type": "code",
   "execution_count": null,
   "metadata": {},
   "outputs": [],
   "source": [
    "\n",
    "def square(x):\n",
    "    return mul(x, x-1) + x\n",
    "def mul(x, y):\n",
    "    return x * y\n",
    "print(square(3))"
   ]
  },
  {
   "cell_type": "code",
   "execution_count": null,
   "metadata": {},
   "outputs": [],
   "source": [
    "-5//4"
   ]
  },
  {
   "cell_type": "code",
   "execution_count": null,
   "metadata": {},
   "outputs": [],
   "source": [
    "5//4"
   ]
  },
  {
   "cell_type": "code",
   "execution_count": null,
   "metadata": {},
   "outputs": [],
   "source": [
    "def square(x):\n",
    "    return mul(x, x) \n",
    "print(square(3))"
   ]
  },
  {
   "cell_type": "code",
   "execution_count": null,
   "metadata": {},
   "outputs": [],
   "source": [
    "print(pow(5,2,5))"
   ]
  },
  {
   "cell_type": "code",
   "execution_count": null,
   "metadata": {},
   "outputs": [],
   "source": [
    "print(pow(5,2,4))"
   ]
  },
  {
   "cell_type": "code",
   "execution_count": null,
   "metadata": {},
   "outputs": [],
   "source": [
    "print(pow(5,2,0))"
   ]
  },
  {
   "cell_type": "code",
   "execution_count": null,
   "metadata": {},
   "outputs": [],
   "source": [
    "def print_square(x):\n",
    "    print(square(x))"
   ]
  },
  {
   "cell_type": "code",
   "execution_count": null,
   "metadata": {},
   "outputs": [],
   "source": [
    "def welcome():\n",
    "     print('Go')\n",
    "     return 'hello'\n",
    "welcome()"
   ]
  },
  {
   "cell_type": "code",
   "execution_count": null,
   "metadata": {},
   "outputs": [],
   "source": [
    "def cal():\n",
    "    print('Bears')\n",
    "    return 'world'\n",
    "print(cal())"
   ]
  },
  {
   "cell_type": "code",
   "execution_count": null,
   "metadata": {},
   "outputs": [],
   "source": [
    "def count_characters(s):\n",
    "    return len(s)\n",
    "\n",
    "string = \"Hello,World!\"\n",
    "print(count_characters(string))  # 输出 13\n"
   ]
  },
  {
   "cell_type": "code",
   "execution_count": 5,
   "metadata": {},
   "outputs": [
    {
     "data": {
      "text/plain": [
       "False"
      ]
     },
     "execution_count": 5,
     "metadata": {},
     "output_type": "execute_result"
    }
   ],
   "source": [
    "0%3 == int"
   ]
  },
  {
   "cell_type": "code",
   "execution_count": null,
   "metadata": {},
   "outputs": [],
   "source": [
    "def digit(n, k):\n",
    "    \"\"\"Return the digit that is k from the right of n for positive integers n and k.\n",
    "\n",
    "    >>> digit(3579, 2)\n",
    "    5\n",
    "    >>> digit(3579, 0)\n",
    "    9\n",
    "    >>> digit(3579, 10)\n",
    "    0\n",
    "    \"\"\"\n",
    "    return (n // 10**k) % 10 if k > 0 else n % 10\n"
   ]
  },
  {
   "cell_type": "code",
   "execution_count": null,
   "metadata": {},
   "outputs": [],
   "source": [
    "1%10"
   ]
  },
  {
   "cell_type": "code",
   "execution_count": null,
   "metadata": {},
   "outputs": [],
   "source": [
    "1%100"
   ]
  },
  {
   "cell_type": "code",
   "execution_count": null,
   "metadata": {},
   "outputs": [],
   "source": [
    "1%10000"
   ]
  },
  {
   "cell_type": "code",
   "execution_count": null,
   "metadata": {},
   "outputs": [],
   "source": [
    "10**10"
   ]
  },
  {
   "cell_type": "code",
   "execution_count": null,
   "metadata": {},
   "outputs": [],
   "source": [
    "3579//10**10"
   ]
  },
  {
   "cell_type": "code",
   "execution_count": null,
   "metadata": {},
   "outputs": [],
   "source": [
    "def middle(a, b, c):\n",
    "    \"\"\"Return the number among a, b, and c that is not the smallest or largest.\n",
    "    Assume a, b, and c are all different numbers.\n",
    "\n",
    "    >>> middle(3, 5, 4)\n",
    "    4\n",
    "    >>> middle(30, 5, 4)\n",
    "    5\n",
    "    >>> middle(3, 5, 40)\n",
    "    5\n",
    "    >>> middle(3, 5, 40)\n",
    "    5\n",
    "    >>> middle(30, 5, 40)\n",
    "    30\n",
    "    \"\"\"\n",
    "    return a+b+c-max(a,b,c)-min(a,b,c)\n",
    "middle(30, 5, 40)"
   ]
  },
  {
   "cell_type": "code",
   "execution_count": null,
   "metadata": {},
   "outputs": [],
   "source": [
    "def falling(n, k):\n",
    "    \"\"\"Compute the falling factorial of n to depth k.\n",
    "\n",
    "    >>> falling(6, 3)  # 6 * 5 * 4\n",
    "    120\n",
    "    >>> falling(4, 3)  # 4 * 3 * 2\n",
    "    24\n",
    "    >>> falling(4, 1)  # 4\n",
    "    4\n",
    "    >>> falling(4, 0)\n",
    "    1\n",
    "    \"\"\"\n",
    "    \"*** YOUR CODE HERE ***\"\n",
    "    if k == 0:\n",
    "        return 1\n",
    "    else:\n",
    "        num=n\n",
    "        for i in range(n-k+1,n):\n",
    "            i=i*num\n",
    "        return i\n",
    "falling(4,3)\n"
   ]
  },
  {
   "cell_type": "code",
   "execution_count": null,
   "metadata": {},
   "outputs": [],
   "source": [
    "def ab(c, d):\n",
    "    if c > 5:\n",
    "        print(c)\n",
    "    elif c > 7:\n",
    "        print(d)\n",
    "    print('foo')\n",
    "ab(10, 20)"
   ]
  },
  {
   "cell_type": "code",
   "execution_count": 10,
   "metadata": {},
   "outputs": [
    {
     "name": "stdout",
     "output_type": "stream",
     "text": [
      "1\n"
     ]
    }
   ],
   "source": [
    "def n(num):\n",
    "    num = 1\n",
    "    nn(num)\n",
    "    return num\n",
    "def nn(num):\n",
    "    num = 2\n",
    "    return num\n",
    "print(n(1))"
   ]
  },
  {
   "cell_type": "markdown",
   "metadata": {},
   "source": [
    "为什么num不等于2?\n",
    "因为 nn 函数里对 num 的修改不会影响到 n 函数里的 num"
   ]
  },
  {
   "cell_type": "code",
   "execution_count": null,
   "metadata": {},
   "outputs": [],
   "source": [
    "def bake(cake, make):\n",
    "    if cake == 0:\n",
    "        cake = cake + 1\n",
    "        print(cake)\n",
    "    elif cake == 1:\n",
    "        print(make)\n",
    "    else:\n",
    "        return cake\n",
    "    return make\n",
    "\n",
    "bake(0, 29)#1,29\n"
   ]
  }
 ],
 "metadata": {
  "kernelspec": {
   "display_name": ".venv",
   "language": "python",
   "name": "python3"
  },
  "language_info": {
   "codemirror_mode": {
    "name": "ipython",
    "version": 3
   },
   "file_extension": ".py",
   "mimetype": "text/x-python",
   "name": "python",
   "nbconvert_exporter": "python",
   "pygments_lexer": "ipython3",
   "version": "3.13.3"
  }
 },
 "nbformat": 4,
 "nbformat_minor": 2
}
