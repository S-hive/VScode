{
 "cells": [
  {
   "cell_type": "code",
   "execution_count": 2,
   "id": "740dfacc",
   "metadata": {},
   "outputs": [
    {
     "name": "stdout",
     "output_type": "stream",
     "text": [
      "[1, 2, 3]/[4, 5, 6]\n"
     ]
    }
   ],
   "source": [
    "s1 = [1,2,3]\n",
    "s2 = [4,5,6]\n",
    "print(s1,s2,sep = \"/\")"
   ]
  },
  {
   "cell_type": "code",
   "execution_count": 7,
   "id": "f0d0ee81",
   "metadata": {},
   "outputs": [
    {
     "name": "stdout",
     "output_type": "stream",
     "text": [
      "[[1, 2, 3, 4, 54]]\n",
      "False\n",
      "True\n",
      "True\n"
     ]
    }
   ],
   "source": [
    "cur = [1,2,3,4,54]\n",
    "res = []\n",
    "res.append(cur)\n",
    "print(res)\n",
    "print([1,2,3]in res)\n",
    "print([1,2,3,4,54]in res)\n",
    "print(cur in res)"
   ]
  },
  {
   "cell_type": "code",
   "execution_count": 4,
   "id": "4d105a22",
   "metadata": {},
   "outputs": [
    {
     "name": "stdout",
     "output_type": "stream",
     "text": [
      "[<__main__.Solution.Triple object at 0x0000029E2910A0D0>, <__main__.Solution.Triple object at 0x0000029E29109F90>, <__main__.Solution.Triple object at 0x0000029E2913FA10>, <__main__.Solution.Triple object at 0x0000029E29243820>, <__main__.Solution.Triple object at 0x0000029E292436F0>]\n"
     ]
    }
   ],
   "source": [
    "import collections\n",
    "\n",
    "# 定义 TreeNode 类\n",
    "class TreeNode:\n",
    "    def __init__(self, val=0, left=None, right=None):\n",
    "        self.val = val\n",
    "        self.left = left\n",
    "        self.right = right\n",
    "\n",
    "class Solution:\n",
    "    # 记录每个节点和对应的坐标 (row, col)\n",
    "    class Triple:\n",
    "        def __init__(self, node, row, col):\n",
    "            self.node = node\n",
    "            self.row = row\n",
    "            self.col = col\n",
    "\n",
    "    def verticalTraversal(self, root: TreeNode):\n",
    "        # 遍历二叉树，并且为所有节点生成对应的坐标\n",
    "        self.traverse(root, 0, 0)\n",
    "        # 根据题意，根据坐标值对所有节点进行排序：\n",
    "        # 按照 col 从小到大排序，col 相同的话按 row 从小到大排序，\n",
    "        # 如果 col 和 row 都相同，按照 node.val 从小到大排序。\n",
    "        self.nodes.sort(key=lambda x: (x.col, x.row, x.node.val))\n",
    "        print(self.nodes)\n",
    "        return \n",
    "\n",
    "    def __init__(self):\n",
    "        self.nodes = []\n",
    "\n",
    "    # 二叉树遍历函数，记录所有节点对应的坐标\n",
    "    def traverse(self, root: TreeNode, row: int, col: int):\n",
    "        if root is None:\n",
    "            return\n",
    "        # 记录坐标\n",
    "        self.nodes.append(self.Triple(root, row, col))\n",
    "        # 二叉树遍历框架\n",
    "        self.traverse(root.left, row + 1, col - 1)\n",
    "        self.traverse(root.right, row + 1, col + 1)\n",
    "root = TreeNode(1)\n",
    "root.left = TreeNode(2)\n",
    "root.right = TreeNode(3)\n",
    "root.left.left = TreeNode(4)\n",
    "root.left.right = TreeNode(5)\n",
    "\n",
    "# 创建 Solution 实例\n",
    "solution = Solution()\n",
    "# 调用 verticalTraversal 方法\n",
    "result = solution.verticalTraversal(root)"
   ]
  },
  {
   "cell_type": "code",
   "execution_count": 2,
   "id": "edf5c08a",
   "metadata": {},
   "outputs": [
    {
     "name": "stdout",
     "output_type": "stream",
     "text": [
      "Hello\n"
     ]
    }
   ],
   "source": [
    "s = ''\n",
    "s += 'Hello'\n",
    "print(s)\n"
   ]
  },
  {
   "cell_type": "code",
   "execution_count": 6,
   "id": "7094bc4b",
   "metadata": {},
   "outputs": [
    {
     "name": "stdout",
     "output_type": "stream",
     "text": [
      "False\n"
     ]
    }
   ],
   "source": [
    "res = False\n",
    "if res:\n",
    "    print(\"True\")\n",
    "else:\n",
    "    print(\"False\")"
   ]
  },
  {
   "cell_type": "code",
   "execution_count": 3,
   "id": "7f5fde5c",
   "metadata": {},
   "outputs": [
    {
     "name": "stdout",
     "output_type": "stream",
     "text": [
      "[0, 0, 0, 0, 0]\n"
     ]
    }
   ],
   "source": [
    "num = [0]*5\n",
    "print(num)"
   ]
  },
  {
   "cell_type": "code",
   "execution_count": 1,
   "id": "42d76d33",
   "metadata": {},
   "outputs": [
    {
     "name": "stdout",
     "output_type": "stream",
     "text": [
      "[0]\n"
     ]
    }
   ],
   "source": [
    "s = []\n",
    "s.insert(3,0)\n",
    "print(s)"
   ]
  },
  {
   "cell_type": "code",
   "execution_count": null,
   "id": "58b86b5f",
   "metadata": {},
   "outputs": [
    {
     "name": "stdout",
     "output_type": "stream",
     "text": [
      "[[0, 0, 0, 0, 0, 0, 0, 0, 0, 0]]\n"
     ]
    },
    {
     "ename": "",
     "evalue": "",
     "output_type": "error",
     "traceback": [
      "\u001b[1;31m在当前单元格或上一个单元格中执行代码时 Kernel 崩溃。\n",
      "\u001b[1;31m请查看单元格中的代码，以确定故障的可能原因。\n",
      "\u001b[1;31m单击<a href='https://aka.ms/vscodeJupyterKernelCrash'>此处</a>了解详细信息。\n",
      "\u001b[1;31m有关更多详细信息，请查看 Jupyter <a href='command:jupyter.viewOutput'>log</a>。"
     ]
    }
   ],
   "source": [
    "res = [[0]* 10]\n",
    "print(res)"
   ]
  },
  {
   "cell_type": "markdown",
   "id": "b80cfe64",
   "metadata": {},
   "source": [
    "python集合如何删除值\n",
    "1. 使用 remove() 方法\n",
    "remove() 方法能够移除集合中指定的值。若该值不存在于集合中，会抛出 KeyError 异常。\n",
    "2. 使用 discard() 方法\n",
    "discard() 方法同样可以移除集合中指定的值。但和 remove() 方法不同的是，若该值不存在于集合中，discard() 方法不会抛出异常。"
   ]
  }
 ],
 "metadata": {
  "kernelspec": {
   "display_name": ".venv",
   "language": "python",
   "name": "python3"
  },
  "language_info": {
   "codemirror_mode": {
    "name": "ipython",
    "version": 3
   },
   "file_extension": ".py",
   "mimetype": "text/x-python",
   "name": "python",
   "nbconvert_exporter": "python",
   "pygments_lexer": "ipython3",
   "version": "3.13.3"
  }
 },
 "nbformat": 4,
 "nbformat_minor": 5
}
